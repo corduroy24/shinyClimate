{
 "cells": [
  {
   "cell_type": "markdown",
   "metadata": {},
   "source": [
    "# Data Cleaning with R "
   ]
  },
  {
   "cell_type": "markdown",
   "metadata": {},
   "source": [
    "### We begin by determining the best way to import the file (s). Upon opening the actual txt file, we discover the file is delimited (seperated by commas and tabs)."
   ]
  },
  {
   "cell_type": "code",
   "execution_count": 1,
   "metadata": {
    "scrolled": true
   },
   "outputs": [
    {
     "name": "stderr",
     "output_type": "stream",
     "text": [
      "Warning message:\n",
      "\"package 'tidyverse' was built under R version 3.6.3\"-- Attaching packages --------------------------------------- tidyverse 1.3.0 --\n",
      "v ggplot2 3.2.1     v purrr   0.3.3\n",
      "v tibble  2.1.3     v dplyr   0.8.3\n",
      "v tidyr   1.0.0     v stringr 1.4.0\n",
      "v readr   1.3.1     v forcats 0.5.0\n",
      "Warning message:\n",
      "\"package 'ggplot2' was built under R version 3.6.2\"Warning message:\n",
      "\"package 'stringr' was built under R version 3.6.2\"Warning message:\n",
      "\"package 'forcats' was built under R version 3.6.3\"-- Conflicts ------------------------------------------ tidyverse_conflicts() --\n",
      "x dplyr::filter() masks stats::filter()\n",
      "x dplyr::lag()    masks stats::lag()\n",
      "\n",
      "Attaching package: 'data.table'\n",
      "\n",
      "The following objects are masked from 'package:dplyr':\n",
      "\n",
      "    between, first, last\n",
      "\n",
      "The following object is masked from 'package:purrr':\n",
      "\n",
      "    transpose\n",
      "\n",
      "------------------------------------------------------------------------------\n",
      "You have loaded plyr after dplyr - this is likely to cause problems.\n",
      "If you need functions from both plyr and dplyr, please load plyr first, then dplyr:\n",
      "library(plyr); library(dplyr)\n",
      "------------------------------------------------------------------------------\n",
      "\n",
      "Attaching package: 'plyr'\n",
      "\n",
      "The following objects are masked from 'package:dplyr':\n",
      "\n",
      "    arrange, count, desc, failwith, id, mutate, rename, summarise,\n",
      "    summarize\n",
      "\n",
      "The following object is masked from 'package:purrr':\n",
      "\n",
      "    compact\n",
      "\n",
      "Warning message in file(file, \"rt\"):\n",
      "\"cannot open file 'R/Data/Adj_monthly_total_prec/mt230N002.txt': No such file or directory\""
     ]
    },
    {
     "ename": "ERROR",
     "evalue": "Error in file(file, \"rt\"): cannot open the connection\n",
     "output_type": "error",
     "traceback": [
      "Error in file(file, \"rt\"): cannot open the connection\nTraceback:\n",
      "1. read.delim(\"R/Data/Adj_monthly_total_prec/mt230N002.txt\", skip = 0, \n .     header = FALSE, as.is = TRUE, dec = \".\", sep = \",\", na.strings = c(\" \", \n .         \"\", \"NA\"), strip.white = TRUE)",
      "2. read.table(file = file, header = header, sep = sep, quote = quote, \n .     dec = dec, fill = fill, comment.char = comment.char, ...)",
      "3. file(file, \"rt\")"
     ]
    }
   ],
   "source": [
    "library(tidyverse)\n",
    "library(data.table)\n",
    "library(stringr)\n",
    "library(readr)\n",
    "library(plyr)\n",
    "library(tidyr)\n",
    "library(dplyr)"
   ]
  },
  {
   "cell_type": "code",
   "execution_count": 2,
   "metadata": {},
   "outputs": [
    {
     "name": "stdout",
     "output_type": "stream",
     "text": [
      "Observations: 63\n",
      "Variables: 36\n",
      "$ V1  <chr> \"230N002\", \"230N002\", \"Year\", \"An\", \"1959\", \"1960\", \"1961\", \"19...\n",
      "$ V2  <chr> \"LUPIN\", \"LUPIN\", \"Jan\", \"Janv\", \"11.2\", \"9.0\", \"12.1\", \"9.6\", ...\n",
      "$ V3  <chr> \"NU\", \"NU\", NA, NA, NA, NA, NA, NA, NA, NA, NA, NA, NA, NA, NA,...\n",
      "$ V4  <chr> \"station joined\", \"station jointe\", \"Feb\", \"Fév\", \"31.7\", \"19.3...\n",
      "$ V5  <chr> \"Monthly total of daily adjusted precipitation\", \"Total mensuel...\n",
      "$ V6  <chr> \"mm\", \"mm\", \"Mar\", \"Mars\", \"20.9\", \"16.6\", \"17.3\", \"18.1\", \"14....\n",
      "$ V7  <chr> \"Updated to December 2017\", \"Mise à jour jusqu à décembre 2017\"...\n",
      "$ V8  <chr> NA, NA, \"Apr\", \"Avr\", \"9.7\", \"15.0\", \"13.3\", \"10.2\", \"16.0\", \"1...\n",
      "$ V9  <chr> NA, NA, NA, NA, NA, NA, NA, NA, NA, NA, NA, NA, NA, NA, NA, NA,...\n",
      "$ V10 <chr> NA, NA, \"May\", \"Mai\", \"22.1\", \"14.6\", \"31.2\", \"20.0\", \"22.1\", \"...\n",
      "$ V11 <chr> NA, NA, NA, NA, NA, NA, NA, NA, NA, NA, NA, NA, NA, NA, NA, NA,...\n",
      "$ V12 <chr> NA, NA, \"Jun\", \"Juin\", \"128.0\", \"11.2\", \"44.2\", \"16.7\", \"68.5\",...\n",
      "$ V13 <chr> NA, NA, NA, NA, NA, NA, NA, NA, NA, NA, NA, NA, NA, NA, NA, NA,...\n",
      "$ V14 <chr> NA, NA, \"Jul\", \"Juil\", \"38.5\", \"54.9\", \"69.7\", \"32.3\", \"33.4\", ...\n",
      "$ V15 <chr> NA, NA, NA, NA, NA, NA, NA, NA, NA, NA, NA, NA, NA, NA, NA, NA,...\n",
      "$ V16 <chr> NA, NA, \"Aug\", \"Août\", \"34.2\", \"74.0\", \"72.6\", \"24.0\", \"47.6\", ...\n",
      "$ V17 <chr> NA, NA, NA, NA, NA, NA, NA, NA, NA, NA, NA, NA, NA, NA, NA, NA,...\n",
      "$ V18 <chr> NA, NA, \"Sep\", \"Sept\", \"24.5\", \"65.8\", \"28.1\", \"23.1\", \"10.8\", ...\n",
      "$ V19 <chr> NA, NA, NA, NA, NA, NA, NA, NA, NA, NA, NA, NA, NA, NA, NA, NA,...\n",
      "$ V20 <chr> NA, NA, \"Oct\", \"Oct\", \"30.5\", \"54.7\", \"24.0\", \"31.7\", \"30.6\", \"...\n",
      "$ V21 <chr> NA, NA, NA, NA, NA, NA, NA, NA, NA, NA, NA, NA, NA, NA, NA, NA,...\n",
      "$ V22 <chr> NA, NA, \"Nov\", \"Nov\", \"17.9\", \"16.9\", \"24.4\", \"36.6\", \"33.9\", \"...\n",
      "$ V23 <chr> NA, NA, NA, NA, NA, NA, NA, NA, NA, NA, NA, NA, NA, NA, NA, NA,...\n",
      "$ V24 <chr> NA, NA, \"Dec\", \"Déc\", \"17.4\", \"16.2\", \"12.4\", \"15.7\", \"17.7\", \"...\n",
      "$ V25 <chr> NA, NA, NA, NA, NA, NA, NA, NA, NA, NA, NA, NA, NA, NA, NA, NA,...\n",
      "$ V26 <chr> NA, NA, \"Annual\", \"Annuel\", \"386.7\", \"368.3\", \"364.8\", \"245.8\",...\n",
      "$ V27 <chr> NA, NA, NA, NA, NA, NA, NA, NA, NA, NA, NA, NA, NA, NA, NA, NA,...\n",
      "$ V28 <chr> NA, NA, \"Winter\", \"Hiver\", \"-9999.9\", \"45.7\", \"43.8\", \"29.9\", \"...\n",
      "$ V29 <chr> NA, NA, NA, NA, \"M\", NA, NA, NA, NA, NA, NA, NA, NA, NA, NA, NA...\n",
      "$ V30 <chr> NA, NA, \"Spring\", \"Printemp\", \"52.8\", \"46.2\", \"61.8\", \"48.3\", \"...\n",
      "$ V31 <chr> NA, NA, NA, NA, NA, NA, NA, NA, NA, NA, NA, NA, NA, NA, NA, NA,...\n",
      "$ V32 <chr> NA, NA, \"Summer\", \"Eté\", \"200.7\", \"140.1\", \"186.5\", \"73.0\", \"14...\n",
      "$ V33 <chr> NA, NA, NA, NA, NA, NA, NA, NA, NA, NA, NA, NA, NA, NA, NA, NA,...\n",
      "$ V34 <chr> NA, NA, \"Autumn\", \"Automne\", \"72.8\", \"137.4\", \"76.5\", \"91.3\", \"...\n",
      "$ V35 <chr> NA, NA, NA, NA, NA, NA, NA, NA, NA, NA, NA, NA, NA, NA, NA, NA,...\n",
      "$ V36 <lgl> NA, NA, NA, NA, NA, NA, NA, NA, NA, NA, NA, NA, NA, NA, NA, NA,...\n"
     ]
    }
   ],
   "source": [
    "# reading in the data \n",
    "df = read.delim('../R/Data/Adj_monthly_total_prec/mt230N002.txt', skip = 0, header = FALSE, as.is=TRUE, dec=\".\", sep = \",\", na.strings=c(\" \", \"\",'NA'), strip.white = TRUE)\n",
    "\n",
    "glimpse(df)"
   ]
  },
  {
   "cell_type": "code",
   "execution_count": 3,
   "metadata": {},
   "outputs": [
    {
     "data": {
      "text/html": [
       "<table>\n",
       "<thead><tr><th scope=col>V1</th><th scope=col>V2</th><th scope=col>V3</th><th scope=col>V4</th><th scope=col>V5</th><th scope=col>V6</th><th scope=col>V7</th><th scope=col>V8</th><th scope=col>V9</th><th scope=col>V10</th><th scope=col>...</th><th scope=col>V27</th><th scope=col>V28</th><th scope=col>V29</th><th scope=col>V30</th><th scope=col>V31</th><th scope=col>V32</th><th scope=col>V33</th><th scope=col>V34</th><th scope=col>V35</th><th scope=col>V36</th></tr></thead>\n",
       "<tbody>\n",
       "\t<tr><td>230N002                                                         </td><td>LUPIN                                                           </td><td>NU                                                              </td><td>station joined                                                  </td><td>Monthly total of daily adjusted precipitation                   </td><td>mm                                                              </td><td>Updated to December 2017                                        </td><td>NA                                                              </td><td>NA                                                              </td><td>NA                                                              </td><td>...                                                             </td><td>NA                                                              </td><td>NA                                                              </td><td>NA                                                              </td><td>NA                                                              </td><td>NA                                                              </td><td>NA                                                              </td><td>NA                                                              </td><td>NA                                                              </td><td>NA                                                              </td><td>NA                                                              </td></tr>\n",
       "\t<tr><td>230N002                                                         </td><td>LUPIN                                                           </td><td>NU                                                              </td><td>station jointe                                                  </td><td>Total mensuel des chutes de précipitations quotidiennes ajustées</td><td>mm                                                              </td><td>Mise à jour jusqu à décembre 2017                               </td><td>NA                                                              </td><td>NA                                                              </td><td>NA                                                              </td><td>...                                                             </td><td>NA                                                              </td><td>NA                                                              </td><td>NA                                                              </td><td>NA                                                              </td><td>NA                                                              </td><td>NA                                                              </td><td>NA                                                              </td><td>NA                                                              </td><td>NA                                                              </td><td>NA                                                              </td></tr>\n",
       "\t<tr><td>Year                                                            </td><td>Jan                                                             </td><td>NA                                                              </td><td>Feb                                                             </td><td>NA                                                              </td><td>Mar                                                             </td><td>NA                                                              </td><td>Apr                                                             </td><td>NA                                                              </td><td>May                                                             </td><td>...                                                             </td><td>NA                                                              </td><td>Winter                                                          </td><td>NA                                                              </td><td>Spring                                                          </td><td>NA                                                              </td><td>Summer                                                          </td><td>NA                                                              </td><td>Autumn                                                          </td><td>NA                                                              </td><td>NA                                                              </td></tr>\n",
       "\t<tr><td>An                                                              </td><td>Janv                                                            </td><td>NA                                                              </td><td>Fév                                                             </td><td>NA                                                              </td><td>Mars                                                            </td><td>NA                                                              </td><td>Avr                                                             </td><td>NA                                                              </td><td>Mai                                                             </td><td>...                                                             </td><td>NA                                                              </td><td>Hiver                                                           </td><td>NA                                                              </td><td>Printemp                                                        </td><td>NA                                                              </td><td>Eté                                                             </td><td>NA                                                              </td><td>Automne                                                         </td><td>NA                                                              </td><td>NA                                                              </td></tr>\n",
       "\t<tr><td>1959                                                            </td><td>11.2                                                            </td><td>NA                                                              </td><td>31.7                                                            </td><td>NA                                                              </td><td>20.9                                                            </td><td>NA                                                              </td><td>9.7                                                             </td><td>NA                                                              </td><td>22.1                                                            </td><td>...                                                             </td><td>NA                                                              </td><td>-9999.9                                                         </td><td>M                                                               </td><td>52.8                                                            </td><td>NA                                                              </td><td>200.7                                                           </td><td>NA                                                              </td><td>72.8                                                            </td><td>NA                                                              </td><td>NA                                                              </td></tr>\n",
       "\t<tr><td>1960                                                            </td><td>9.0                                                             </td><td>NA                                                              </td><td>19.3                                                            </td><td>NA                                                              </td><td>16.6                                                            </td><td>NA                                                              </td><td>15.0                                                            </td><td>NA                                                              </td><td>14.6                                                            </td><td>...                                                             </td><td>NA                                                              </td><td>45.7                                                            </td><td>NA                                                              </td><td>46.2                                                            </td><td>NA                                                              </td><td>140.1                                                           </td><td>NA                                                              </td><td>137.4                                                           </td><td>NA                                                              </td><td>NA                                                              </td></tr>\n",
       "\t<tr><td>1961                                                            </td><td>12.1                                                            </td><td>NA                                                              </td><td>15.5                                                            </td><td>NA                                                              </td><td>17.3                                                            </td><td>NA                                                              </td><td>13.3                                                            </td><td>NA                                                              </td><td>31.2                                                            </td><td>...                                                             </td><td>NA                                                              </td><td>43.8                                                            </td><td>NA                                                              </td><td>61.8                                                            </td><td>NA                                                              </td><td>186.5                                                           </td><td>NA                                                              </td><td>76.5                                                            </td><td>NA                                                              </td><td>NA                                                              </td></tr>\n",
       "\t<tr><td>1962                                                            </td><td>9.6                                                             </td><td>NA                                                              </td><td>7.9                                                             </td><td>NA                                                              </td><td>18.1                                                            </td><td>NA                                                              </td><td>10.2                                                            </td><td>NA                                                              </td><td>20.0                                                            </td><td>...                                                             </td><td>NA                                                              </td><td>29.9                                                            </td><td>NA                                                              </td><td>48.3                                                            </td><td>NA                                                              </td><td>73.0                                                            </td><td>NA                                                              </td><td>91.3                                                            </td><td>NA                                                              </td><td>NA                                                              </td></tr>\n",
       "\t<tr><td>1963                                                            </td><td>8.7                                                             </td><td>NA                                                              </td><td>5.2                                                             </td><td>NA                                                              </td><td>14.4                                                            </td><td>NA                                                              </td><td>16.0                                                            </td><td>NA                                                              </td><td>22.1                                                            </td><td>...                                                             </td><td>NA                                                              </td><td>29.6                                                            </td><td>NA                                                              </td><td>52.5                                                            </td><td>NA                                                              </td><td>149.5                                                           </td><td>NA                                                              </td><td>75.4                                                            </td><td>NA                                                              </td><td>NA                                                              </td></tr>\n",
       "\t<tr><td>1964                                                            </td><td>13.2                                                            </td><td>NA                                                              </td><td>17.7                                                            </td><td>NA                                                              </td><td>6.0                                                             </td><td>NA                                                              </td><td>17.0                                                            </td><td>NA                                                              </td><td>13.0                                                            </td><td>...                                                             </td><td>NA                                                              </td><td>48.6                                                            </td><td>NA                                                              </td><td>36.0                                                            </td><td>NA                                                              </td><td>131.0                                                           </td><td>NA                                                              </td><td>76.9                                                            </td><td>NA                                                              </td><td>NA                                                              </td></tr>\n",
       "</tbody>\n",
       "</table>\n"
      ],
      "text/latex": [
       "\\begin{tabular}{r|llllllllllllllllllllllllllllllllllll}\n",
       " V1 & V2 & V3 & V4 & V5 & V6 & V7 & V8 & V9 & V10 & ... & V27 & V28 & V29 & V30 & V31 & V32 & V33 & V34 & V35 & V36\\\\\n",
       "\\hline\n",
       "\t 230N002                                                          & LUPIN                                                            & NU                                                               & station joined                                                   & Monthly total of daily adjusted precipitation                    & mm                                                               & Updated to December 2017                                         & NA                                                               & NA                                                               & NA                                                               & ...                                                              & NA                                                               & NA                                                               & NA                                                               & NA                                                               & NA                                                               & NA                                                               & NA                                                               & NA                                                               & NA                                                               & NA                                                              \\\\\n",
       "\t 230N002                                                          & LUPIN                                                            & NU                                                               & station jointe                                                   & Total mensuel des chutes de précipitations quotidiennes ajustées & mm                                                               & Mise à jour jusqu à décembre 2017                                & NA                                                               & NA                                                               & NA                                                               & ...                                                              & NA                                                               & NA                                                               & NA                                                               & NA                                                               & NA                                                               & NA                                                               & NA                                                               & NA                                                               & NA                                                               & NA                                                              \\\\\n",
       "\t Year                                                             & Jan                                                              & NA                                                               & Feb                                                              & NA                                                               & Mar                                                              & NA                                                               & Apr                                                              & NA                                                               & May                                                              & ...                                                              & NA                                                               & Winter                                                           & NA                                                               & Spring                                                           & NA                                                               & Summer                                                           & NA                                                               & Autumn                                                           & NA                                                               & NA                                                              \\\\\n",
       "\t An                                                               & Janv                                                             & NA                                                               & Fév                                                              & NA                                                               & Mars                                                             & NA                                                               & Avr                                                              & NA                                                               & Mai                                                              & ...                                                              & NA                                                               & Hiver                                                            & NA                                                               & Printemp                                                         & NA                                                               & Eté                                                              & NA                                                               & Automne                                                          & NA                                                               & NA                                                              \\\\\n",
       "\t 1959                                                             & 11.2                                                             & NA                                                               & 31.7                                                             & NA                                                               & 20.9                                                             & NA                                                               & 9.7                                                              & NA                                                               & 22.1                                                             & ...                                                              & NA                                                               & -9999.9                                                          & M                                                                & 52.8                                                             & NA                                                               & 200.7                                                            & NA                                                               & 72.8                                                             & NA                                                               & NA                                                              \\\\\n",
       "\t 1960                                                             & 9.0                                                              & NA                                                               & 19.3                                                             & NA                                                               & 16.6                                                             & NA                                                               & 15.0                                                             & NA                                                               & 14.6                                                             & ...                                                              & NA                                                               & 45.7                                                             & NA                                                               & 46.2                                                             & NA                                                               & 140.1                                                            & NA                                                               & 137.4                                                            & NA                                                               & NA                                                              \\\\\n",
       "\t 1961                                                             & 12.1                                                             & NA                                                               & 15.5                                                             & NA                                                               & 17.3                                                             & NA                                                               & 13.3                                                             & NA                                                               & 31.2                                                             & ...                                                              & NA                                                               & 43.8                                                             & NA                                                               & 61.8                                                             & NA                                                               & 186.5                                                            & NA                                                               & 76.5                                                             & NA                                                               & NA                                                              \\\\\n",
       "\t 1962                                                             & 9.6                                                              & NA                                                               & 7.9                                                              & NA                                                               & 18.1                                                             & NA                                                               & 10.2                                                             & NA                                                               & 20.0                                                             & ...                                                              & NA                                                               & 29.9                                                             & NA                                                               & 48.3                                                             & NA                                                               & 73.0                                                             & NA                                                               & 91.3                                                             & NA                                                               & NA                                                              \\\\\n",
       "\t 1963                                                             & 8.7                                                              & NA                                                               & 5.2                                                              & NA                                                               & 14.4                                                             & NA                                                               & 16.0                                                             & NA                                                               & 22.1                                                             & ...                                                              & NA                                                               & 29.6                                                             & NA                                                               & 52.5                                                             & NA                                                               & 149.5                                                            & NA                                                               & 75.4                                                             & NA                                                               & NA                                                              \\\\\n",
       "\t 1964                                                             & 13.2                                                             & NA                                                               & 17.7                                                             & NA                                                               & 6.0                                                              & NA                                                               & 17.0                                                             & NA                                                               & 13.0                                                             & ...                                                              & NA                                                               & 48.6                                                             & NA                                                               & 36.0                                                             & NA                                                               & 131.0                                                            & NA                                                               & 76.9                                                             & NA                                                               & NA                                                              \\\\\n",
       "\\end{tabular}\n"
      ],
      "text/markdown": [
       "\n",
       "| V1 | V2 | V3 | V4 | V5 | V6 | V7 | V8 | V9 | V10 | ... | V27 | V28 | V29 | V30 | V31 | V32 | V33 | V34 | V35 | V36 |\n",
       "|---|---|---|---|---|---|---|---|---|---|---|---|---|---|---|---|---|---|---|---|---|\n",
       "| 230N002                                                          | LUPIN                                                            | NU                                                               | station joined                                                   | Monthly total of daily adjusted precipitation                    | mm                                                               | Updated to December 2017                                         | NA                                                               | NA                                                               | NA                                                               | ...                                                              | NA                                                               | NA                                                               | NA                                                               | NA                                                               | NA                                                               | NA                                                               | NA                                                               | NA                                                               | NA                                                               | NA                                                               |\n",
       "| 230N002                                                          | LUPIN                                                            | NU                                                               | station jointe                                                   | Total mensuel des chutes de précipitations quotidiennes ajustées | mm                                                               | Mise à jour jusqu à décembre 2017                                | NA                                                               | NA                                                               | NA                                                               | ...                                                              | NA                                                               | NA                                                               | NA                                                               | NA                                                               | NA                                                               | NA                                                               | NA                                                               | NA                                                               | NA                                                               | NA                                                               |\n",
       "| Year                                                             | Jan                                                              | NA                                                               | Feb                                                              | NA                                                               | Mar                                                              | NA                                                               | Apr                                                              | NA                                                               | May                                                              | ...                                                              | NA                                                               | Winter                                                           | NA                                                               | Spring                                                           | NA                                                               | Summer                                                           | NA                                                               | Autumn                                                           | NA                                                               | NA                                                               |\n",
       "| An                                                               | Janv                                                             | NA                                                               | Fév                                                              | NA                                                               | Mars                                                             | NA                                                               | Avr                                                              | NA                                                               | Mai                                                              | ...                                                              | NA                                                               | Hiver                                                            | NA                                                               | Printemp                                                         | NA                                                               | Eté                                                              | NA                                                               | Automne                                                          | NA                                                               | NA                                                               |\n",
       "| 1959                                                             | 11.2                                                             | NA                                                               | 31.7                                                             | NA                                                               | 20.9                                                             | NA                                                               | 9.7                                                              | NA                                                               | 22.1                                                             | ...                                                              | NA                                                               | -9999.9                                                          | M                                                                | 52.8                                                             | NA                                                               | 200.7                                                            | NA                                                               | 72.8                                                             | NA                                                               | NA                                                               |\n",
       "| 1960                                                             | 9.0                                                              | NA                                                               | 19.3                                                             | NA                                                               | 16.6                                                             | NA                                                               | 15.0                                                             | NA                                                               | 14.6                                                             | ...                                                              | NA                                                               | 45.7                                                             | NA                                                               | 46.2                                                             | NA                                                               | 140.1                                                            | NA                                                               | 137.4                                                            | NA                                                               | NA                                                               |\n",
       "| 1961                                                             | 12.1                                                             | NA                                                               | 15.5                                                             | NA                                                               | 17.3                                                             | NA                                                               | 13.3                                                             | NA                                                               | 31.2                                                             | ...                                                              | NA                                                               | 43.8                                                             | NA                                                               | 61.8                                                             | NA                                                               | 186.5                                                            | NA                                                               | 76.5                                                             | NA                                                               | NA                                                               |\n",
       "| 1962                                                             | 9.6                                                              | NA                                                               | 7.9                                                              | NA                                                               | 18.1                                                             | NA                                                               | 10.2                                                             | NA                                                               | 20.0                                                             | ...                                                              | NA                                                               | 29.9                                                             | NA                                                               | 48.3                                                             | NA                                                               | 73.0                                                             | NA                                                               | 91.3                                                             | NA                                                               | NA                                                               |\n",
       "| 1963                                                             | 8.7                                                              | NA                                                               | 5.2                                                              | NA                                                               | 14.4                                                             | NA                                                               | 16.0                                                             | NA                                                               | 22.1                                                             | ...                                                              | NA                                                               | 29.6                                                             | NA                                                               | 52.5                                                             | NA                                                               | 149.5                                                            | NA                                                               | 75.4                                                             | NA                                                               | NA                                                               |\n",
       "| 1964                                                             | 13.2                                                             | NA                                                               | 17.7                                                             | NA                                                               | 6.0                                                              | NA                                                               | 17.0                                                             | NA                                                               | 13.0                                                             | ...                                                              | NA                                                               | 48.6                                                             | NA                                                               | 36.0                                                             | NA                                                               | 131.0                                                            | NA                                                               | 76.9                                                             | NA                                                               | NA                                                               |\n",
       "\n"
      ],
      "text/plain": [
       "   V1      V2    V3 V4            \n",
       "1  230N002 LUPIN NU station joined\n",
       "2  230N002 LUPIN NU station jointe\n",
       "3  Year    Jan   NA Feb           \n",
       "4  An      Janv  NA Fév           \n",
       "5  1959    11.2  NA 31.7          \n",
       "6  1960    9.0   NA 19.3          \n",
       "7  1961    12.1  NA 15.5          \n",
       "8  1962    9.6   NA 7.9           \n",
       "9  1963    8.7   NA 5.2           \n",
       "10 1964    13.2  NA 17.7          \n",
       "   V5                                                               V6  \n",
       "1  Monthly total of daily adjusted precipitation                    mm  \n",
       "2  Total mensuel des chutes de précipitations quotidiennes ajustées mm  \n",
       "3  NA                                                               Mar \n",
       "4  NA                                                               Mars\n",
       "5  NA                                                               20.9\n",
       "6  NA                                                               16.6\n",
       "7  NA                                                               17.3\n",
       "8  NA                                                               18.1\n",
       "9  NA                                                               14.4\n",
       "10 NA                                                               6.0 \n",
       "   V7                                V8   V9 V10  ... V27 V28     V29 V30     \n",
       "1  Updated to December 2017          NA   NA NA   ... NA  NA      NA  NA      \n",
       "2  Mise à jour jusqu à décembre 2017 NA   NA NA   ... NA  NA      NA  NA      \n",
       "3  NA                                Apr  NA May  ... NA  Winter  NA  Spring  \n",
       "4  NA                                Avr  NA Mai  ... NA  Hiver   NA  Printemp\n",
       "5  NA                                9.7  NA 22.1 ... NA  -9999.9 M   52.8    \n",
       "6  NA                                15.0 NA 14.6 ... NA  45.7    NA  46.2    \n",
       "7  NA                                13.3 NA 31.2 ... NA  43.8    NA  61.8    \n",
       "8  NA                                10.2 NA 20.0 ... NA  29.9    NA  48.3    \n",
       "9  NA                                16.0 NA 22.1 ... NA  29.6    NA  52.5    \n",
       "10 NA                                17.0 NA 13.0 ... NA  48.6    NA  36.0    \n",
       "   V31 V32    V33 V34     V35 V36\n",
       "1  NA  NA     NA  NA      NA  NA \n",
       "2  NA  NA     NA  NA      NA  NA \n",
       "3  NA  Summer NA  Autumn  NA  NA \n",
       "4  NA  Eté    NA  Automne NA  NA \n",
       "5  NA  200.7  NA  72.8    NA  NA \n",
       "6  NA  140.1  NA  137.4   NA  NA \n",
       "7  NA  186.5  NA  76.5    NA  NA \n",
       "8  NA  73.0   NA  91.3    NA  NA \n",
       "9  NA  149.5  NA  75.4    NA  NA \n",
       "10 NA  131.0  NA  76.9    NA  NA "
      ]
     },
     "metadata": {},
     "output_type": "display_data"
    }
   ],
   "source": [
    "head(df, n=10)"
   ]
  },
  {
   "cell_type": "markdown",
   "metadata": {},
   "source": [
    "### The tidyverse package will become evidently useful as we proceed\n",
    "\n",
    "* glimpse (helps) provides a summary of the data \n",
    "+ There are 63 observations (rows) and 35 variables (columns)\n",
    "+ all data is stored as characters\n",
    "* After looking at the first few rows 10 rows of our current frame. We see, \n",
    "+ There is some information we want to remove. Specifically, the first 2 rows of the data frame \n",
    "+ Almost every other column is filled with NAs \n",
    "+ The 3rd row will later be used as our column names, and V1 as our row names \n",
    "+ Our data mainly deals with positive, and negative values. \n",
    "+ Unusual data includes: default: -9999.9 and the letters 'E' and 'M' used to mark if the data was estimated or missing "
   ]
  },
  {
   "cell_type": "markdown",
   "metadata": {},
   "source": [
    "## Constructing desired Dataframe \n",
    "\n",
    "Earlier it has been noticed that the majority NAs appear in a patterned fashion. Since, its clear I went ahead and removed those columns from our data frame. Note also,  letters, 'M' and 'E\" will be removed. \n",
    "\n",
    "Extract the header and combine it back to the data. \n",
    "\n",
    "It is important to check for whitespaces when it comes to extracting names."
   ]
  },
  {
   "cell_type": "code",
   "execution_count": 31,
   "metadata": {},
   "outputs": [
    {
     "data": {
      "text/html": [
       "<ol class=list-inline>\n",
       "\t<li>3</li>\n",
       "\t<li>5</li>\n",
       "\t<li>7</li>\n",
       "\t<li>9</li>\n",
       "\t<li>11</li>\n",
       "\t<li>13</li>\n",
       "\t<li>15</li>\n",
       "\t<li>17</li>\n",
       "\t<li>19</li>\n",
       "\t<li>21</li>\n",
       "\t<li>23</li>\n",
       "\t<li>25</li>\n",
       "\t<li>27</li>\n",
       "\t<li>29</li>\n",
       "\t<li>31</li>\n",
       "\t<li>33</li>\n",
       "\t<li>35</li>\n",
       "\t<li>36</li>\n",
       "</ol>\n"
      ],
      "text/latex": [
       "\\begin{enumerate*}\n",
       "\\item 3\n",
       "\\item 5\n",
       "\\item 7\n",
       "\\item 9\n",
       "\\item 11\n",
       "\\item 13\n",
       "\\item 15\n",
       "\\item 17\n",
       "\\item 19\n",
       "\\item 21\n",
       "\\item 23\n",
       "\\item 25\n",
       "\\item 27\n",
       "\\item 29\n",
       "\\item 31\n",
       "\\item 33\n",
       "\\item 35\n",
       "\\item 36\n",
       "\\end{enumerate*}\n"
      ],
      "text/markdown": [
       "1. 3\n",
       "2. 5\n",
       "3. 7\n",
       "4. 9\n",
       "5. 11\n",
       "6. 13\n",
       "7. 15\n",
       "8. 17\n",
       "9. 19\n",
       "10. 21\n",
       "11. 23\n",
       "12. 25\n",
       "13. 27\n",
       "14. 29\n",
       "15. 31\n",
       "16. 33\n",
       "17. 35\n",
       "18. 36\n",
       "\n",
       "\n"
      ],
      "text/plain": [
       " [1]  3  5  7  9 11 13 15 17 19 21 23 25 27 29 31 33 35 36"
      ]
     },
     "metadata": {},
     "output_type": "display_data"
    },
    {
     "data": {
      "text/html": [
       "<table>\n",
       "<thead><tr><th scope=col>V1</th><th scope=col>V2</th><th scope=col>V4</th><th scope=col>V6</th><th scope=col>V8</th><th scope=col>V10</th><th scope=col>V12</th><th scope=col>V14</th><th scope=col>V16</th><th scope=col>V18</th><th scope=col>V20</th><th scope=col>V22</th><th scope=col>V24</th><th scope=col>V26</th><th scope=col>V28</th><th scope=col>V30</th><th scope=col>V32</th><th scope=col>V34</th></tr></thead>\n",
       "<tbody>\n",
       "\t<tr><td>Year  </td><td>Jan   </td><td>Feb   </td><td>Mar   </td><td>Apr   </td><td>May   </td><td>Jun   </td><td>Jul   </td><td>Aug   </td><td>Sep   </td><td>Oct   </td><td>Nov   </td><td>Dec   </td><td>Annual</td><td>Winter</td><td>Spring</td><td>Summer</td><td>Autumn</td></tr>\n",
       "</tbody>\n",
       "</table>\n"
      ],
      "text/latex": [
       "\\begin{tabular}{r|llllllllllllllllll}\n",
       " V1 & V2 & V4 & V6 & V8 & V10 & V12 & V14 & V16 & V18 & V20 & V22 & V24 & V26 & V28 & V30 & V32 & V34\\\\\n",
       "\\hline\n",
       "\t Year   & Jan    & Feb    & Mar    & Apr    & May    & Jun    & Jul    & Aug    & Sep    & Oct    & Nov    & Dec    & Annual & Winter & Spring & Summer & Autumn\\\\\n",
       "\\end{tabular}\n"
      ],
      "text/markdown": [
       "\n",
       "| V1 | V2 | V4 | V6 | V8 | V10 | V12 | V14 | V16 | V18 | V20 | V22 | V24 | V26 | V28 | V30 | V32 | V34 |\n",
       "|---|---|---|---|---|---|---|---|---|---|---|---|---|---|---|---|---|---|\n",
       "| Year   | Jan    | Feb    | Mar    | Apr    | May    | Jun    | Jul    | Aug    | Sep    | Oct    | Nov    | Dec    | Annual | Winter | Spring | Summer | Autumn |\n",
       "\n"
      ],
      "text/plain": [
       "  V1   V2  V4  V6  V8  V10 V12 V14 V16 V18 V20 V22 V24 V26    V28    V30   \n",
       "1 Year Jan Feb Mar Apr May Jun Jul Aug Sep Oct Nov Dec Annual Winter Spring\n",
       "  V32    V34   \n",
       "1 Summer Autumn"
      ]
     },
     "metadata": {},
     "output_type": "display_data"
    },
    {
     "data": {
      "text/html": [
       "<table>\n",
       "<thead><tr><th scope=col>V1</th><th scope=col>V2</th><th scope=col>V4</th><th scope=col>V6</th><th scope=col>V8</th><th scope=col>V10</th><th scope=col>V12</th><th scope=col>V14</th><th scope=col>V16</th><th scope=col>V18</th><th scope=col>V20</th><th scope=col>V22</th><th scope=col>V24</th><th scope=col>V26</th><th scope=col>V28</th><th scope=col>V30</th><th scope=col>V32</th><th scope=col>V34</th></tr></thead>\n",
       "<tbody>\n",
       "\t<tr><td>FALSE</td><td>FALSE</td><td>FALSE</td><td>FALSE</td><td>FALSE</td><td>FALSE</td><td>FALSE</td><td>FALSE</td><td>FALSE</td><td>FALSE</td><td>FALSE</td><td>FALSE</td><td>FALSE</td><td>FALSE</td><td>FALSE</td><td>FALSE</td><td>FALSE</td><td>FALSE</td></tr>\n",
       "</tbody>\n",
       "</table>\n"
      ],
      "text/latex": [
       "\\begin{tabular}{llllllllllllllllll}\n",
       " V1 & V2 & V4 & V6 & V8 & V10 & V12 & V14 & V16 & V18 & V20 & V22 & V24 & V26 & V28 & V30 & V32 & V34\\\\\n",
       "\\hline\n",
       "\t FALSE & FALSE & FALSE & FALSE & FALSE & FALSE & FALSE & FALSE & FALSE & FALSE & FALSE & FALSE & FALSE & FALSE & FALSE & FALSE & FALSE & FALSE\\\\\n",
       "\\end{tabular}\n"
      ],
      "text/markdown": [
       "\n",
       "| V1 | V2 | V4 | V6 | V8 | V10 | V12 | V14 | V16 | V18 | V20 | V22 | V24 | V26 | V28 | V30 | V32 | V34 |\n",
       "|---|---|---|---|---|---|---|---|---|---|---|---|---|---|---|---|---|---|\n",
       "| FALSE | FALSE | FALSE | FALSE | FALSE | FALSE | FALSE | FALSE | FALSE | FALSE | FALSE | FALSE | FALSE | FALSE | FALSE | FALSE | FALSE | FALSE |\n",
       "\n"
      ],
      "text/plain": [
       "     V1    V2    V4    V6    V8    V10   V12   V14   V16   V18   V20   V22  \n",
       "[1,] FALSE FALSE FALSE FALSE FALSE FALSE FALSE FALSE FALSE FALSE FALSE FALSE\n",
       "     V24   V26   V28   V30   V32   V34  \n",
       "[1,] FALSE FALSE FALSE FALSE FALSE FALSE"
      ]
     },
     "metadata": {},
     "output_type": "display_data"
    },
    {
     "data": {
      "text/html": [
       "<table>\n",
       "<thead><tr><th scope=col>Year</th><th scope=col>Jan</th><th scope=col>Feb</th><th scope=col>Mar</th><th scope=col>Apr</th><th scope=col>May</th><th scope=col>Jun</th><th scope=col>Jul</th><th scope=col>Aug</th><th scope=col>Sep</th><th scope=col>Oct</th><th scope=col>Nov</th><th scope=col>Dec</th><th scope=col>Annual</th><th scope=col>Winter</th><th scope=col>Spring</th><th scope=col>Summer</th><th scope=col>Autumn</th></tr></thead>\n",
       "<tbody>\n",
       "\t<tr><td>1959   </td><td>11.2   </td><td>31.7   </td><td>20.9   </td><td>9.7    </td><td>22.1   </td><td>128.0  </td><td>38.5   </td><td>34.2   </td><td>24.5   </td><td>30.5   </td><td>17.9   </td><td>17.4   </td><td>386.7  </td><td>-9999.9</td><td>52.8   </td><td>200.7  </td><td>72.8   </td></tr>\n",
       "\t<tr><td>1960   </td><td>9.0    </td><td>19.3   </td><td>16.6   </td><td>15.0   </td><td>14.6   </td><td>11.2   </td><td>54.9   </td><td>74.0   </td><td>65.8   </td><td>54.7   </td><td>16.9   </td><td>16.2   </td><td>368.3  </td><td>45.7   </td><td>46.2   </td><td>140.1  </td><td>137.4  </td></tr>\n",
       "\t<tr><td>1961   </td><td>12.1   </td><td>15.5   </td><td>17.3   </td><td>13.3   </td><td>31.2   </td><td>44.2   </td><td>69.7   </td><td>72.6   </td><td>28.1   </td><td>24.0   </td><td>24.4   </td><td>12.4   </td><td>364.8  </td><td>43.8   </td><td>61.8   </td><td>186.5  </td><td>76.5   </td></tr>\n",
       "\t<tr><td>1962   </td><td>9.6    </td><td>7.9    </td><td>18.1   </td><td>10.2   </td><td>20.0   </td><td>16.7   </td><td>32.3   </td><td>24.0   </td><td>23.1   </td><td>31.7   </td><td>36.6   </td><td>15.7   </td><td>245.8  </td><td>29.9   </td><td>48.3   </td><td>73.0   </td><td>91.3   </td></tr>\n",
       "\t<tr><td>1963   </td><td>8.7    </td><td>5.2    </td><td>14.4   </td><td>16.0   </td><td>22.1   </td><td>68.5   </td><td>33.4   </td><td>47.6   </td><td>10.8   </td><td>30.6   </td><td>33.9   </td><td>17.7   </td><td>308.9  </td><td>29.6   </td><td>52.5   </td><td>149.5  </td><td>75.4   </td></tr>\n",
       "</tbody>\n",
       "</table>\n"
      ],
      "text/latex": [
       "\\begin{tabular}{r|llllllllllllllllll}\n",
       " Year & Jan & Feb & Mar & Apr & May & Jun & Jul & Aug & Sep & Oct & Nov & Dec & Annual & Winter & Spring & Summer & Autumn\\\\\n",
       "\\hline\n",
       "\t 1959    & 11.2    & 31.7    & 20.9    & 9.7     & 22.1    & 128.0   & 38.5    & 34.2    & 24.5    & 30.5    & 17.9    & 17.4    & 386.7   & -9999.9 & 52.8    & 200.7   & 72.8   \\\\\n",
       "\t 1960    & 9.0     & 19.3    & 16.6    & 15.0    & 14.6    & 11.2    & 54.9    & 74.0    & 65.8    & 54.7    & 16.9    & 16.2    & 368.3   & 45.7    & 46.2    & 140.1   & 137.4  \\\\\n",
       "\t 1961    & 12.1    & 15.5    & 17.3    & 13.3    & 31.2    & 44.2    & 69.7    & 72.6    & 28.1    & 24.0    & 24.4    & 12.4    & 364.8   & 43.8    & 61.8    & 186.5   & 76.5   \\\\\n",
       "\t 1962    & 9.6     & 7.9     & 18.1    & 10.2    & 20.0    & 16.7    & 32.3    & 24.0    & 23.1    & 31.7    & 36.6    & 15.7    & 245.8   & 29.9    & 48.3    & 73.0    & 91.3   \\\\\n",
       "\t 1963    & 8.7     & 5.2     & 14.4    & 16.0    & 22.1    & 68.5    & 33.4    & 47.6    & 10.8    & 30.6    & 33.9    & 17.7    & 308.9   & 29.6    & 52.5    & 149.5   & 75.4   \\\\\n",
       "\\end{tabular}\n"
      ],
      "text/markdown": [
       "\n",
       "| Year | Jan | Feb | Mar | Apr | May | Jun | Jul | Aug | Sep | Oct | Nov | Dec | Annual | Winter | Spring | Summer | Autumn |\n",
       "|---|---|---|---|---|---|---|---|---|---|---|---|---|---|---|---|---|---|\n",
       "| 1959    | 11.2    | 31.7    | 20.9    | 9.7     | 22.1    | 128.0   | 38.5    | 34.2    | 24.5    | 30.5    | 17.9    | 17.4    | 386.7   | -9999.9 | 52.8    | 200.7   | 72.8    |\n",
       "| 1960    | 9.0     | 19.3    | 16.6    | 15.0    | 14.6    | 11.2    | 54.9    | 74.0    | 65.8    | 54.7    | 16.9    | 16.2    | 368.3   | 45.7    | 46.2    | 140.1   | 137.4   |\n",
       "| 1961    | 12.1    | 15.5    | 17.3    | 13.3    | 31.2    | 44.2    | 69.7    | 72.6    | 28.1    | 24.0    | 24.4    | 12.4    | 364.8   | 43.8    | 61.8    | 186.5   | 76.5    |\n",
       "| 1962    | 9.6     | 7.9     | 18.1    | 10.2    | 20.0    | 16.7    | 32.3    | 24.0    | 23.1    | 31.7    | 36.6    | 15.7    | 245.8   | 29.9    | 48.3    | 73.0    | 91.3    |\n",
       "| 1963    | 8.7     | 5.2     | 14.4    | 16.0    | 22.1    | 68.5    | 33.4    | 47.6    | 10.8    | 30.6    | 33.9    | 17.7    | 308.9   | 29.6    | 52.5    | 149.5   | 75.4    |\n",
       "\n"
      ],
      "text/plain": [
       "  Year Jan  Feb  Mar  Apr  May  Jun   Jul  Aug  Sep  Oct  Nov  Dec  Annual\n",
       "1 1959 11.2 31.7 20.9 9.7  22.1 128.0 38.5 34.2 24.5 30.5 17.9 17.4 386.7 \n",
       "2 1960 9.0  19.3 16.6 15.0 14.6 11.2  54.9 74.0 65.8 54.7 16.9 16.2 368.3 \n",
       "3 1961 12.1 15.5 17.3 13.3 31.2 44.2  69.7 72.6 28.1 24.0 24.4 12.4 364.8 \n",
       "4 1962 9.6  7.9  18.1 10.2 20.0 16.7  32.3 24.0 23.1 31.7 36.6 15.7 245.8 \n",
       "5 1963 8.7  5.2  14.4 16.0 22.1 68.5  33.4 47.6 10.8 30.6 33.9 17.7 308.9 \n",
       "  Winter  Spring Summer Autumn\n",
       "1 -9999.9 52.8   200.7  72.8  \n",
       "2 45.7    46.2   140.1  137.4 \n",
       "3 43.8    61.8   186.5  76.5  \n",
       "4 29.9    48.3   73.0   91.3  \n",
       "5 29.6    52.5   149.5  75.4  "
      ]
     },
     "metadata": {},
     "output_type": "display_data"
    }
   ],
   "source": [
    "df = read.delim('../R/Data/Adj_monthly_total_prec/mt230N002.txt', skip = 0, header = FALSE, as.is=TRUE, dec=\".\", sep = \",\", na.strings=c(\" \", \"\",'NA'), strip.white = TRUE)\n",
    "\n",
    "(columns_to_remove <- c(seq(from = 3, to = 35, by = 2), 36))\n",
    "\n",
    "df <- select(df, -columns_to_remove)\n",
    "\n",
    "data <- slice(df, 5:n()) \n",
    "# reset df to show this step... \n",
    "(hdr <- slice(df, 3)) \n",
    "# check for whitespaces in the column names\n",
    "\n",
    "# unlist((hdr))\n",
    "# (c  = select(hdr, contains(\" \")))\n",
    "# (st  = select(hdr, starts_with(\" \")))\n",
    "# (ew = select(hdr, ends_with(\" \")))\n",
    "\n",
    "is.na(hdr)\n",
    "\n",
    "head ((df <- rename(data, hdr)), n=5)"
   ]
  },
  {
   "cell_type": "code",
   "execution_count": 32,
   "metadata": {},
   "outputs": [],
   "source": [
    "# df %>% select('NA') %>% is.na %>% head(n=10)"
   ]
  },
  {
   "cell_type": "markdown",
   "metadata": {},
   "source": [
    "### Standard default Values...\n",
    "#### In this case we have **-9999.9** \n",
    "\n",
    "In some situations, it has been suggested to replace the NAs or default values with the mean of the column. Chosen to go against this, since regression regression smoothly 'fill' in these blanks. "
   ]
  },
  {
   "cell_type": "code",
   "execution_count": 33,
   "metadata": {
    "scrolled": true
   },
   "outputs": [
    {
     "data": {
      "text/html": [
       "<table>\n",
       "<thead><tr><th scope=col>Year</th><th scope=col>Jan</th><th scope=col>Feb</th><th scope=col>Mar</th><th scope=col>Apr</th><th scope=col>May</th><th scope=col>Jun</th><th scope=col>Jul</th><th scope=col>Aug</th><th scope=col>Sep</th><th scope=col>Oct</th><th scope=col>Nov</th><th scope=col>Dec</th><th scope=col>Annual</th><th scope=col>Winter</th><th scope=col>Spring</th><th scope=col>Summer</th><th scope=col>Autumn</th></tr></thead>\n",
       "<tbody>\n",
       "\t<tr><td>1959 </td><td>11.2 </td><td>31.7 </td><td>20.9 </td><td>9.7  </td><td>22.1 </td><td>128.0</td><td>38.5 </td><td>34.2 </td><td>24.5 </td><td>30.5 </td><td>17.9 </td><td>17.4 </td><td>386.7</td><td>NA   </td><td>52.8 </td><td>200.7</td><td>72.8 </td></tr>\n",
       "\t<tr><td>1960 </td><td>9.0  </td><td>19.3 </td><td>16.6 </td><td>15.0 </td><td>14.6 </td><td>11.2 </td><td>54.9 </td><td>74.0 </td><td>65.8 </td><td>54.7 </td><td>16.9 </td><td>16.2 </td><td>368.3</td><td>45.7 </td><td>46.2 </td><td>140.1</td><td>137.4</td></tr>\n",
       "\t<tr><td>1961 </td><td>12.1 </td><td>15.5 </td><td>17.3 </td><td>13.3 </td><td>31.2 </td><td>44.2 </td><td>69.7 </td><td>72.6 </td><td>28.1 </td><td>24.0 </td><td>24.4 </td><td>12.4 </td><td>364.8</td><td>43.8 </td><td>61.8 </td><td>186.5</td><td>76.5 </td></tr>\n",
       "\t<tr><td>1962 </td><td>9.6  </td><td>7.9  </td><td>18.1 </td><td>10.2 </td><td>20.0 </td><td>16.7 </td><td>32.3 </td><td>24.0 </td><td>23.1 </td><td>31.7 </td><td>36.6 </td><td>15.7 </td><td>245.8</td><td>29.9 </td><td>48.3 </td><td>73.0 </td><td>91.3 </td></tr>\n",
       "\t<tr><td>1963 </td><td>8.7  </td><td>5.2  </td><td>14.4 </td><td>16.0 </td><td>22.1 </td><td>68.5 </td><td>33.4 </td><td>47.6 </td><td>10.8 </td><td>30.6 </td><td>33.9 </td><td>17.7 </td><td>308.9</td><td>29.6 </td><td>52.5 </td><td>149.5</td><td>75.4 </td></tr>\n",
       "\t<tr><td>1964 </td><td>13.2 </td><td>17.7 </td><td>6.0  </td><td>17.0 </td><td>13.0 </td><td>23.9 </td><td>77.9 </td><td>29.2 </td><td>33.3 </td><td>35.4 </td><td>8.1  </td><td>25.7 </td><td>300.5</td><td>48.6 </td><td>36.0 </td><td>131.0</td><td>76.9 </td></tr>\n",
       "\t<tr><td>1965 </td><td>11.8 </td><td>2.2  </td><td>14.7 </td><td>8.2  </td><td>9.0  </td><td>26.4 </td><td>41.6 </td><td>35.3 </td><td>22.2 </td><td>16.6 </td><td>17.4 </td><td>5.6  </td><td>211.1</td><td>39.8 </td><td>31.8 </td><td>103.4</td><td>56.2 </td></tr>\n",
       "\t<tr><td>1966 </td><td>1.5  </td><td>6.6  </td><td>10.0 </td><td>7.0  </td><td>12.8 </td><td>20.6 </td><td>47.9 </td><td>48.4 </td><td>49.0 </td><td>12.0 </td><td>9.6  </td><td>12.4 </td><td>237.8</td><td>13.7 </td><td>29.8 </td><td>116.9</td><td>70.6 </td></tr>\n",
       "\t<tr><td>1967 </td><td>11.1 </td><td>9.1  </td><td>6.2  </td><td>7.8  </td><td>12.3 </td><td>64.3 </td><td>60.7 </td><td>43.9 </td><td>86.4 </td><td>34.8 </td><td>16.9 </td><td>15.2 </td><td>368.6</td><td>32.6 </td><td>26.4 </td><td>168.9</td><td>138.1</td></tr>\n",
       "\t<tr><td>1968 </td><td>14.8 </td><td>13.4 </td><td>8.2  </td><td>20.4 </td><td>62.0 </td><td>11.6 </td><td>19.6 </td><td>28.8 </td><td>64.7 </td><td>46.2 </td><td>21.0 </td><td>9.5  </td><td>320.2</td><td>43.3 </td><td>90.7 </td><td>60.0 </td><td>131.9</td></tr>\n",
       "\t<tr><td>1969 </td><td>5.8  </td><td>10.0 </td><td>8.6  </td><td>15.3 </td><td>13.4 </td><td>37.7 </td><td>78.0 </td><td>53.5 </td><td>12.2 </td><td>9.4  </td><td>34.9 </td><td>11.0 </td><td>289.8</td><td>25.4 </td><td>37.2 </td><td>169.2</td><td>56.5 </td></tr>\n",
       "\t<tr><td>1970 </td><td>6.0  </td><td>6.5  </td><td>10.0 </td><td>16.5 </td><td>10.9 </td><td>37.5 </td><td>19.1 </td><td>79.4 </td><td>61.2 </td><td>53.2 </td><td>10.0 </td><td>9.4  </td><td>319.7</td><td>23.5 </td><td>37.4 </td><td>136.0</td><td>124.4</td></tr>\n",
       "\t<tr><td>1971 </td><td>7.8  </td><td>38.3 </td><td>29.1 </td><td>21.5 </td><td>33.0 </td><td>2.9  </td><td>41.4 </td><td>43.4 </td><td>84.6 </td><td>39.4 </td><td>14.1 </td><td>11.5 </td><td>367.0</td><td>55.5 </td><td>83.6 </td><td>87.8 </td><td>138.1</td></tr>\n",
       "\t<tr><td>1972 </td><td>14.8 </td><td>8.7  </td><td>12.6 </td><td>22.7 </td><td>30.2 </td><td>11.2 </td><td>50.1 </td><td>48.7 </td><td>34.8 </td><td>27.6 </td><td>16.7 </td><td>7.2  </td><td>285.3</td><td>35.0 </td><td>65.5 </td><td>109.9</td><td>79.0 </td></tr>\n",
       "\t<tr><td>1973 </td><td>14.8 </td><td>3.2  </td><td>27.8 </td><td>10.8 </td><td>13.4 </td><td>30.1 </td><td>22.7 </td><td>96.4 </td><td>33.6 </td><td>37.0 </td><td>8.5  </td><td>3.2  </td><td>301.5</td><td>25.2 </td><td>52.0 </td><td>149.2</td><td>79.1 </td></tr>\n",
       "\t<tr><td>1974 </td><td>4.6  </td><td>9.6  </td><td>6.5  </td><td>14.0 </td><td>30.0 </td><td>41.9 </td><td>46.6 </td><td>35.7 </td><td>38.0 </td><td>70.7 </td><td>12.4 </td><td>16.6 </td><td>326.7</td><td>17.4 </td><td>50.6 </td><td>124.3</td><td>121.2</td></tr>\n",
       "\t<tr><td>1975 </td><td>4.7  </td><td>5.4  </td><td>5.6  </td><td>14.2 </td><td>26.1 </td><td>6.2  </td><td>25.9 </td><td>67.5 </td><td>17.0 </td><td>31.0 </td><td>14.5 </td><td>14.3 </td><td>232.3</td><td>26.6 </td><td>45.8 </td><td>99.6 </td><td>62.5 </td></tr>\n",
       "\t<tr><td>1976 </td><td>15.0 </td><td>10.4 </td><td>10.0 </td><td>6.3  </td><td>46.1 </td><td>58.6 </td><td>36.9 </td><td>26.3 </td><td>56.4 </td><td>43.0 </td><td>26.8 </td><td>10.0 </td><td>345.7</td><td>39.7 </td><td>62.4 </td><td>121.8</td><td>126.1</td></tr>\n",
       "\t<tr><td>1977 </td><td>16.1 </td><td>22.6 </td><td>22.1 </td><td>31.7 </td><td>18.9 </td><td>17.8 </td><td>19.4 </td><td>43.1 </td><td>19.5 </td><td>25.1 </td><td>19.6 </td><td>45.4 </td><td>301.3</td><td>48.7 </td><td>72.7 </td><td>80.2 </td><td>64.3 </td></tr>\n",
       "\t<tr><td>1978 </td><td>13.8 </td><td>10.5 </td><td>11.5 </td><td>13.7 </td><td>20.9 </td><td>42.5 </td><td>22.9 </td><td>40.5 </td><td>13.4 </td><td>100.4</td><td>20.5 </td><td>23.5 </td><td>333.8</td><td>69.6 </td><td>46.0 </td><td>105.9</td><td>134.2</td></tr>\n",
       "\t<tr><td>1979 </td><td>13.0 </td><td>5.5  </td><td>9.9  </td><td>24.4 </td><td>26.3 </td><td>17.8 </td><td>45.4 </td><td>41.7 </td><td>25.1 </td><td>35.2 </td><td>23.3 </td><td>18.1 </td><td>285.6</td><td>41.9 </td><td>60.6 </td><td>105.0</td><td>83.6 </td></tr>\n",
       "\t<tr><td>1980 </td><td>6.8  </td><td>5.5  </td><td>7.4  </td><td>5.1  </td><td>11.4 </td><td>4.3  </td><td>27.6 </td><td>37.8 </td><td>27.4 </td><td>43.9 </td><td>31.0 </td><td>14.4 </td><td>222.5</td><td>30.4 </td><td>23.9 </td><td>69.7 </td><td>102.2</td></tr>\n",
       "\t<tr><td>1981 </td><td>8.4  </td><td>21.3 </td><td>31.0 </td><td>6.6  </td><td>7.8  </td><td>36.2 </td><td>41.6 </td><td>38.2 </td><td>60.2 </td><td>25.9 </td><td>28.3 </td><td>8.7  </td><td>314.2</td><td>44.1 </td><td>45.4 </td><td>116.0</td><td>114.4</td></tr>\n",
       "\t<tr><td>1982 </td><td>2.1  </td><td>4.3  </td><td>2.8  </td><td>16.1 </td><td>15.6 </td><td>48.9 </td><td>38.9 </td><td>66.0 </td><td>41.4 </td><td>24.7 </td><td>16.9 </td><td>17.8 </td><td>295.4</td><td>15.0 </td><td>34.4 </td><td>153.8</td><td>83.0 </td></tr>\n",
       "\t<tr><td>1983 </td><td>28.3 </td><td>7.3  </td><td>19.9 </td><td>19.1 </td><td>20.4 </td><td>11.8 </td><td>81.5 </td><td>79.1 </td><td>84.0 </td><td>46.6 </td><td>12.9 </td><td>8.3  </td><td>419.2</td><td>53.4 </td><td>59.4 </td><td>172.4</td><td>143.5</td></tr>\n",
       "\t<tr><td>1984 </td><td>8.6  </td><td>22.1 </td><td>18.1 </td><td>22.5 </td><td>19.4 </td><td>62.5 </td><td>74.1 </td><td>58.7 </td><td>22.5 </td><td>28.5 </td><td>15.9 </td><td>12.0 </td><td>365.2</td><td>39.1 </td><td>60.1 </td><td>195.4</td><td>67.0 </td></tr>\n",
       "\t<tr><td>1985 </td><td>11.9 </td><td>14.5 </td><td>13.2 </td><td>29.4 </td><td>12.5 </td><td>21.8 </td><td>94.9 </td><td>51.6 </td><td>48.5 </td><td>27.6 </td><td>11.8 </td><td>8.7  </td><td>346.5</td><td>38.4 </td><td>55.2 </td><td>168.4</td><td>87.9 </td></tr>\n",
       "\t<tr><td>1986 </td><td>23.1 </td><td>11.5 </td><td>6.6  </td><td>22.1 </td><td>32.5 </td><td>19.6 </td><td>20.1 </td><td>106.4</td><td>34.2 </td><td>32.2 </td><td>15.9 </td><td>15.5 </td><td>339.8</td><td>43.3 </td><td>61.2 </td><td>146.1</td><td>82.4 </td></tr>\n",
       "\t<tr><td>1987 </td><td>13.3 </td><td>8.3  </td><td>7.2  </td><td>8.6  </td><td>10.6 </td><td>71.3 </td><td>44.6 </td><td>51.9 </td><td>38.2 </td><td>38.6 </td><td>50.4 </td><td>28.4 </td><td>371.5</td><td>37.1 </td><td>26.3 </td><td>167.9</td><td>127.2</td></tr>\n",
       "\t<tr><td>1988 </td><td>2.7  </td><td>4.5  </td><td>5.6  </td><td>7.1  </td><td>12.8 </td><td>52.9 </td><td>35.2 </td><td>21.3 </td><td>47.5 </td><td>35.7 </td><td>24.8 </td><td>9.8  </td><td>259.9</td><td>35.7 </td><td>25.4 </td><td>109.4</td><td>108.0</td></tr>\n",
       "\t<tr><td>1989 </td><td>22.9 </td><td>5.3  </td><td>11.7 </td><td>4.5  </td><td>40.9 </td><td>8.2  </td><td>37.6 </td><td>29.4 </td><td>37.7 </td><td>14.9 </td><td>16.4 </td><td>19.0 </td><td>248.4</td><td>38.0 </td><td>57.1 </td><td>75.2 </td><td>68.9 </td></tr>\n",
       "\t<tr><td>1990 </td><td>14.8 </td><td>7.4  </td><td>14.0 </td><td>10.3 </td><td>4.6  </td><td>26.3 </td><td>26.0 </td><td>58.7 </td><td>52.7 </td><td>23.9 </td><td>11.8 </td><td>17.1 </td><td>267.6</td><td>41.2 </td><td>28.9 </td><td>111.0</td><td>88.3 </td></tr>\n",
       "\t<tr><td>1991 </td><td>9.8  </td><td>15.1 </td><td>14.4 </td><td>29.5 </td><td>16.6 </td><td>15.2 </td><td>46.3 </td><td>80.7 </td><td>52.4 </td><td>30.1 </td><td>20.4 </td><td>21.9 </td><td>352.3</td><td>42.0 </td><td>60.4 </td><td>142.2</td><td>102.9</td></tr>\n",
       "\t<tr><td>1992 </td><td>20.6 </td><td>10.7 </td><td>11.6 </td><td>23.0 </td><td>23.5 </td><td>23.9 </td><td>16.1 </td><td>51.0 </td><td>35.2 </td><td>49.0 </td><td>18.1 </td><td>6.5  </td><td>289.1</td><td>53.2 </td><td>58.0 </td><td>91.0 </td><td>102.3</td></tr>\n",
       "\t<tr><td>1993 </td><td>7.8  </td><td>21.9 </td><td>15.3 </td><td>8.0  </td><td>32.6 </td><td>26.8 </td><td>91.7 </td><td>31.3 </td><td>33.8 </td><td>22.2 </td><td>17.1 </td><td>14.0 </td><td>322.4</td><td>36.1 </td><td>55.8 </td><td>149.8</td><td>73.1 </td></tr>\n",
       "\t<tr><td>1994 </td><td>5.0  </td><td>3.0  </td><td>24.3 </td><td>9.9  </td><td>17.7 </td><td>43.1 </td><td>14.9 </td><td>50.3 </td><td>48.2 </td><td>33.3 </td><td>12.5 </td><td>17.3 </td><td>279.5</td><td>21.9 </td><td>51.9 </td><td>108.4</td><td>93.9 </td></tr>\n",
       "\t<tr><td>1995 </td><td>7.0  </td><td>5.0  </td><td>43.4 </td><td>7.9  </td><td>14.3 </td><td>23.0 </td><td>43.5 </td><td>83.5 </td><td>54.7 </td><td>42.0 </td><td>9.2  </td><td>26.9 </td><td>360.4</td><td>29.4 </td><td>65.6 </td><td>149.9</td><td>105.9</td></tr>\n",
       "\t<tr><td>1996 </td><td>7.0  </td><td>21.2 </td><td>6.2  </td><td>9.6  </td><td>28.3 </td><td>56.2 </td><td>60.5 </td><td>163.3</td><td>73.8 </td><td>15.0 </td><td>15.9 </td><td>8.7  </td><td>465.7</td><td>55.1 </td><td>44.1 </td><td>280.0</td><td>104.7</td></tr>\n",
       "\t<tr><td>1997 </td><td>8.3  </td><td>8.0  </td><td>8.7  </td><td>15.0 </td><td>30.6 </td><td>24.0 </td><td>20.6 </td><td>62.9 </td><td>29.4 </td><td>51.5 </td><td>15.1 </td><td>20.0 </td><td>294.2</td><td>25.0 </td><td>54.3 </td><td>107.6</td><td>96.1 </td></tr>\n",
       "\t<tr><td>1998 </td><td>7.0  </td><td>8.7  </td><td>7.5  </td><td>20.2 </td><td>21.4 </td><td>41.4 </td><td>33.5 </td><td>61.5 </td><td>67.4 </td><td>58.8 </td><td>19.2 </td><td>24.5 </td><td>371.3</td><td>35.7 </td><td>49.2 </td><td>136.4</td><td>145.4</td></tr>\n",
       "\t<tr><td>1999 </td><td>11.3 </td><td>8.6  </td><td>16.3 </td><td>28.2 </td><td>28.1 </td><td>22.2 </td><td>66.9 </td><td>61.1 </td><td>90.0 </td><td>26.9 </td><td>16.3 </td><td>34.8 </td><td>410.8</td><td>44.4 </td><td>72.6 </td><td>150.2</td><td>133.1</td></tr>\n",
       "\t<tr><td>2000 </td><td>5.4  </td><td>6.6  </td><td>8.6  </td><td>14.7 </td><td>21.1 </td><td>6.0  </td><td>29.5 </td><td>52.8 </td><td>63.7 </td><td>48.4 </td><td>16.7 </td><td>9.5  </td><td>283.1</td><td>46.7 </td><td>44.4 </td><td>88.4 </td><td>128.8</td></tr>\n",
       "\t<tr><td>2001 </td><td>8.6  </td><td>9.1  </td><td>27.7 </td><td>33.8 </td><td>45.3 </td><td>8.7  </td><td>47.8 </td><td>49.9 </td><td>11.8 </td><td>23.2 </td><td>30.9 </td><td>14.2 </td><td>311.0</td><td>27.1 </td><td>106.8</td><td>106.5</td><td>65.9 </td></tr>\n",
       "\t<tr><td>2002 </td><td>9.0  </td><td>3.8  </td><td>8.5  </td><td>17.9 </td><td>5.7  </td><td>38.3 </td><td>71.0 </td><td>98.0 </td><td>57.1 </td><td>16.6 </td><td>22.8 </td><td>13.5 </td><td>362.2</td><td>27.0 </td><td>32.1 </td><td>207.3</td><td>96.5 </td></tr>\n",
       "\t<tr><td>2003 </td><td>4.8  </td><td>1.4  </td><td>22.6 </td><td>4.0  </td><td>26.3 </td><td>20.9 </td><td>47.2 </td><td>73.5 </td><td>40.3 </td><td>32.8 </td><td>34.9 </td><td>18.2 </td><td>326.9</td><td>19.7 </td><td>52.9 </td><td>141.6</td><td>108.0</td></tr>\n",
       "\t<tr><td>2004 </td><td>13.3 </td><td>14.2 </td><td>10.9 </td><td>20.5 </td><td>7.5  </td><td>24.6 </td><td>14.6 </td><td>116.9</td><td>67.2 </td><td>33.2 </td><td>34.4 </td><td>5.2  </td><td>362.6</td><td>45.7 </td><td>38.9 </td><td>156.1</td><td>134.8</td></tr>\n",
       "\t<tr><td>2005 </td><td>16.9 </td><td>8.5  </td><td>15.0 </td><td>21.6 </td><td>13.4 </td><td>63.6 </td><td>32.3 </td><td>68.3 </td><td>30.3 </td><td>37.7 </td><td>22.2 </td><td>14.2 </td><td>344.0</td><td>30.7 </td><td>50.0 </td><td>164.1</td><td>90.2 </td></tr>\n",
       "\t<tr><td>2006 </td><td>17.1 </td><td>8.4  </td><td>19.2 </td><td>19.3 </td><td>11.4 </td><td>67.2 </td><td>24.0 </td><td>37.8 </td><td>0.0  </td><td>33.6 </td><td>0.0  </td><td>NA   </td><td>NA   </td><td>39.8 </td><td>49.9 </td><td>129.1</td><td>33.6 </td></tr>\n",
       "\t<tr><td>2007 </td><td>NA   </td><td>NA   </td><td>NA   </td><td>15.5 </td><td>NA   </td><td>1.1  </td><td>46.8 </td><td>NA   </td><td>NA   </td><td>NA   </td><td>NA   </td><td>NA   </td><td>NA   </td><td>NA   </td><td>NA   </td><td>NA   </td><td>NA   </td></tr>\n",
       "\t<tr><td>2008 </td><td>NA   </td><td>NA   </td><td>NA   </td><td>NA   </td><td>NA   </td><td>NA   </td><td>NA   </td><td>NA   </td><td>NA   </td><td>NA   </td><td>NA   </td><td>NA   </td><td>NA   </td><td>NA   </td><td>NA   </td><td>NA   </td><td>NA   </td></tr>\n",
       "\t<tr><td>2009 </td><td>NA   </td><td>NA   </td><td>NA   </td><td>NA   </td><td>NA   </td><td>NA   </td><td>NA   </td><td>NA   </td><td>NA   </td><td>NA   </td><td>NA   </td><td>NA   </td><td>NA   </td><td>NA   </td><td>NA   </td><td>NA   </td><td>NA   </td></tr>\n",
       "\t<tr><td>2010 </td><td>NA   </td><td>NA   </td><td>NA   </td><td>NA   </td><td>NA   </td><td>NA   </td><td>NA   </td><td>NA   </td><td>NA   </td><td>NA   </td><td>NA   </td><td>NA   </td><td>NA   </td><td>NA   </td><td>NA   </td><td>NA   </td><td>NA   </td></tr>\n",
       "\t<tr><td>2011 </td><td>NA   </td><td>NA   </td><td>NA   </td><td>NA   </td><td>NA   </td><td>NA   </td><td>NA   </td><td>NA   </td><td>NA   </td><td>NA   </td><td>NA   </td><td>NA   </td><td>NA   </td><td>NA   </td><td>NA   </td><td>NA   </td><td>NA   </td></tr>\n",
       "\t<tr><td>2012 </td><td>NA   </td><td>NA   </td><td>NA   </td><td>NA   </td><td>NA   </td><td>NA   </td><td>NA   </td><td>NA   </td><td>NA   </td><td>NA   </td><td>NA   </td><td>NA   </td><td>NA   </td><td>NA   </td><td>NA   </td><td>NA   </td><td>NA   </td></tr>\n",
       "\t<tr><td>2013 </td><td>NA   </td><td>NA   </td><td>NA   </td><td>NA   </td><td>NA   </td><td>NA   </td><td>NA   </td><td>NA   </td><td>NA   </td><td>NA   </td><td>NA   </td><td>NA   </td><td>NA   </td><td>NA   </td><td>NA   </td><td>NA   </td><td>NA   </td></tr>\n",
       "\t<tr><td>2014 </td><td>NA   </td><td>NA   </td><td>NA   </td><td>NA   </td><td>NA   </td><td>NA   </td><td>NA   </td><td>NA   </td><td>NA   </td><td>NA   </td><td>NA   </td><td>NA   </td><td>NA   </td><td>NA   </td><td>NA   </td><td>NA   </td><td>NA   </td></tr>\n",
       "\t<tr><td>2015 </td><td>NA   </td><td>NA   </td><td>NA   </td><td>NA   </td><td>NA   </td><td>NA   </td><td>NA   </td><td>NA   </td><td>NA   </td><td>NA   </td><td>NA   </td><td>NA   </td><td>NA   </td><td>NA   </td><td>NA   </td><td>NA   </td><td>NA   </td></tr>\n",
       "\t<tr><td>2016 </td><td>NA   </td><td>NA   </td><td>NA   </td><td>NA   </td><td>NA   </td><td>NA   </td><td>NA   </td><td>NA   </td><td>NA   </td><td>NA   </td><td>NA   </td><td>NA   </td><td>NA   </td><td>NA   </td><td>NA   </td><td>NA   </td><td>NA   </td></tr>\n",
       "\t<tr><td>2017 </td><td>NA   </td><td>NA   </td><td>NA   </td><td>NA   </td><td>NA   </td><td>NA   </td><td>NA   </td><td>NA   </td><td>NA   </td><td>NA   </td><td>NA   </td><td>NA   </td><td>NA   </td><td>NA   </td><td>NA   </td><td>NA   </td><td>NA   </td></tr>\n",
       "</tbody>\n",
       "</table>\n"
      ],
      "text/latex": [
       "\\begin{tabular}{r|llllllllllllllllll}\n",
       " Year & Jan & Feb & Mar & Apr & May & Jun & Jul & Aug & Sep & Oct & Nov & Dec & Annual & Winter & Spring & Summer & Autumn\\\\\n",
       "\\hline\n",
       "\t 1959  & 11.2  & 31.7  & 20.9  & 9.7   & 22.1  & 128.0 & 38.5  & 34.2  & 24.5  & 30.5  & 17.9  & 17.4  & 386.7 & NA    & 52.8  & 200.7 & 72.8 \\\\\n",
       "\t 1960  & 9.0   & 19.3  & 16.6  & 15.0  & 14.6  & 11.2  & 54.9  & 74.0  & 65.8  & 54.7  & 16.9  & 16.2  & 368.3 & 45.7  & 46.2  & 140.1 & 137.4\\\\\n",
       "\t 1961  & 12.1  & 15.5  & 17.3  & 13.3  & 31.2  & 44.2  & 69.7  & 72.6  & 28.1  & 24.0  & 24.4  & 12.4  & 364.8 & 43.8  & 61.8  & 186.5 & 76.5 \\\\\n",
       "\t 1962  & 9.6   & 7.9   & 18.1  & 10.2  & 20.0  & 16.7  & 32.3  & 24.0  & 23.1  & 31.7  & 36.6  & 15.7  & 245.8 & 29.9  & 48.3  & 73.0  & 91.3 \\\\\n",
       "\t 1963  & 8.7   & 5.2   & 14.4  & 16.0  & 22.1  & 68.5  & 33.4  & 47.6  & 10.8  & 30.6  & 33.9  & 17.7  & 308.9 & 29.6  & 52.5  & 149.5 & 75.4 \\\\\n",
       "\t 1964  & 13.2  & 17.7  & 6.0   & 17.0  & 13.0  & 23.9  & 77.9  & 29.2  & 33.3  & 35.4  & 8.1   & 25.7  & 300.5 & 48.6  & 36.0  & 131.0 & 76.9 \\\\\n",
       "\t 1965  & 11.8  & 2.2   & 14.7  & 8.2   & 9.0   & 26.4  & 41.6  & 35.3  & 22.2  & 16.6  & 17.4  & 5.6   & 211.1 & 39.8  & 31.8  & 103.4 & 56.2 \\\\\n",
       "\t 1966  & 1.5   & 6.6   & 10.0  & 7.0   & 12.8  & 20.6  & 47.9  & 48.4  & 49.0  & 12.0  & 9.6   & 12.4  & 237.8 & 13.7  & 29.8  & 116.9 & 70.6 \\\\\n",
       "\t 1967  & 11.1  & 9.1   & 6.2   & 7.8   & 12.3  & 64.3  & 60.7  & 43.9  & 86.4  & 34.8  & 16.9  & 15.2  & 368.6 & 32.6  & 26.4  & 168.9 & 138.1\\\\\n",
       "\t 1968  & 14.8  & 13.4  & 8.2   & 20.4  & 62.0  & 11.6  & 19.6  & 28.8  & 64.7  & 46.2  & 21.0  & 9.5   & 320.2 & 43.3  & 90.7  & 60.0  & 131.9\\\\\n",
       "\t 1969  & 5.8   & 10.0  & 8.6   & 15.3  & 13.4  & 37.7  & 78.0  & 53.5  & 12.2  & 9.4   & 34.9  & 11.0  & 289.8 & 25.4  & 37.2  & 169.2 & 56.5 \\\\\n",
       "\t 1970  & 6.0   & 6.5   & 10.0  & 16.5  & 10.9  & 37.5  & 19.1  & 79.4  & 61.2  & 53.2  & 10.0  & 9.4   & 319.7 & 23.5  & 37.4  & 136.0 & 124.4\\\\\n",
       "\t 1971  & 7.8   & 38.3  & 29.1  & 21.5  & 33.0  & 2.9   & 41.4  & 43.4  & 84.6  & 39.4  & 14.1  & 11.5  & 367.0 & 55.5  & 83.6  & 87.8  & 138.1\\\\\n",
       "\t 1972  & 14.8  & 8.7   & 12.6  & 22.7  & 30.2  & 11.2  & 50.1  & 48.7  & 34.8  & 27.6  & 16.7  & 7.2   & 285.3 & 35.0  & 65.5  & 109.9 & 79.0 \\\\\n",
       "\t 1973  & 14.8  & 3.2   & 27.8  & 10.8  & 13.4  & 30.1  & 22.7  & 96.4  & 33.6  & 37.0  & 8.5   & 3.2   & 301.5 & 25.2  & 52.0  & 149.2 & 79.1 \\\\\n",
       "\t 1974  & 4.6   & 9.6   & 6.5   & 14.0  & 30.0  & 41.9  & 46.6  & 35.7  & 38.0  & 70.7  & 12.4  & 16.6  & 326.7 & 17.4  & 50.6  & 124.3 & 121.2\\\\\n",
       "\t 1975  & 4.7   & 5.4   & 5.6   & 14.2  & 26.1  & 6.2   & 25.9  & 67.5  & 17.0  & 31.0  & 14.5  & 14.3  & 232.3 & 26.6  & 45.8  & 99.6  & 62.5 \\\\\n",
       "\t 1976  & 15.0  & 10.4  & 10.0  & 6.3   & 46.1  & 58.6  & 36.9  & 26.3  & 56.4  & 43.0  & 26.8  & 10.0  & 345.7 & 39.7  & 62.4  & 121.8 & 126.1\\\\\n",
       "\t 1977  & 16.1  & 22.6  & 22.1  & 31.7  & 18.9  & 17.8  & 19.4  & 43.1  & 19.5  & 25.1  & 19.6  & 45.4  & 301.3 & 48.7  & 72.7  & 80.2  & 64.3 \\\\\n",
       "\t 1978  & 13.8  & 10.5  & 11.5  & 13.7  & 20.9  & 42.5  & 22.9  & 40.5  & 13.4  & 100.4 & 20.5  & 23.5  & 333.8 & 69.6  & 46.0  & 105.9 & 134.2\\\\\n",
       "\t 1979  & 13.0  & 5.5   & 9.9   & 24.4  & 26.3  & 17.8  & 45.4  & 41.7  & 25.1  & 35.2  & 23.3  & 18.1  & 285.6 & 41.9  & 60.6  & 105.0 & 83.6 \\\\\n",
       "\t 1980  & 6.8   & 5.5   & 7.4   & 5.1   & 11.4  & 4.3   & 27.6  & 37.8  & 27.4  & 43.9  & 31.0  & 14.4  & 222.5 & 30.4  & 23.9  & 69.7  & 102.2\\\\\n",
       "\t 1981  & 8.4   & 21.3  & 31.0  & 6.6   & 7.8   & 36.2  & 41.6  & 38.2  & 60.2  & 25.9  & 28.3  & 8.7   & 314.2 & 44.1  & 45.4  & 116.0 & 114.4\\\\\n",
       "\t 1982  & 2.1   & 4.3   & 2.8   & 16.1  & 15.6  & 48.9  & 38.9  & 66.0  & 41.4  & 24.7  & 16.9  & 17.8  & 295.4 & 15.0  & 34.4  & 153.8 & 83.0 \\\\\n",
       "\t 1983  & 28.3  & 7.3   & 19.9  & 19.1  & 20.4  & 11.8  & 81.5  & 79.1  & 84.0  & 46.6  & 12.9  & 8.3   & 419.2 & 53.4  & 59.4  & 172.4 & 143.5\\\\\n",
       "\t 1984  & 8.6   & 22.1  & 18.1  & 22.5  & 19.4  & 62.5  & 74.1  & 58.7  & 22.5  & 28.5  & 15.9  & 12.0  & 365.2 & 39.1  & 60.1  & 195.4 & 67.0 \\\\\n",
       "\t 1985  & 11.9  & 14.5  & 13.2  & 29.4  & 12.5  & 21.8  & 94.9  & 51.6  & 48.5  & 27.6  & 11.8  & 8.7   & 346.5 & 38.4  & 55.2  & 168.4 & 87.9 \\\\\n",
       "\t 1986  & 23.1  & 11.5  & 6.6   & 22.1  & 32.5  & 19.6  & 20.1  & 106.4 & 34.2  & 32.2  & 15.9  & 15.5  & 339.8 & 43.3  & 61.2  & 146.1 & 82.4 \\\\\n",
       "\t 1987  & 13.3  & 8.3   & 7.2   & 8.6   & 10.6  & 71.3  & 44.6  & 51.9  & 38.2  & 38.6  & 50.4  & 28.4  & 371.5 & 37.1  & 26.3  & 167.9 & 127.2\\\\\n",
       "\t 1988  & 2.7   & 4.5   & 5.6   & 7.1   & 12.8  & 52.9  & 35.2  & 21.3  & 47.5  & 35.7  & 24.8  & 9.8   & 259.9 & 35.7  & 25.4  & 109.4 & 108.0\\\\\n",
       "\t 1989  & 22.9  & 5.3   & 11.7  & 4.5   & 40.9  & 8.2   & 37.6  & 29.4  & 37.7  & 14.9  & 16.4  & 19.0  & 248.4 & 38.0  & 57.1  & 75.2  & 68.9 \\\\\n",
       "\t 1990  & 14.8  & 7.4   & 14.0  & 10.3  & 4.6   & 26.3  & 26.0  & 58.7  & 52.7  & 23.9  & 11.8  & 17.1  & 267.6 & 41.2  & 28.9  & 111.0 & 88.3 \\\\\n",
       "\t 1991  & 9.8   & 15.1  & 14.4  & 29.5  & 16.6  & 15.2  & 46.3  & 80.7  & 52.4  & 30.1  & 20.4  & 21.9  & 352.3 & 42.0  & 60.4  & 142.2 & 102.9\\\\\n",
       "\t 1992  & 20.6  & 10.7  & 11.6  & 23.0  & 23.5  & 23.9  & 16.1  & 51.0  & 35.2  & 49.0  & 18.1  & 6.5   & 289.1 & 53.2  & 58.0  & 91.0  & 102.3\\\\\n",
       "\t 1993  & 7.8   & 21.9  & 15.3  & 8.0   & 32.6  & 26.8  & 91.7  & 31.3  & 33.8  & 22.2  & 17.1  & 14.0  & 322.4 & 36.1  & 55.8  & 149.8 & 73.1 \\\\\n",
       "\t 1994  & 5.0   & 3.0   & 24.3  & 9.9   & 17.7  & 43.1  & 14.9  & 50.3  & 48.2  & 33.3  & 12.5  & 17.3  & 279.5 & 21.9  & 51.9  & 108.4 & 93.9 \\\\\n",
       "\t 1995  & 7.0   & 5.0   & 43.4  & 7.9   & 14.3  & 23.0  & 43.5  & 83.5  & 54.7  & 42.0  & 9.2   & 26.9  & 360.4 & 29.4  & 65.6  & 149.9 & 105.9\\\\\n",
       "\t 1996  & 7.0   & 21.2  & 6.2   & 9.6   & 28.3  & 56.2  & 60.5  & 163.3 & 73.8  & 15.0  & 15.9  & 8.7   & 465.7 & 55.1  & 44.1  & 280.0 & 104.7\\\\\n",
       "\t 1997  & 8.3   & 8.0   & 8.7   & 15.0  & 30.6  & 24.0  & 20.6  & 62.9  & 29.4  & 51.5  & 15.1  & 20.0  & 294.2 & 25.0  & 54.3  & 107.6 & 96.1 \\\\\n",
       "\t 1998  & 7.0   & 8.7   & 7.5   & 20.2  & 21.4  & 41.4  & 33.5  & 61.5  & 67.4  & 58.8  & 19.2  & 24.5  & 371.3 & 35.7  & 49.2  & 136.4 & 145.4\\\\\n",
       "\t 1999  & 11.3  & 8.6   & 16.3  & 28.2  & 28.1  & 22.2  & 66.9  & 61.1  & 90.0  & 26.9  & 16.3  & 34.8  & 410.8 & 44.4  & 72.6  & 150.2 & 133.1\\\\\n",
       "\t 2000  & 5.4   & 6.6   & 8.6   & 14.7  & 21.1  & 6.0   & 29.5  & 52.8  & 63.7  & 48.4  & 16.7  & 9.5   & 283.1 & 46.7  & 44.4  & 88.4  & 128.8\\\\\n",
       "\t 2001  & 8.6   & 9.1   & 27.7  & 33.8  & 45.3  & 8.7   & 47.8  & 49.9  & 11.8  & 23.2  & 30.9  & 14.2  & 311.0 & 27.1  & 106.8 & 106.5 & 65.9 \\\\\n",
       "\t 2002  & 9.0   & 3.8   & 8.5   & 17.9  & 5.7   & 38.3  & 71.0  & 98.0  & 57.1  & 16.6  & 22.8  & 13.5  & 362.2 & 27.0  & 32.1  & 207.3 & 96.5 \\\\\n",
       "\t 2003  & 4.8   & 1.4   & 22.6  & 4.0   & 26.3  & 20.9  & 47.2  & 73.5  & 40.3  & 32.8  & 34.9  & 18.2  & 326.9 & 19.7  & 52.9  & 141.6 & 108.0\\\\\n",
       "\t 2004  & 13.3  & 14.2  & 10.9  & 20.5  & 7.5   & 24.6  & 14.6  & 116.9 & 67.2  & 33.2  & 34.4  & 5.2   & 362.6 & 45.7  & 38.9  & 156.1 & 134.8\\\\\n",
       "\t 2005  & 16.9  & 8.5   & 15.0  & 21.6  & 13.4  & 63.6  & 32.3  & 68.3  & 30.3  & 37.7  & 22.2  & 14.2  & 344.0 & 30.7  & 50.0  & 164.1 & 90.2 \\\\\n",
       "\t 2006  & 17.1  & 8.4   & 19.2  & 19.3  & 11.4  & 67.2  & 24.0  & 37.8  & 0.0   & 33.6  & 0.0   & NA    & NA    & 39.8  & 49.9  & 129.1 & 33.6 \\\\\n",
       "\t 2007  & NA    & NA    & NA    & 15.5  & NA    & 1.1   & 46.8  & NA    & NA    & NA    & NA    & NA    & NA    & NA    & NA    & NA    & NA   \\\\\n",
       "\t 2008  & NA    & NA    & NA    & NA    & NA    & NA    & NA    & NA    & NA    & NA    & NA    & NA    & NA    & NA    & NA    & NA    & NA   \\\\\n",
       "\t 2009  & NA    & NA    & NA    & NA    & NA    & NA    & NA    & NA    & NA    & NA    & NA    & NA    & NA    & NA    & NA    & NA    & NA   \\\\\n",
       "\t 2010  & NA    & NA    & NA    & NA    & NA    & NA    & NA    & NA    & NA    & NA    & NA    & NA    & NA    & NA    & NA    & NA    & NA   \\\\\n",
       "\t 2011  & NA    & NA    & NA    & NA    & NA    & NA    & NA    & NA    & NA    & NA    & NA    & NA    & NA    & NA    & NA    & NA    & NA   \\\\\n",
       "\t 2012  & NA    & NA    & NA    & NA    & NA    & NA    & NA    & NA    & NA    & NA    & NA    & NA    & NA    & NA    & NA    & NA    & NA   \\\\\n",
       "\t 2013  & NA    & NA    & NA    & NA    & NA    & NA    & NA    & NA    & NA    & NA    & NA    & NA    & NA    & NA    & NA    & NA    & NA   \\\\\n",
       "\t 2014  & NA    & NA    & NA    & NA    & NA    & NA    & NA    & NA    & NA    & NA    & NA    & NA    & NA    & NA    & NA    & NA    & NA   \\\\\n",
       "\t 2015  & NA    & NA    & NA    & NA    & NA    & NA    & NA    & NA    & NA    & NA    & NA    & NA    & NA    & NA    & NA    & NA    & NA   \\\\\n",
       "\t 2016  & NA    & NA    & NA    & NA    & NA    & NA    & NA    & NA    & NA    & NA    & NA    & NA    & NA    & NA    & NA    & NA    & NA   \\\\\n",
       "\t 2017  & NA    & NA    & NA    & NA    & NA    & NA    & NA    & NA    & NA    & NA    & NA    & NA    & NA    & NA    & NA    & NA    & NA   \\\\\n",
       "\\end{tabular}\n"
      ],
      "text/markdown": [
       "\n",
       "| Year | Jan | Feb | Mar | Apr | May | Jun | Jul | Aug | Sep | Oct | Nov | Dec | Annual | Winter | Spring | Summer | Autumn |\n",
       "|---|---|---|---|---|---|---|---|---|---|---|---|---|---|---|---|---|---|\n",
       "| 1959  | 11.2  | 31.7  | 20.9  | 9.7   | 22.1  | 128.0 | 38.5  | 34.2  | 24.5  | 30.5  | 17.9  | 17.4  | 386.7 | NA    | 52.8  | 200.7 | 72.8  |\n",
       "| 1960  | 9.0   | 19.3  | 16.6  | 15.0  | 14.6  | 11.2  | 54.9  | 74.0  | 65.8  | 54.7  | 16.9  | 16.2  | 368.3 | 45.7  | 46.2  | 140.1 | 137.4 |\n",
       "| 1961  | 12.1  | 15.5  | 17.3  | 13.3  | 31.2  | 44.2  | 69.7  | 72.6  | 28.1  | 24.0  | 24.4  | 12.4  | 364.8 | 43.8  | 61.8  | 186.5 | 76.5  |\n",
       "| 1962  | 9.6   | 7.9   | 18.1  | 10.2  | 20.0  | 16.7  | 32.3  | 24.0  | 23.1  | 31.7  | 36.6  | 15.7  | 245.8 | 29.9  | 48.3  | 73.0  | 91.3  |\n",
       "| 1963  | 8.7   | 5.2   | 14.4  | 16.0  | 22.1  | 68.5  | 33.4  | 47.6  | 10.8  | 30.6  | 33.9  | 17.7  | 308.9 | 29.6  | 52.5  | 149.5 | 75.4  |\n",
       "| 1964  | 13.2  | 17.7  | 6.0   | 17.0  | 13.0  | 23.9  | 77.9  | 29.2  | 33.3  | 35.4  | 8.1   | 25.7  | 300.5 | 48.6  | 36.0  | 131.0 | 76.9  |\n",
       "| 1965  | 11.8  | 2.2   | 14.7  | 8.2   | 9.0   | 26.4  | 41.6  | 35.3  | 22.2  | 16.6  | 17.4  | 5.6   | 211.1 | 39.8  | 31.8  | 103.4 | 56.2  |\n",
       "| 1966  | 1.5   | 6.6   | 10.0  | 7.0   | 12.8  | 20.6  | 47.9  | 48.4  | 49.0  | 12.0  | 9.6   | 12.4  | 237.8 | 13.7  | 29.8  | 116.9 | 70.6  |\n",
       "| 1967  | 11.1  | 9.1   | 6.2   | 7.8   | 12.3  | 64.3  | 60.7  | 43.9  | 86.4  | 34.8  | 16.9  | 15.2  | 368.6 | 32.6  | 26.4  | 168.9 | 138.1 |\n",
       "| 1968  | 14.8  | 13.4  | 8.2   | 20.4  | 62.0  | 11.6  | 19.6  | 28.8  | 64.7  | 46.2  | 21.0  | 9.5   | 320.2 | 43.3  | 90.7  | 60.0  | 131.9 |\n",
       "| 1969  | 5.8   | 10.0  | 8.6   | 15.3  | 13.4  | 37.7  | 78.0  | 53.5  | 12.2  | 9.4   | 34.9  | 11.0  | 289.8 | 25.4  | 37.2  | 169.2 | 56.5  |\n",
       "| 1970  | 6.0   | 6.5   | 10.0  | 16.5  | 10.9  | 37.5  | 19.1  | 79.4  | 61.2  | 53.2  | 10.0  | 9.4   | 319.7 | 23.5  | 37.4  | 136.0 | 124.4 |\n",
       "| 1971  | 7.8   | 38.3  | 29.1  | 21.5  | 33.0  | 2.9   | 41.4  | 43.4  | 84.6  | 39.4  | 14.1  | 11.5  | 367.0 | 55.5  | 83.6  | 87.8  | 138.1 |\n",
       "| 1972  | 14.8  | 8.7   | 12.6  | 22.7  | 30.2  | 11.2  | 50.1  | 48.7  | 34.8  | 27.6  | 16.7  | 7.2   | 285.3 | 35.0  | 65.5  | 109.9 | 79.0  |\n",
       "| 1973  | 14.8  | 3.2   | 27.8  | 10.8  | 13.4  | 30.1  | 22.7  | 96.4  | 33.6  | 37.0  | 8.5   | 3.2   | 301.5 | 25.2  | 52.0  | 149.2 | 79.1  |\n",
       "| 1974  | 4.6   | 9.6   | 6.5   | 14.0  | 30.0  | 41.9  | 46.6  | 35.7  | 38.0  | 70.7  | 12.4  | 16.6  | 326.7 | 17.4  | 50.6  | 124.3 | 121.2 |\n",
       "| 1975  | 4.7   | 5.4   | 5.6   | 14.2  | 26.1  | 6.2   | 25.9  | 67.5  | 17.0  | 31.0  | 14.5  | 14.3  | 232.3 | 26.6  | 45.8  | 99.6  | 62.5  |\n",
       "| 1976  | 15.0  | 10.4  | 10.0  | 6.3   | 46.1  | 58.6  | 36.9  | 26.3  | 56.4  | 43.0  | 26.8  | 10.0  | 345.7 | 39.7  | 62.4  | 121.8 | 126.1 |\n",
       "| 1977  | 16.1  | 22.6  | 22.1  | 31.7  | 18.9  | 17.8  | 19.4  | 43.1  | 19.5  | 25.1  | 19.6  | 45.4  | 301.3 | 48.7  | 72.7  | 80.2  | 64.3  |\n",
       "| 1978  | 13.8  | 10.5  | 11.5  | 13.7  | 20.9  | 42.5  | 22.9  | 40.5  | 13.4  | 100.4 | 20.5  | 23.5  | 333.8 | 69.6  | 46.0  | 105.9 | 134.2 |\n",
       "| 1979  | 13.0  | 5.5   | 9.9   | 24.4  | 26.3  | 17.8  | 45.4  | 41.7  | 25.1  | 35.2  | 23.3  | 18.1  | 285.6 | 41.9  | 60.6  | 105.0 | 83.6  |\n",
       "| 1980  | 6.8   | 5.5   | 7.4   | 5.1   | 11.4  | 4.3   | 27.6  | 37.8  | 27.4  | 43.9  | 31.0  | 14.4  | 222.5 | 30.4  | 23.9  | 69.7  | 102.2 |\n",
       "| 1981  | 8.4   | 21.3  | 31.0  | 6.6   | 7.8   | 36.2  | 41.6  | 38.2  | 60.2  | 25.9  | 28.3  | 8.7   | 314.2 | 44.1  | 45.4  | 116.0 | 114.4 |\n",
       "| 1982  | 2.1   | 4.3   | 2.8   | 16.1  | 15.6  | 48.9  | 38.9  | 66.0  | 41.4  | 24.7  | 16.9  | 17.8  | 295.4 | 15.0  | 34.4  | 153.8 | 83.0  |\n",
       "| 1983  | 28.3  | 7.3   | 19.9  | 19.1  | 20.4  | 11.8  | 81.5  | 79.1  | 84.0  | 46.6  | 12.9  | 8.3   | 419.2 | 53.4  | 59.4  | 172.4 | 143.5 |\n",
       "| 1984  | 8.6   | 22.1  | 18.1  | 22.5  | 19.4  | 62.5  | 74.1  | 58.7  | 22.5  | 28.5  | 15.9  | 12.0  | 365.2 | 39.1  | 60.1  | 195.4 | 67.0  |\n",
       "| 1985  | 11.9  | 14.5  | 13.2  | 29.4  | 12.5  | 21.8  | 94.9  | 51.6  | 48.5  | 27.6  | 11.8  | 8.7   | 346.5 | 38.4  | 55.2  | 168.4 | 87.9  |\n",
       "| 1986  | 23.1  | 11.5  | 6.6   | 22.1  | 32.5  | 19.6  | 20.1  | 106.4 | 34.2  | 32.2  | 15.9  | 15.5  | 339.8 | 43.3  | 61.2  | 146.1 | 82.4  |\n",
       "| 1987  | 13.3  | 8.3   | 7.2   | 8.6   | 10.6  | 71.3  | 44.6  | 51.9  | 38.2  | 38.6  | 50.4  | 28.4  | 371.5 | 37.1  | 26.3  | 167.9 | 127.2 |\n",
       "| 1988  | 2.7   | 4.5   | 5.6   | 7.1   | 12.8  | 52.9  | 35.2  | 21.3  | 47.5  | 35.7  | 24.8  | 9.8   | 259.9 | 35.7  | 25.4  | 109.4 | 108.0 |\n",
       "| 1989  | 22.9  | 5.3   | 11.7  | 4.5   | 40.9  | 8.2   | 37.6  | 29.4  | 37.7  | 14.9  | 16.4  | 19.0  | 248.4 | 38.0  | 57.1  | 75.2  | 68.9  |\n",
       "| 1990  | 14.8  | 7.4   | 14.0  | 10.3  | 4.6   | 26.3  | 26.0  | 58.7  | 52.7  | 23.9  | 11.8  | 17.1  | 267.6 | 41.2  | 28.9  | 111.0 | 88.3  |\n",
       "| 1991  | 9.8   | 15.1  | 14.4  | 29.5  | 16.6  | 15.2  | 46.3  | 80.7  | 52.4  | 30.1  | 20.4  | 21.9  | 352.3 | 42.0  | 60.4  | 142.2 | 102.9 |\n",
       "| 1992  | 20.6  | 10.7  | 11.6  | 23.0  | 23.5  | 23.9  | 16.1  | 51.0  | 35.2  | 49.0  | 18.1  | 6.5   | 289.1 | 53.2  | 58.0  | 91.0  | 102.3 |\n",
       "| 1993  | 7.8   | 21.9  | 15.3  | 8.0   | 32.6  | 26.8  | 91.7  | 31.3  | 33.8  | 22.2  | 17.1  | 14.0  | 322.4 | 36.1  | 55.8  | 149.8 | 73.1  |\n",
       "| 1994  | 5.0   | 3.0   | 24.3  | 9.9   | 17.7  | 43.1  | 14.9  | 50.3  | 48.2  | 33.3  | 12.5  | 17.3  | 279.5 | 21.9  | 51.9  | 108.4 | 93.9  |\n",
       "| 1995  | 7.0   | 5.0   | 43.4  | 7.9   | 14.3  | 23.0  | 43.5  | 83.5  | 54.7  | 42.0  | 9.2   | 26.9  | 360.4 | 29.4  | 65.6  | 149.9 | 105.9 |\n",
       "| 1996  | 7.0   | 21.2  | 6.2   | 9.6   | 28.3  | 56.2  | 60.5  | 163.3 | 73.8  | 15.0  | 15.9  | 8.7   | 465.7 | 55.1  | 44.1  | 280.0 | 104.7 |\n",
       "| 1997  | 8.3   | 8.0   | 8.7   | 15.0  | 30.6  | 24.0  | 20.6  | 62.9  | 29.4  | 51.5  | 15.1  | 20.0  | 294.2 | 25.0  | 54.3  | 107.6 | 96.1  |\n",
       "| 1998  | 7.0   | 8.7   | 7.5   | 20.2  | 21.4  | 41.4  | 33.5  | 61.5  | 67.4  | 58.8  | 19.2  | 24.5  | 371.3 | 35.7  | 49.2  | 136.4 | 145.4 |\n",
       "| 1999  | 11.3  | 8.6   | 16.3  | 28.2  | 28.1  | 22.2  | 66.9  | 61.1  | 90.0  | 26.9  | 16.3  | 34.8  | 410.8 | 44.4  | 72.6  | 150.2 | 133.1 |\n",
       "| 2000  | 5.4   | 6.6   | 8.6   | 14.7  | 21.1  | 6.0   | 29.5  | 52.8  | 63.7  | 48.4  | 16.7  | 9.5   | 283.1 | 46.7  | 44.4  | 88.4  | 128.8 |\n",
       "| 2001  | 8.6   | 9.1   | 27.7  | 33.8  | 45.3  | 8.7   | 47.8  | 49.9  | 11.8  | 23.2  | 30.9  | 14.2  | 311.0 | 27.1  | 106.8 | 106.5 | 65.9  |\n",
       "| 2002  | 9.0   | 3.8   | 8.5   | 17.9  | 5.7   | 38.3  | 71.0  | 98.0  | 57.1  | 16.6  | 22.8  | 13.5  | 362.2 | 27.0  | 32.1  | 207.3 | 96.5  |\n",
       "| 2003  | 4.8   | 1.4   | 22.6  | 4.0   | 26.3  | 20.9  | 47.2  | 73.5  | 40.3  | 32.8  | 34.9  | 18.2  | 326.9 | 19.7  | 52.9  | 141.6 | 108.0 |\n",
       "| 2004  | 13.3  | 14.2  | 10.9  | 20.5  | 7.5   | 24.6  | 14.6  | 116.9 | 67.2  | 33.2  | 34.4  | 5.2   | 362.6 | 45.7  | 38.9  | 156.1 | 134.8 |\n",
       "| 2005  | 16.9  | 8.5   | 15.0  | 21.6  | 13.4  | 63.6  | 32.3  | 68.3  | 30.3  | 37.7  | 22.2  | 14.2  | 344.0 | 30.7  | 50.0  | 164.1 | 90.2  |\n",
       "| 2006  | 17.1  | 8.4   | 19.2  | 19.3  | 11.4  | 67.2  | 24.0  | 37.8  | 0.0   | 33.6  | 0.0   | NA    | NA    | 39.8  | 49.9  | 129.1 | 33.6  |\n",
       "| 2007  | NA    | NA    | NA    | 15.5  | NA    | 1.1   | 46.8  | NA    | NA    | NA    | NA    | NA    | NA    | NA    | NA    | NA    | NA    |\n",
       "| 2008  | NA    | NA    | NA    | NA    | NA    | NA    | NA    | NA    | NA    | NA    | NA    | NA    | NA    | NA    | NA    | NA    | NA    |\n",
       "| 2009  | NA    | NA    | NA    | NA    | NA    | NA    | NA    | NA    | NA    | NA    | NA    | NA    | NA    | NA    | NA    | NA    | NA    |\n",
       "| 2010  | NA    | NA    | NA    | NA    | NA    | NA    | NA    | NA    | NA    | NA    | NA    | NA    | NA    | NA    | NA    | NA    | NA    |\n",
       "| 2011  | NA    | NA    | NA    | NA    | NA    | NA    | NA    | NA    | NA    | NA    | NA    | NA    | NA    | NA    | NA    | NA    | NA    |\n",
       "| 2012  | NA    | NA    | NA    | NA    | NA    | NA    | NA    | NA    | NA    | NA    | NA    | NA    | NA    | NA    | NA    | NA    | NA    |\n",
       "| 2013  | NA    | NA    | NA    | NA    | NA    | NA    | NA    | NA    | NA    | NA    | NA    | NA    | NA    | NA    | NA    | NA    | NA    |\n",
       "| 2014  | NA    | NA    | NA    | NA    | NA    | NA    | NA    | NA    | NA    | NA    | NA    | NA    | NA    | NA    | NA    | NA    | NA    |\n",
       "| 2015  | NA    | NA    | NA    | NA    | NA    | NA    | NA    | NA    | NA    | NA    | NA    | NA    | NA    | NA    | NA    | NA    | NA    |\n",
       "| 2016  | NA    | NA    | NA    | NA    | NA    | NA    | NA    | NA    | NA    | NA    | NA    | NA    | NA    | NA    | NA    | NA    | NA    |\n",
       "| 2017  | NA    | NA    | NA    | NA    | NA    | NA    | NA    | NA    | NA    | NA    | NA    | NA    | NA    | NA    | NA    | NA    | NA    |\n",
       "\n"
      ],
      "text/plain": [
       "   Year Jan  Feb  Mar  Apr  May  Jun   Jul  Aug   Sep  Oct   Nov  Dec  Annual\n",
       "1  1959 11.2 31.7 20.9 9.7  22.1 128.0 38.5 34.2  24.5 30.5  17.9 17.4 386.7 \n",
       "2  1960 9.0  19.3 16.6 15.0 14.6 11.2  54.9 74.0  65.8 54.7  16.9 16.2 368.3 \n",
       "3  1961 12.1 15.5 17.3 13.3 31.2 44.2  69.7 72.6  28.1 24.0  24.4 12.4 364.8 \n",
       "4  1962 9.6  7.9  18.1 10.2 20.0 16.7  32.3 24.0  23.1 31.7  36.6 15.7 245.8 \n",
       "5  1963 8.7  5.2  14.4 16.0 22.1 68.5  33.4 47.6  10.8 30.6  33.9 17.7 308.9 \n",
       "6  1964 13.2 17.7 6.0  17.0 13.0 23.9  77.9 29.2  33.3 35.4  8.1  25.7 300.5 \n",
       "7  1965 11.8 2.2  14.7 8.2  9.0  26.4  41.6 35.3  22.2 16.6  17.4 5.6  211.1 \n",
       "8  1966 1.5  6.6  10.0 7.0  12.8 20.6  47.9 48.4  49.0 12.0  9.6  12.4 237.8 \n",
       "9  1967 11.1 9.1  6.2  7.8  12.3 64.3  60.7 43.9  86.4 34.8  16.9 15.2 368.6 \n",
       "10 1968 14.8 13.4 8.2  20.4 62.0 11.6  19.6 28.8  64.7 46.2  21.0 9.5  320.2 \n",
       "11 1969 5.8  10.0 8.6  15.3 13.4 37.7  78.0 53.5  12.2 9.4   34.9 11.0 289.8 \n",
       "12 1970 6.0  6.5  10.0 16.5 10.9 37.5  19.1 79.4  61.2 53.2  10.0 9.4  319.7 \n",
       "13 1971 7.8  38.3 29.1 21.5 33.0 2.9   41.4 43.4  84.6 39.4  14.1 11.5 367.0 \n",
       "14 1972 14.8 8.7  12.6 22.7 30.2 11.2  50.1 48.7  34.8 27.6  16.7 7.2  285.3 \n",
       "15 1973 14.8 3.2  27.8 10.8 13.4 30.1  22.7 96.4  33.6 37.0  8.5  3.2  301.5 \n",
       "16 1974 4.6  9.6  6.5  14.0 30.0 41.9  46.6 35.7  38.0 70.7  12.4 16.6 326.7 \n",
       "17 1975 4.7  5.4  5.6  14.2 26.1 6.2   25.9 67.5  17.0 31.0  14.5 14.3 232.3 \n",
       "18 1976 15.0 10.4 10.0 6.3  46.1 58.6  36.9 26.3  56.4 43.0  26.8 10.0 345.7 \n",
       "19 1977 16.1 22.6 22.1 31.7 18.9 17.8  19.4 43.1  19.5 25.1  19.6 45.4 301.3 \n",
       "20 1978 13.8 10.5 11.5 13.7 20.9 42.5  22.9 40.5  13.4 100.4 20.5 23.5 333.8 \n",
       "21 1979 13.0 5.5  9.9  24.4 26.3 17.8  45.4 41.7  25.1 35.2  23.3 18.1 285.6 \n",
       "22 1980 6.8  5.5  7.4  5.1  11.4 4.3   27.6 37.8  27.4 43.9  31.0 14.4 222.5 \n",
       "23 1981 8.4  21.3 31.0 6.6  7.8  36.2  41.6 38.2  60.2 25.9  28.3 8.7  314.2 \n",
       "24 1982 2.1  4.3  2.8  16.1 15.6 48.9  38.9 66.0  41.4 24.7  16.9 17.8 295.4 \n",
       "25 1983 28.3 7.3  19.9 19.1 20.4 11.8  81.5 79.1  84.0 46.6  12.9 8.3  419.2 \n",
       "26 1984 8.6  22.1 18.1 22.5 19.4 62.5  74.1 58.7  22.5 28.5  15.9 12.0 365.2 \n",
       "27 1985 11.9 14.5 13.2 29.4 12.5 21.8  94.9 51.6  48.5 27.6  11.8 8.7  346.5 \n",
       "28 1986 23.1 11.5 6.6  22.1 32.5 19.6  20.1 106.4 34.2 32.2  15.9 15.5 339.8 \n",
       "29 1987 13.3 8.3  7.2  8.6  10.6 71.3  44.6 51.9  38.2 38.6  50.4 28.4 371.5 \n",
       "30 1988 2.7  4.5  5.6  7.1  12.8 52.9  35.2 21.3  47.5 35.7  24.8 9.8  259.9 \n",
       "31 1989 22.9 5.3  11.7 4.5  40.9 8.2   37.6 29.4  37.7 14.9  16.4 19.0 248.4 \n",
       "32 1990 14.8 7.4  14.0 10.3 4.6  26.3  26.0 58.7  52.7 23.9  11.8 17.1 267.6 \n",
       "33 1991 9.8  15.1 14.4 29.5 16.6 15.2  46.3 80.7  52.4 30.1  20.4 21.9 352.3 \n",
       "34 1992 20.6 10.7 11.6 23.0 23.5 23.9  16.1 51.0  35.2 49.0  18.1 6.5  289.1 \n",
       "35 1993 7.8  21.9 15.3 8.0  32.6 26.8  91.7 31.3  33.8 22.2  17.1 14.0 322.4 \n",
       "36 1994 5.0  3.0  24.3 9.9  17.7 43.1  14.9 50.3  48.2 33.3  12.5 17.3 279.5 \n",
       "37 1995 7.0  5.0  43.4 7.9  14.3 23.0  43.5 83.5  54.7 42.0  9.2  26.9 360.4 \n",
       "38 1996 7.0  21.2 6.2  9.6  28.3 56.2  60.5 163.3 73.8 15.0  15.9 8.7  465.7 \n",
       "39 1997 8.3  8.0  8.7  15.0 30.6 24.0  20.6 62.9  29.4 51.5  15.1 20.0 294.2 \n",
       "40 1998 7.0  8.7  7.5  20.2 21.4 41.4  33.5 61.5  67.4 58.8  19.2 24.5 371.3 \n",
       "41 1999 11.3 8.6  16.3 28.2 28.1 22.2  66.9 61.1  90.0 26.9  16.3 34.8 410.8 \n",
       "42 2000 5.4  6.6  8.6  14.7 21.1 6.0   29.5 52.8  63.7 48.4  16.7 9.5  283.1 \n",
       "43 2001 8.6  9.1  27.7 33.8 45.3 8.7   47.8 49.9  11.8 23.2  30.9 14.2 311.0 \n",
       "44 2002 9.0  3.8  8.5  17.9 5.7  38.3  71.0 98.0  57.1 16.6  22.8 13.5 362.2 \n",
       "45 2003 4.8  1.4  22.6 4.0  26.3 20.9  47.2 73.5  40.3 32.8  34.9 18.2 326.9 \n",
       "46 2004 13.3 14.2 10.9 20.5 7.5  24.6  14.6 116.9 67.2 33.2  34.4 5.2  362.6 \n",
       "47 2005 16.9 8.5  15.0 21.6 13.4 63.6  32.3 68.3  30.3 37.7  22.2 14.2 344.0 \n",
       "48 2006 17.1 8.4  19.2 19.3 11.4 67.2  24.0 37.8  0.0  33.6  0.0  NA   NA    \n",
       "49 2007 NA   NA   NA   15.5 NA   1.1   46.8 NA    NA   NA    NA   NA   NA    \n",
       "50 2008 NA   NA   NA   NA   NA   NA    NA   NA    NA   NA    NA   NA   NA    \n",
       "51 2009 NA   NA   NA   NA   NA   NA    NA   NA    NA   NA    NA   NA   NA    \n",
       "52 2010 NA   NA   NA   NA   NA   NA    NA   NA    NA   NA    NA   NA   NA    \n",
       "53 2011 NA   NA   NA   NA   NA   NA    NA   NA    NA   NA    NA   NA   NA    \n",
       "54 2012 NA   NA   NA   NA   NA   NA    NA   NA    NA   NA    NA   NA   NA    \n",
       "55 2013 NA   NA   NA   NA   NA   NA    NA   NA    NA   NA    NA   NA   NA    \n",
       "56 2014 NA   NA   NA   NA   NA   NA    NA   NA    NA   NA    NA   NA   NA    \n",
       "57 2015 NA   NA   NA   NA   NA   NA    NA   NA    NA   NA    NA   NA   NA    \n",
       "58 2016 NA   NA   NA   NA   NA   NA    NA   NA    NA   NA    NA   NA   NA    \n",
       "59 2017 NA   NA   NA   NA   NA   NA    NA   NA    NA   NA    NA   NA   NA    \n",
       "   Winter Spring Summer Autumn\n",
       "1  NA     52.8   200.7  72.8  \n",
       "2  45.7   46.2   140.1  137.4 \n",
       "3  43.8   61.8   186.5  76.5  \n",
       "4  29.9   48.3   73.0   91.3  \n",
       "5  29.6   52.5   149.5  75.4  \n",
       "6  48.6   36.0   131.0  76.9  \n",
       "7  39.8   31.8   103.4  56.2  \n",
       "8  13.7   29.8   116.9  70.6  \n",
       "9  32.6   26.4   168.9  138.1 \n",
       "10 43.3   90.7   60.0   131.9 \n",
       "11 25.4   37.2   169.2  56.5  \n",
       "12 23.5   37.4   136.0  124.4 \n",
       "13 55.5   83.6   87.8   138.1 \n",
       "14 35.0   65.5   109.9  79.0  \n",
       "15 25.2   52.0   149.2  79.1  \n",
       "16 17.4   50.6   124.3  121.2 \n",
       "17 26.6   45.8   99.6   62.5  \n",
       "18 39.7   62.4   121.8  126.1 \n",
       "19 48.7   72.7   80.2   64.3  \n",
       "20 69.6   46.0   105.9  134.2 \n",
       "21 41.9   60.6   105.0  83.6  \n",
       "22 30.4   23.9   69.7   102.2 \n",
       "23 44.1   45.4   116.0  114.4 \n",
       "24 15.0   34.4   153.8  83.0  \n",
       "25 53.4   59.4   172.4  143.5 \n",
       "26 39.1   60.1   195.4  67.0  \n",
       "27 38.4   55.2   168.4  87.9  \n",
       "28 43.3   61.2   146.1  82.4  \n",
       "29 37.1   26.3   167.9  127.2 \n",
       "30 35.7   25.4   109.4  108.0 \n",
       "31 38.0   57.1   75.2   68.9  \n",
       "32 41.2   28.9   111.0  88.3  \n",
       "33 42.0   60.4   142.2  102.9 \n",
       "34 53.2   58.0   91.0   102.3 \n",
       "35 36.1   55.8   149.8  73.1  \n",
       "36 21.9   51.9   108.4  93.9  \n",
       "37 29.4   65.6   149.9  105.9 \n",
       "38 55.1   44.1   280.0  104.7 \n",
       "39 25.0   54.3   107.6  96.1  \n",
       "40 35.7   49.2   136.4  145.4 \n",
       "41 44.4   72.6   150.2  133.1 \n",
       "42 46.7   44.4   88.4   128.8 \n",
       "43 27.1   106.8  106.5  65.9  \n",
       "44 27.0   32.1   207.3  96.5  \n",
       "45 19.7   52.9   141.6  108.0 \n",
       "46 45.7   38.9   156.1  134.8 \n",
       "47 30.7   50.0   164.1  90.2  \n",
       "48 39.8   49.9   129.1  33.6  \n",
       "49 NA     NA     NA     NA    \n",
       "50 NA     NA     NA     NA    \n",
       "51 NA     NA     NA     NA    \n",
       "52 NA     NA     NA     NA    \n",
       "53 NA     NA     NA     NA    \n",
       "54 NA     NA     NA     NA    \n",
       "55 NA     NA     NA     NA    \n",
       "56 NA     NA     NA     NA    \n",
       "57 NA     NA     NA     NA    \n",
       "58 NA     NA     NA     NA    \n",
       "59 NA     NA     NA     NA    "
      ]
     },
     "metadata": {},
     "output_type": "display_data"
    }
   ],
   "source": [
    "# head(df, n=10)\n",
    "df <- data.frame(lapply(df, function(x){\n",
    "      gsub(\"-9999.9\", \"NA\", x)\n",
    "    }))\n",
    "df\n"
   ]
  },
  {
   "cell_type": "markdown",
   "metadata": {},
   "source": [
    "## Saving files under new names and new and directories\n",
    "Extracting the station number, city and province for file name use. "
   ]
  },
  {
   "cell_type": "code",
   "execution_count": 6,
   "metadata": {},
   "outputs": [
    {
     "data": {
      "text/html": [
       "'230N002'"
      ],
      "text/latex": [
       "'230N002'"
      ],
      "text/markdown": [
       "'230N002'"
      ],
      "text/plain": [
       "[1] \"230N002\""
      ]
     },
     "metadata": {},
     "output_type": "display_data"
    },
    {
     "data": {
      "text/html": [
       "'LUPIN'"
      ],
      "text/latex": [
       "'LUPIN'"
      ],
      "text/markdown": [
       "'LUPIN'"
      ],
      "text/plain": [
       "[1] \"LUPIN\""
      ]
     },
     "metadata": {},
     "output_type": "display_data"
    },
    {
     "data": {
      "text/html": [
       "'NU'"
      ],
      "text/latex": [
       "'NU'"
      ],
      "text/markdown": [
       "'NU'"
      ],
      "text/plain": [
       "[1] \"NU\""
      ]
     },
     "metadata": {},
     "output_type": "display_data"
    }
   ],
   "source": [
    "df = read.delim('mx230N002.txt', skip = 0, header = FALSE, as.is=TRUE, dec=\".\", sep = \",\", na.strings=c(\" \", \"\",'NA'), strip.white = TRUE)\n",
    "\n",
    "(station_number <- select(df, V1)[1,1])\n",
    "(city <- select(df, V2)[1,1])\n",
    "(province <- select(df, V3)[1,1])\n"
   ]
  },
  {
   "cell_type": "code",
   "execution_count": 4,
   "metadata": {},
   "outputs": [
    {
     "data": {
      "text/html": [
       "'230N002_LUPIN_NU'"
      ],
      "text/latex": [
       "'230N002\\_LUPIN\\_NU'"
      ],
      "text/markdown": [
       "'230N002_LUPIN_NU'"
      ],
      "text/plain": [
       "[1] \"230N002_LUPIN_NU\""
      ]
     },
     "metadata": {},
     "output_type": "display_data"
    }
   ],
   "source": [
    "stationNum_city_prov <- paste(select(df, V1)[1,1], trimws(select(df, V2)[1,1]), province <- select(df, V3)[1,1], sep='_')\n",
    "stationNum_city_prov"
   ]
  },
  {
   "cell_type": "markdown",
   "metadata": {},
   "source": [
    "## Result \n",
    "\n",
    "463 text files were cleaned, per directory\n",
    "* Directories: Adj_monthly_total_prec_cleaned\n",
    "As shown above, new text files and directories are created\n",
    "* New Directories: Adj_monthly_total_prec_cleaned\n",
    "\n",
    " "
   ]
  },
  {
   "cell_type": "markdown",
   "metadata": {},
   "source": [
    "## Intended use \n",
    "All data is cleaned prior to the shinyApp being used. The cleaned data is reloaded and processed into a single data frame on app load. \n",
    "\n",
    "\n",
    "### Input data frame. \n",
    "Depending on the month and year the user selects, the data is trimmed before any statistical method.\n",
    "\n",
    "\n",
    "![input df](input_df.PNG)\n",
    "\n",
    "### Output data frame. \n",
    "After the desired statistical analysis, we shift our focus to different variables and a new data frame.\n",
    "\n",
    "\n",
    "![output df](output_df.PNG)"
   ]
  },
  {
   "cell_type": "markdown",
   "metadata": {},
   "source": [
    "## In conclusion, the data does not appear to have many challenges. The ease and use of the tidy verse package, is one that can be consistently used. Helping many, understand the data they are dealing with."
   ]
  }
 ],
 "metadata": {
  "kernelspec": {
   "display_name": "R",
   "language": "R",
   "name": "ir"
  },
  "language_info": {
   "codemirror_mode": "r",
   "file_extension": ".r",
   "mimetype": "text/x-r-source",
   "name": "R",
   "pygments_lexer": "r",
   "version": "3.6.1"
  }
 },
 "nbformat": 4,
 "nbformat_minor": 4
}
