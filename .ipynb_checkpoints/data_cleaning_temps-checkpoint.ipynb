{
 "cells": [
  {
   "cell_type": "markdown",
   "metadata": {},
   "source": [
    "# Data Cleaning with R "
   ]
  },
  {
   "cell_type": "markdown",
   "metadata": {},
   "source": [
    "### We begin by determining the best way to import the file (s). Upon opening the actual txt file, we discover the file is delimited (seperated by commas and tabs)."
   ]
  },
  {
   "cell_type": "markdown",
   "metadata": {},
   "source": [
    "Import relevant libraries"
   ]
  },
  {
   "cell_type": "code",
   "execution_count": 24,
   "metadata": {
    "scrolled": true
   },
   "outputs": [],
   "source": [
    "library(tidyverse)\n",
    "library(data.table)\n",
    "library(stringr)\n",
    "library(readr)\n",
    "library(plyr)\n",
    "library(tidyr)\n",
    "library(dplyr)"
   ]
  },
  {
   "cell_type": "code",
   "execution_count": 25,
   "metadata": {},
   "outputs": [
    {
     "name": "stdout",
     "output_type": "stream",
     "text": [
      "Observations: 63\n",
      "Variables: 35\n",
      "$ V1  <chr> \"230N002\", \"230N002\", \"Year\", \"Annee\", \"1959\", \"1960\", \"1961\", ...\n",
      "$ V2  <chr> \"LUPIN\", \"LUPIN\", \"Jan\", \"Janv\", \"-28.5\", \"-27.1\", \"-29.6\", \"-2...\n",
      "$ V3  <chr> \"NU\", \"NU\", NA, NA, NA, NA, NA, NA, NA, NA, NA, NA, NA, NA, NA,...\n",
      "$ V4  <chr> \"station joined\", \"station jointe\", \"Feb\", \"Fev\", \"-24.1\", \"-26...\n",
      "$ V5  <chr> \"Monthly mean of homogenized daily maximum temperature\", \"Moyen...\n",
      "$ V6  <chr> \"Deg Celcius\", \"Deg Celsius\", \"Mar\", \"Mars\", \"-22.3\", \"-25.5\", ...\n",
      "$ V7  <chr> \"Updated to December 2017\", \"Mise a jour jusqu a decembre 2017\"...\n",
      "$ V8  <chr> NA, NA, \"Apr\", \"Avr\", \"-13.3\", \"-11.5\", \"-16.5\", \"-13.8\", \"-8.5...\n",
      "$ V9  <chr> NA, NA, NA, NA, NA, NA, NA, NA, NA, NA, NA, NA, NA, NA, NA, NA,...\n",
      "$ V10 <chr> NA, NA, \"May\", \"Mai\", \"-6.1\", \"-1.2\", \"-3.6\", \"-5.0\", \"-2.3\", \"...\n",
      "$ V11 <chr> NA, NA, NA, NA, NA, NA, NA, NA, NA, NA, NA, NA, NA, NA, NA, NA,...\n",
      "$ V12 <chr> NA, NA, \"Jun\", \"Juin\", \"2.7\", \"13.1\", \"12.1\", \"10.9\", \"9.1\", \"6...\n",
      "$ V13 <chr> NA, NA, NA, NA, NA, NA, NA, NA, NA, NA, NA, NA, NA, NA, NA, NA,...\n",
      "$ V14 <chr> NA, NA, \"Jul\", \"Juil\", \"11.1\", \"13.5\", \"17.6\", \"14.4\", \"14.1\", ...\n",
      "$ V15 <chr> NA, NA, NA, NA, NA, NA, NA, NA, NA, NA, NA, NA, NA, NA, NA, NA,...\n",
      "$ V16 <chr> NA, NA, \"Aug\", \"Aout\", \"7.5\", \"12.0\", \"11.6\", \"13.5\", \"12.3\", \"...\n",
      "$ V17 <chr> NA, NA, NA, NA, NA, NA, NA, NA, NA, NA, NA, NA, NA, NA, NA, NA,...\n",
      "$ V18 <chr> NA, NA, \"Sep\", \"Sept\", \"4.4\", \"3.3\", \"1.3\", \"5.7\", \"3.7\", \"4.8\"...\n",
      "$ V19 <chr> NA, NA, NA, NA, NA, NA, NA, NA, NA, NA, NA, NA, NA, NA, NA, NA,...\n",
      "$ V20 <chr> NA, NA, \"Oct\", \"Oct\", \"-8.5\", \"-6.6\", \"-8.4\", \"-3.4\", \"-2.1\", \"...\n",
      "$ V21 <chr> NA, NA, NA, NA, NA, NA, NA, NA, NA, NA, NA, NA, NA, NA, NA, NA,...\n",
      "$ V22 <chr> NA, NA, \"Nov\", \"Nov\", \"-17.8\", \"-21.3\", \"-15.9\", \"-18.7\", \"-17....\n",
      "$ V23 <chr> NA, NA, NA, NA, NA, NA, NA, NA, NA, NA, NA, NA, NA, NA, NA, NA,...\n",
      "$ V24 <chr> NA, NA, \"Dec\", \"Dec\", \"-17.3\", \"-22.2\", \"-29.2\", \"-22.1\", \"-20....\n",
      "$ V25 <chr> NA, NA, NA, NA, NA, NA, NA, NA, NA, NA, NA, NA, NA, NA, NA, NA,...\n",
      "$ V26 <chr> NA, NA, \"Annual\", \"Annuel\", \"-9.4\", \"-8.3\", \"-9.5\", \"-8.5\", \"-7...\n",
      "$ V27 <chr> NA, NA, NA, NA, NA, NA, NA, NA, NA, NA, NA, NA, NA, NA, NA, NA,...\n",
      "$ V28 <chr> NA, NA, \"Winter\", \"Hiver\", \"-9999.9\", \"-23.5\", \"-26.1\", \"-29.5\"...\n",
      "$ V29 <chr> NA, NA, NA, NA, \"M\", NA, NA, NA, NA, NA, NA, NA, NA, NA, NA, NA...\n",
      "$ V30 <chr> NA, NA, \"Spring\", \"Printemp\", \"-13.9\", \"-12.7\", \"-15.8\", \"-14.2...\n",
      "$ V31 <chr> NA, NA, NA, NA, NA, NA, NA, NA, NA, NA, NA, NA, NA, NA, NA, NA,...\n",
      "$ V32 <chr> NA, NA, \"Summer\", \"Ete\", \"7.1\", \"12.9\", \"13.8\", \"12.9\", \"11.8\",...\n",
      "$ V33 <chr> NA, NA, NA, NA, NA, NA, NA, NA, NA, NA, NA, NA, NA, NA, NA, NA,...\n",
      "$ V34 <chr> NA, NA, \"Autumn\", \"Automne\", \"-7.3\", \"-8.2\", \"-7.7\", \"-5.5\", \"-...\n",
      "$ V35 <chr> NA, NA, NA, NA, NA, NA, NA, NA, NA, NA, NA, NA, NA, NA, NA, NA,...\n"
     ]
    }
   ],
   "source": [
    "# reading in the data \n",
    "df = read.delim('R/Data/Homog_monthly_max_temp/mx230N002.txt', skip = 0, header = FALSE, as.is=TRUE, dec=\".\", sep = \",\", na.strings=c(\" \", \"\",'NA'), strip.white = TRUE)\n",
    "\n",
    "glimpse(df)"
   ]
  },
  {
   "cell_type": "code",
   "execution_count": 26,
   "metadata": {},
   "outputs": [
    {
     "data": {
      "text/html": [
       "<table>\n",
       "<thead><tr><th scope=col>V1</th><th scope=col>V2</th><th scope=col>V3</th><th scope=col>V4</th><th scope=col>V5</th><th scope=col>V6</th><th scope=col>V7</th><th scope=col>V8</th><th scope=col>V9</th><th scope=col>V10</th><th scope=col>...</th><th scope=col>V26</th><th scope=col>V27</th><th scope=col>V28</th><th scope=col>V29</th><th scope=col>V30</th><th scope=col>V31</th><th scope=col>V32</th><th scope=col>V33</th><th scope=col>V34</th><th scope=col>V35</th></tr></thead>\n",
       "<tbody>\n",
       "\t<tr><td>230N002                                                                </td><td>LUPIN                                                                  </td><td>NU                                                                     </td><td>station joined                                                         </td><td>Monthly mean of homogenized daily maximum temperature                  </td><td>Deg Celcius                                                            </td><td>Updated to December 2017                                               </td><td>NA                                                                     </td><td>NA                                                                     </td><td>NA                                                                     </td><td>...                                                                    </td><td>NA                                                                     </td><td>NA                                                                     </td><td>NA                                                                     </td><td>NA                                                                     </td><td>NA                                                                     </td><td>NA                                                                     </td><td>NA                                                                     </td><td>NA                                                                     </td><td>NA                                                                     </td><td>NA                                                                     </td></tr>\n",
       "\t<tr><td>230N002                                                                </td><td>LUPIN                                                                  </td><td>NU                                                                     </td><td>station jointe                                                         </td><td>Moyenne mensuelle des temperatures quotidiennes maximales homogeneisees</td><td>Deg Celsius                                                            </td><td>Mise a jour jusqu a decembre 2017                                      </td><td>NA                                                                     </td><td>NA                                                                     </td><td>NA                                                                     </td><td>...                                                                    </td><td>NA                                                                     </td><td>NA                                                                     </td><td>NA                                                                     </td><td>NA                                                                     </td><td>NA                                                                     </td><td>NA                                                                     </td><td>NA                                                                     </td><td>NA                                                                     </td><td>NA                                                                     </td><td>NA                                                                     </td></tr>\n",
       "\t<tr><td>Year                                                                   </td><td>Jan                                                                    </td><td>NA                                                                     </td><td>Feb                                                                    </td><td>NA                                                                     </td><td>Mar                                                                    </td><td>NA                                                                     </td><td>Apr                                                                    </td><td>NA                                                                     </td><td>May                                                                    </td><td>...                                                                    </td><td>Annual                                                                 </td><td>NA                                                                     </td><td>Winter                                                                 </td><td>NA                                                                     </td><td>Spring                                                                 </td><td>NA                                                                     </td><td>Summer                                                                 </td><td>NA                                                                     </td><td>Autumn                                                                 </td><td>NA                                                                     </td></tr>\n",
       "\t<tr><td>Annee                                                                  </td><td>Janv                                                                   </td><td>NA                                                                     </td><td>Fev                                                                    </td><td>NA                                                                     </td><td>Mars                                                                   </td><td>NA                                                                     </td><td>Avr                                                                    </td><td>NA                                                                     </td><td>Mai                                                                    </td><td>...                                                                    </td><td>Annuel                                                                 </td><td>NA                                                                     </td><td>Hiver                                                                  </td><td>NA                                                                     </td><td>Printemp                                                               </td><td>NA                                                                     </td><td>Ete                                                                    </td><td>NA                                                                     </td><td>Automne                                                                </td><td>NA                                                                     </td></tr>\n",
       "\t<tr><td>1959                                                                   </td><td>-28.5                                                                  </td><td>NA                                                                     </td><td>-24.1                                                                  </td><td>NA                                                                     </td><td>-22.3                                                                  </td><td>NA                                                                     </td><td>-13.3                                                                  </td><td>NA                                                                     </td><td>-6.1                                                                   </td><td>...                                                                    </td><td>-9.4                                                                   </td><td>NA                                                                     </td><td>-9999.9                                                                </td><td>M                                                                      </td><td>-13.9                                                                  </td><td>NA                                                                     </td><td>7.1                                                                    </td><td>NA                                                                     </td><td>-7.3                                                                   </td><td>NA                                                                     </td></tr>\n",
       "\t<tr><td>1960                                                                   </td><td>-27.1                                                                  </td><td>NA                                                                     </td><td>-26.2                                                                  </td><td>NA                                                                     </td><td>-25.5                                                                  </td><td>NA                                                                     </td><td>-11.5                                                                  </td><td>NA                                                                     </td><td>-1.2                                                                   </td><td>...                                                                    </td><td>-8.3                                                                   </td><td>NA                                                                     </td><td>-23.5                                                                  </td><td>NA                                                                     </td><td>-12.7                                                                  </td><td>NA                                                                     </td><td>12.9                                                                   </td><td>NA                                                                     </td><td>-8.2                                                                   </td><td>NA                                                                     </td></tr>\n",
       "\t<tr><td>1961                                                                   </td><td>-29.6                                                                  </td><td>NA                                                                     </td><td>-26.4                                                                  </td><td>NA                                                                     </td><td>-27.3                                                                  </td><td>NA                                                                     </td><td>-16.5                                                                  </td><td>NA                                                                     </td><td>-3.6                                                                   </td><td>...                                                                    </td><td>-9.5                                                                   </td><td>NA                                                                     </td><td>-26.1                                                                  </td><td>NA                                                                     </td><td>-15.8                                                                  </td><td>NA                                                                     </td><td>13.8                                                                   </td><td>NA                                                                     </td><td>-7.7                                                                   </td><td>NA                                                                     </td></tr>\n",
       "\t<tr><td>1962                                                                   </td><td>-26.5                                                                  </td><td>NA                                                                     </td><td>-32.8                                                                  </td><td>NA                                                                     </td><td>-23.8                                                                  </td><td>NA                                                                     </td><td>-13.8                                                                  </td><td>NA                                                                     </td><td>-5.0                                                                   </td><td>...                                                                    </td><td>-8.5                                                                   </td><td>NA                                                                     </td><td>-29.5                                                                  </td><td>NA                                                                     </td><td>-14.2                                                                  </td><td>NA                                                                     </td><td>12.9                                                                   </td><td>NA                                                                     </td><td>-5.5                                                                   </td><td>NA                                                                     </td></tr>\n",
       "\t<tr><td>1963                                                                   </td><td>-28.8                                                                  </td><td>NA                                                                     </td><td>-26.0                                                                  </td><td>NA                                                                     </td><td>-26.5                                                                  </td><td>NA                                                                     </td><td>-8.5                                                                   </td><td>NA                                                                     </td><td>-2.3                                                                   </td><td>...                                                                    </td><td>-7.7                                                                   </td><td>NA                                                                     </td><td>-25.6                                                                  </td><td>NA                                                                     </td><td>-12.4                                                                  </td><td>NA                                                                     </td><td>11.8                                                                   </td><td>NA                                                                     </td><td>-5.2                                                                   </td><td>NA                                                                     </td></tr>\n",
       "\t<tr><td>1964                                                                   </td><td>-31.1                                                                  </td><td>NA                                                                     </td><td>-26.9                                                                  </td><td>NA                                                                     </td><td>-28.3                                                                  </td><td>NA                                                                     </td><td>-15.8                                                                  </td><td>NA                                                                     </td><td>-0.9                                                                   </td><td>...                                                                    </td><td>-8.8                                                                   </td><td>NA                                                                     </td><td>-26.1                                                                  </td><td>NA                                                                     </td><td>-15.0                                                                  </td><td>NA                                                                     </td><td>12.4                                                                   </td><td>NA                                                                     </td><td>-4.6                                                                   </td><td>NA                                                                     </td></tr>\n",
       "</tbody>\n",
       "</table>\n"
      ],
      "text/latex": [
       "\\begin{tabular}{r|lllllllllllllllllllllllllllllllllll}\n",
       " V1 & V2 & V3 & V4 & V5 & V6 & V7 & V8 & V9 & V10 & ... & V26 & V27 & V28 & V29 & V30 & V31 & V32 & V33 & V34 & V35\\\\\n",
       "\\hline\n",
       "\t 230N002                                                                 & LUPIN                                                                   & NU                                                                      & station joined                                                          & Monthly mean of homogenized daily maximum temperature                   & Deg Celcius                                                             & Updated to December 2017                                                & NA                                                                      & NA                                                                      & NA                                                                      & ...                                                                     & NA                                                                      & NA                                                                      & NA                                                                      & NA                                                                      & NA                                                                      & NA                                                                      & NA                                                                      & NA                                                                      & NA                                                                      & NA                                                                     \\\\\n",
       "\t 230N002                                                                 & LUPIN                                                                   & NU                                                                      & station jointe                                                          & Moyenne mensuelle des temperatures quotidiennes maximales homogeneisees & Deg Celsius                                                             & Mise a jour jusqu a decembre 2017                                       & NA                                                                      & NA                                                                      & NA                                                                      & ...                                                                     & NA                                                                      & NA                                                                      & NA                                                                      & NA                                                                      & NA                                                                      & NA                                                                      & NA                                                                      & NA                                                                      & NA                                                                      & NA                                                                     \\\\\n",
       "\t Year                                                                    & Jan                                                                     & NA                                                                      & Feb                                                                     & NA                                                                      & Mar                                                                     & NA                                                                      & Apr                                                                     & NA                                                                      & May                                                                     & ...                                                                     & Annual                                                                  & NA                                                                      & Winter                                                                  & NA                                                                      & Spring                                                                  & NA                                                                      & Summer                                                                  & NA                                                                      & Autumn                                                                  & NA                                                                     \\\\\n",
       "\t Annee                                                                   & Janv                                                                    & NA                                                                      & Fev                                                                     & NA                                                                      & Mars                                                                    & NA                                                                      & Avr                                                                     & NA                                                                      & Mai                                                                     & ...                                                                     & Annuel                                                                  & NA                                                                      & Hiver                                                                   & NA                                                                      & Printemp                                                                & NA                                                                      & Ete                                                                     & NA                                                                      & Automne                                                                 & NA                                                                     \\\\\n",
       "\t 1959                                                                    & -28.5                                                                   & NA                                                                      & -24.1                                                                   & NA                                                                      & -22.3                                                                   & NA                                                                      & -13.3                                                                   & NA                                                                      & -6.1                                                                    & ...                                                                     & -9.4                                                                    & NA                                                                      & -9999.9                                                                 & M                                                                       & -13.9                                                                   & NA                                                                      & 7.1                                                                     & NA                                                                      & -7.3                                                                    & NA                                                                     \\\\\n",
       "\t 1960                                                                    & -27.1                                                                   & NA                                                                      & -26.2                                                                   & NA                                                                      & -25.5                                                                   & NA                                                                      & -11.5                                                                   & NA                                                                      & -1.2                                                                    & ...                                                                     & -8.3                                                                    & NA                                                                      & -23.5                                                                   & NA                                                                      & -12.7                                                                   & NA                                                                      & 12.9                                                                    & NA                                                                      & -8.2                                                                    & NA                                                                     \\\\\n",
       "\t 1961                                                                    & -29.6                                                                   & NA                                                                      & -26.4                                                                   & NA                                                                      & -27.3                                                                   & NA                                                                      & -16.5                                                                   & NA                                                                      & -3.6                                                                    & ...                                                                     & -9.5                                                                    & NA                                                                      & -26.1                                                                   & NA                                                                      & -15.8                                                                   & NA                                                                      & 13.8                                                                    & NA                                                                      & -7.7                                                                    & NA                                                                     \\\\\n",
       "\t 1962                                                                    & -26.5                                                                   & NA                                                                      & -32.8                                                                   & NA                                                                      & -23.8                                                                   & NA                                                                      & -13.8                                                                   & NA                                                                      & -5.0                                                                    & ...                                                                     & -8.5                                                                    & NA                                                                      & -29.5                                                                   & NA                                                                      & -14.2                                                                   & NA                                                                      & 12.9                                                                    & NA                                                                      & -5.5                                                                    & NA                                                                     \\\\\n",
       "\t 1963                                                                    & -28.8                                                                   & NA                                                                      & -26.0                                                                   & NA                                                                      & -26.5                                                                   & NA                                                                      & -8.5                                                                    & NA                                                                      & -2.3                                                                    & ...                                                                     & -7.7                                                                    & NA                                                                      & -25.6                                                                   & NA                                                                      & -12.4                                                                   & NA                                                                      & 11.8                                                                    & NA                                                                      & -5.2                                                                    & NA                                                                     \\\\\n",
       "\t 1964                                                                    & -31.1                                                                   & NA                                                                      & -26.9                                                                   & NA                                                                      & -28.3                                                                   & NA                                                                      & -15.8                                                                   & NA                                                                      & -0.9                                                                    & ...                                                                     & -8.8                                                                    & NA                                                                      & -26.1                                                                   & NA                                                                      & -15.0                                                                   & NA                                                                      & 12.4                                                                    & NA                                                                      & -4.6                                                                    & NA                                                                     \\\\\n",
       "\\end{tabular}\n"
      ],
      "text/markdown": [
       "\n",
       "| V1 | V2 | V3 | V4 | V5 | V6 | V7 | V8 | V9 | V10 | ... | V26 | V27 | V28 | V29 | V30 | V31 | V32 | V33 | V34 | V35 |\n",
       "|---|---|---|---|---|---|---|---|---|---|---|---|---|---|---|---|---|---|---|---|---|\n",
       "| 230N002                                                                 | LUPIN                                                                   | NU                                                                      | station joined                                                          | Monthly mean of homogenized daily maximum temperature                   | Deg Celcius                                                             | Updated to December 2017                                                | NA                                                                      | NA                                                                      | NA                                                                      | ...                                                                     | NA                                                                      | NA                                                                      | NA                                                                      | NA                                                                      | NA                                                                      | NA                                                                      | NA                                                                      | NA                                                                      | NA                                                                      | NA                                                                      |\n",
       "| 230N002                                                                 | LUPIN                                                                   | NU                                                                      | station jointe                                                          | Moyenne mensuelle des temperatures quotidiennes maximales homogeneisees | Deg Celsius                                                             | Mise a jour jusqu a decembre 2017                                       | NA                                                                      | NA                                                                      | NA                                                                      | ...                                                                     | NA                                                                      | NA                                                                      | NA                                                                      | NA                                                                      | NA                                                                      | NA                                                                      | NA                                                                      | NA                                                                      | NA                                                                      | NA                                                                      |\n",
       "| Year                                                                    | Jan                                                                     | NA                                                                      | Feb                                                                     | NA                                                                      | Mar                                                                     | NA                                                                      | Apr                                                                     | NA                                                                      | May                                                                     | ...                                                                     | Annual                                                                  | NA                                                                      | Winter                                                                  | NA                                                                      | Spring                                                                  | NA                                                                      | Summer                                                                  | NA                                                                      | Autumn                                                                  | NA                                                                      |\n",
       "| Annee                                                                   | Janv                                                                    | NA                                                                      | Fev                                                                     | NA                                                                      | Mars                                                                    | NA                                                                      | Avr                                                                     | NA                                                                      | Mai                                                                     | ...                                                                     | Annuel                                                                  | NA                                                                      | Hiver                                                                   | NA                                                                      | Printemp                                                                | NA                                                                      | Ete                                                                     | NA                                                                      | Automne                                                                 | NA                                                                      |\n",
       "| 1959                                                                    | -28.5                                                                   | NA                                                                      | -24.1                                                                   | NA                                                                      | -22.3                                                                   | NA                                                                      | -13.3                                                                   | NA                                                                      | -6.1                                                                    | ...                                                                     | -9.4                                                                    | NA                                                                      | -9999.9                                                                 | M                                                                       | -13.9                                                                   | NA                                                                      | 7.1                                                                     | NA                                                                      | -7.3                                                                    | NA                                                                      |\n",
       "| 1960                                                                    | -27.1                                                                   | NA                                                                      | -26.2                                                                   | NA                                                                      | -25.5                                                                   | NA                                                                      | -11.5                                                                   | NA                                                                      | -1.2                                                                    | ...                                                                     | -8.3                                                                    | NA                                                                      | -23.5                                                                   | NA                                                                      | -12.7                                                                   | NA                                                                      | 12.9                                                                    | NA                                                                      | -8.2                                                                    | NA                                                                      |\n",
       "| 1961                                                                    | -29.6                                                                   | NA                                                                      | -26.4                                                                   | NA                                                                      | -27.3                                                                   | NA                                                                      | -16.5                                                                   | NA                                                                      | -3.6                                                                    | ...                                                                     | -9.5                                                                    | NA                                                                      | -26.1                                                                   | NA                                                                      | -15.8                                                                   | NA                                                                      | 13.8                                                                    | NA                                                                      | -7.7                                                                    | NA                                                                      |\n",
       "| 1962                                                                    | -26.5                                                                   | NA                                                                      | -32.8                                                                   | NA                                                                      | -23.8                                                                   | NA                                                                      | -13.8                                                                   | NA                                                                      | -5.0                                                                    | ...                                                                     | -8.5                                                                    | NA                                                                      | -29.5                                                                   | NA                                                                      | -14.2                                                                   | NA                                                                      | 12.9                                                                    | NA                                                                      | -5.5                                                                    | NA                                                                      |\n",
       "| 1963                                                                    | -28.8                                                                   | NA                                                                      | -26.0                                                                   | NA                                                                      | -26.5                                                                   | NA                                                                      | -8.5                                                                    | NA                                                                      | -2.3                                                                    | ...                                                                     | -7.7                                                                    | NA                                                                      | -25.6                                                                   | NA                                                                      | -12.4                                                                   | NA                                                                      | 11.8                                                                    | NA                                                                      | -5.2                                                                    | NA                                                                      |\n",
       "| 1964                                                                    | -31.1                                                                   | NA                                                                      | -26.9                                                                   | NA                                                                      | -28.3                                                                   | NA                                                                      | -15.8                                                                   | NA                                                                      | -0.9                                                                    | ...                                                                     | -8.8                                                                    | NA                                                                      | -26.1                                                                   | NA                                                                      | -15.0                                                                   | NA                                                                      | 12.4                                                                    | NA                                                                      | -4.6                                                                    | NA                                                                      |\n",
       "\n"
      ],
      "text/plain": [
       "   V1      V2    V3 V4            \n",
       "1  230N002 LUPIN NU station joined\n",
       "2  230N002 LUPIN NU station jointe\n",
       "3  Year    Jan   NA Feb           \n",
       "4  Annee   Janv  NA Fev           \n",
       "5  1959    -28.5 NA -24.1         \n",
       "6  1960    -27.1 NA -26.2         \n",
       "7  1961    -29.6 NA -26.4         \n",
       "8  1962    -26.5 NA -32.8         \n",
       "9  1963    -28.8 NA -26.0         \n",
       "10 1964    -31.1 NA -26.9         \n",
       "   V5                                                                     \n",
       "1  Monthly mean of homogenized daily maximum temperature                  \n",
       "2  Moyenne mensuelle des temperatures quotidiennes maximales homogeneisees\n",
       "3  NA                                                                     \n",
       "4  NA                                                                     \n",
       "5  NA                                                                     \n",
       "6  NA                                                                     \n",
       "7  NA                                                                     \n",
       "8  NA                                                                     \n",
       "9  NA                                                                     \n",
       "10 NA                                                                     \n",
       "   V6          V7                                V8    V9 V10  ... V26    V27\n",
       "1  Deg Celcius Updated to December 2017          NA    NA NA   ... NA     NA \n",
       "2  Deg Celsius Mise a jour jusqu a decembre 2017 NA    NA NA   ... NA     NA \n",
       "3  Mar         NA                                Apr   NA May  ... Annual NA \n",
       "4  Mars        NA                                Avr   NA Mai  ... Annuel NA \n",
       "5  -22.3       NA                                -13.3 NA -6.1 ... -9.4   NA \n",
       "6  -25.5       NA                                -11.5 NA -1.2 ... -8.3   NA \n",
       "7  -27.3       NA                                -16.5 NA -3.6 ... -9.5   NA \n",
       "8  -23.8       NA                                -13.8 NA -5.0 ... -8.5   NA \n",
       "9  -26.5       NA                                -8.5  NA -2.3 ... -7.7   NA \n",
       "10 -28.3       NA                                -15.8 NA -0.9 ... -8.8   NA \n",
       "   V28     V29 V30      V31 V32    V33 V34     V35\n",
       "1  NA      NA  NA       NA  NA     NA  NA      NA \n",
       "2  NA      NA  NA       NA  NA     NA  NA      NA \n",
       "3  Winter  NA  Spring   NA  Summer NA  Autumn  NA \n",
       "4  Hiver   NA  Printemp NA  Ete    NA  Automne NA \n",
       "5  -9999.9 M   -13.9    NA  7.1    NA  -7.3    NA \n",
       "6  -23.5   NA  -12.7    NA  12.9   NA  -8.2    NA \n",
       "7  -26.1   NA  -15.8    NA  13.8   NA  -7.7    NA \n",
       "8  -29.5   NA  -14.2    NA  12.9   NA  -5.5    NA \n",
       "9  -25.6   NA  -12.4    NA  11.8   NA  -5.2    NA \n",
       "10 -26.1   NA  -15.0    NA  12.4   NA  -4.6    NA "
      ]
     },
     "metadata": {},
     "output_type": "display_data"
    }
   ],
   "source": [
    "head(df, n=10)"
   ]
  },
  {
   "cell_type": "markdown",
   "metadata": {},
   "source": [
    "### The tidyverse package will become evidently useful as we proceed\n",
    "\n",
    "* glimpse (helps) provide a summary of the data \n",
    "+ There are 63 observations (rows) and 35 variables (columns)\n",
    "+ all data is stored as characters\n",
    "* After looking at the first few rows 10 rows of our current frame. We see, \n",
    "+ There is some information we want to remove. Specifically, the first 2 rows of the data frame \n",
    "+ Almost every other column is filled with NAs \n",
    "+ The 3rd row will later be used as our column names, and V1 as our row names \n",
    "+ Our data mainly deals with positive, and negative values. \n",
    "+ Unusual data includes: default: -9999.9 and the letters 'E' and 'M' used to mark if the data was estimated or missing "
   ]
  },
  {
   "cell_type": "markdown",
   "metadata": {},
   "source": [
    "## Constructing desired Dataframe \n",
    "\n",
    "Earlier it has been noticed that the majority NAs appear in a patterned fashion. Since, its clear I went ahead and removed those columns from our data frame. Note also,  letters, 'M' and 'E\" will be removed. \n",
    "\n",
    "Extract the header and combine it back to the data. \n",
    "\n",
    "It is important to check for whitespaces when it comes to extracting names."
   ]
  },
  {
   "cell_type": "code",
   "execution_count": 27,
   "metadata": {},
   "outputs": [
    {
     "data": {
      "text/html": [
       "<ol class=list-inline>\n",
       "\t<li>3</li>\n",
       "\t<li>5</li>\n",
       "\t<li>7</li>\n",
       "\t<li>9</li>\n",
       "\t<li>11</li>\n",
       "\t<li>13</li>\n",
       "\t<li>15</li>\n",
       "\t<li>17</li>\n",
       "\t<li>19</li>\n",
       "\t<li>21</li>\n",
       "\t<li>23</li>\n",
       "\t<li>25</li>\n",
       "\t<li>27</li>\n",
       "\t<li>29</li>\n",
       "\t<li>31</li>\n",
       "\t<li>33</li>\n",
       "\t<li>35</li>\n",
       "</ol>\n"
      ],
      "text/latex": [
       "\\begin{enumerate*}\n",
       "\\item 3\n",
       "\\item 5\n",
       "\\item 7\n",
       "\\item 9\n",
       "\\item 11\n",
       "\\item 13\n",
       "\\item 15\n",
       "\\item 17\n",
       "\\item 19\n",
       "\\item 21\n",
       "\\item 23\n",
       "\\item 25\n",
       "\\item 27\n",
       "\\item 29\n",
       "\\item 31\n",
       "\\item 33\n",
       "\\item 35\n",
       "\\end{enumerate*}\n"
      ],
      "text/markdown": [
       "1. 3\n",
       "2. 5\n",
       "3. 7\n",
       "4. 9\n",
       "5. 11\n",
       "6. 13\n",
       "7. 15\n",
       "8. 17\n",
       "9. 19\n",
       "10. 21\n",
       "11. 23\n",
       "12. 25\n",
       "13. 27\n",
       "14. 29\n",
       "15. 31\n",
       "16. 33\n",
       "17. 35\n",
       "\n",
       "\n"
      ],
      "text/plain": [
       " [1]  3  5  7  9 11 13 15 17 19 21 23 25 27 29 31 33 35"
      ]
     },
     "metadata": {},
     "output_type": "display_data"
    },
    {
     "data": {
      "text/html": [
       "<table>\n",
       "<thead><tr><th scope=col>V1</th><th scope=col>V2</th><th scope=col>V4</th><th scope=col>V6</th><th scope=col>V8</th><th scope=col>V10</th><th scope=col>V12</th><th scope=col>V14</th><th scope=col>V16</th><th scope=col>V18</th><th scope=col>V20</th><th scope=col>V22</th><th scope=col>V24</th><th scope=col>V26</th><th scope=col>V28</th><th scope=col>V30</th><th scope=col>V32</th><th scope=col>V34</th></tr></thead>\n",
       "<tbody>\n",
       "\t<tr><td>Year  </td><td>Jan   </td><td>Feb   </td><td>Mar   </td><td>Apr   </td><td>May   </td><td>Jun   </td><td>Jul   </td><td>Aug   </td><td>Sep   </td><td>Oct   </td><td>Nov   </td><td>Dec   </td><td>Annual</td><td>Winter</td><td>Spring</td><td>Summer</td><td>Autumn</td></tr>\n",
       "</tbody>\n",
       "</table>\n"
      ],
      "text/latex": [
       "\\begin{tabular}{r|llllllllllllllllll}\n",
       " V1 & V2 & V4 & V6 & V8 & V10 & V12 & V14 & V16 & V18 & V20 & V22 & V24 & V26 & V28 & V30 & V32 & V34\\\\\n",
       "\\hline\n",
       "\t Year   & Jan    & Feb    & Mar    & Apr    & May    & Jun    & Jul    & Aug    & Sep    & Oct    & Nov    & Dec    & Annual & Winter & Spring & Summer & Autumn\\\\\n",
       "\\end{tabular}\n"
      ],
      "text/markdown": [
       "\n",
       "| V1 | V2 | V4 | V6 | V8 | V10 | V12 | V14 | V16 | V18 | V20 | V22 | V24 | V26 | V28 | V30 | V32 | V34 |\n",
       "|---|---|---|---|---|---|---|---|---|---|---|---|---|---|---|---|---|---|\n",
       "| Year   | Jan    | Feb    | Mar    | Apr    | May    | Jun    | Jul    | Aug    | Sep    | Oct    | Nov    | Dec    | Annual | Winter | Spring | Summer | Autumn |\n",
       "\n"
      ],
      "text/plain": [
       "  V1   V2  V4  V6  V8  V10 V12 V14 V16 V18 V20 V22 V24 V26    V28    V30   \n",
       "1 Year Jan Feb Mar Apr May Jun Jul Aug Sep Oct Nov Dec Annual Winter Spring\n",
       "  V32    V34   \n",
       "1 Summer Autumn"
      ]
     },
     "metadata": {},
     "output_type": "display_data"
    },
    {
     "data": {
      "text/html": [
       "<table>\n",
       "<thead><tr><th scope=col>V1</th><th scope=col>V2</th><th scope=col>V4</th><th scope=col>V6</th><th scope=col>V8</th><th scope=col>V10</th><th scope=col>V12</th><th scope=col>V14</th><th scope=col>V16</th><th scope=col>V18</th><th scope=col>V20</th><th scope=col>V22</th><th scope=col>V24</th><th scope=col>V26</th><th scope=col>V28</th><th scope=col>V30</th><th scope=col>V32</th><th scope=col>V34</th></tr></thead>\n",
       "<tbody>\n",
       "\t<tr><td>FALSE</td><td>FALSE</td><td>FALSE</td><td>FALSE</td><td>FALSE</td><td>FALSE</td><td>FALSE</td><td>FALSE</td><td>FALSE</td><td>FALSE</td><td>FALSE</td><td>FALSE</td><td>FALSE</td><td>FALSE</td><td>FALSE</td><td>FALSE</td><td>FALSE</td><td>FALSE</td></tr>\n",
       "</tbody>\n",
       "</table>\n"
      ],
      "text/latex": [
       "\\begin{tabular}{llllllllllllllllll}\n",
       " V1 & V2 & V4 & V6 & V8 & V10 & V12 & V14 & V16 & V18 & V20 & V22 & V24 & V26 & V28 & V30 & V32 & V34\\\\\n",
       "\\hline\n",
       "\t FALSE & FALSE & FALSE & FALSE & FALSE & FALSE & FALSE & FALSE & FALSE & FALSE & FALSE & FALSE & FALSE & FALSE & FALSE & FALSE & FALSE & FALSE\\\\\n",
       "\\end{tabular}\n"
      ],
      "text/markdown": [
       "\n",
       "| V1 | V2 | V4 | V6 | V8 | V10 | V12 | V14 | V16 | V18 | V20 | V22 | V24 | V26 | V28 | V30 | V32 | V34 |\n",
       "|---|---|---|---|---|---|---|---|---|---|---|---|---|---|---|---|---|---|\n",
       "| FALSE | FALSE | FALSE | FALSE | FALSE | FALSE | FALSE | FALSE | FALSE | FALSE | FALSE | FALSE | FALSE | FALSE | FALSE | FALSE | FALSE | FALSE |\n",
       "\n"
      ],
      "text/plain": [
       "     V1    V2    V4    V6    V8    V10   V12   V14   V16   V18   V20   V22  \n",
       "[1,] FALSE FALSE FALSE FALSE FALSE FALSE FALSE FALSE FALSE FALSE FALSE FALSE\n",
       "     V24   V26   V28   V30   V32   V34  \n",
       "[1,] FALSE FALSE FALSE FALSE FALSE FALSE"
      ]
     },
     "metadata": {},
     "output_type": "display_data"
    },
    {
     "data": {
      "text/html": [
       "<table>\n",
       "<thead><tr><th scope=col>Year</th><th scope=col>Jan</th><th scope=col>Feb</th><th scope=col>Mar</th><th scope=col>Apr</th><th scope=col>May</th><th scope=col>Jun</th><th scope=col>Jul</th><th scope=col>Aug</th><th scope=col>Sep</th><th scope=col>Oct</th><th scope=col>Nov</th><th scope=col>Dec</th><th scope=col>Annual</th><th scope=col>Winter</th><th scope=col>Spring</th><th scope=col>Summer</th><th scope=col>Autumn</th></tr></thead>\n",
       "<tbody>\n",
       "\t<tr><td>1959   </td><td>-28.5  </td><td>-24.1  </td><td>-22.3  </td><td>-13.3  </td><td>-6.1   </td><td>2.7    </td><td>11.1   </td><td>7.5    </td><td>4.4    </td><td>-8.5   </td><td>-17.8  </td><td>-17.3  </td><td>-9.4   </td><td>-9999.9</td><td>-13.9  </td><td>7.1    </td><td>-7.3   </td></tr>\n",
       "\t<tr><td>1960   </td><td>-27.1  </td><td>-26.2  </td><td>-25.5  </td><td>-11.5  </td><td>-1.2   </td><td>13.1   </td><td>13.5   </td><td>12.0   </td><td>3.3    </td><td>-6.6   </td><td>-21.3  </td><td>-22.2  </td><td>-8.3   </td><td>-23.5  </td><td>-12.7  </td><td>12.9   </td><td>-8.2   </td></tr>\n",
       "\t<tr><td>1961   </td><td>-29.6  </td><td>-26.4  </td><td>-27.3  </td><td>-16.5  </td><td>-3.6   </td><td>12.1   </td><td>17.6   </td><td>11.6   </td><td>1.3    </td><td>-8.4   </td><td>-15.9  </td><td>-29.2  </td><td>-9.5   </td><td>-26.1  </td><td>-15.8  </td><td>13.8   </td><td>-7.7   </td></tr>\n",
       "\t<tr><td>1962   </td><td>-26.5  </td><td>-32.8  </td><td>-23.8  </td><td>-13.8  </td><td>-5.0   </td><td>10.9   </td><td>14.4   </td><td>13.5   </td><td>5.7    </td><td>-3.4   </td><td>-18.7  </td><td>-22.1  </td><td>-8.5   </td><td>-29.5  </td><td>-14.2  </td><td>12.9   </td><td>-5.5   </td></tr>\n",
       "\t<tr><td>1963   </td><td>-28.8  </td><td>-26.0  </td><td>-26.5  </td><td>-8.5   </td><td>-2.3   </td><td>9.1    </td><td>14.1   </td><td>12.3   </td><td>3.7    </td><td>-2.1   </td><td>-17.3  </td><td>-20.3  </td><td>-7.7   </td><td>-25.6  </td><td>-12.4  </td><td>11.8   </td><td>-5.2   </td></tr>\n",
       "</tbody>\n",
       "</table>\n"
      ],
      "text/latex": [
       "\\begin{tabular}{r|llllllllllllllllll}\n",
       " Year & Jan & Feb & Mar & Apr & May & Jun & Jul & Aug & Sep & Oct & Nov & Dec & Annual & Winter & Spring & Summer & Autumn\\\\\n",
       "\\hline\n",
       "\t 1959    & -28.5   & -24.1   & -22.3   & -13.3   & -6.1    & 2.7     & 11.1    & 7.5     & 4.4     & -8.5    & -17.8   & -17.3   & -9.4    & -9999.9 & -13.9   & 7.1     & -7.3   \\\\\n",
       "\t 1960    & -27.1   & -26.2   & -25.5   & -11.5   & -1.2    & 13.1    & 13.5    & 12.0    & 3.3     & -6.6    & -21.3   & -22.2   & -8.3    & -23.5   & -12.7   & 12.9    & -8.2   \\\\\n",
       "\t 1961    & -29.6   & -26.4   & -27.3   & -16.5   & -3.6    & 12.1    & 17.6    & 11.6    & 1.3     & -8.4    & -15.9   & -29.2   & -9.5    & -26.1   & -15.8   & 13.8    & -7.7   \\\\\n",
       "\t 1962    & -26.5   & -32.8   & -23.8   & -13.8   & -5.0    & 10.9    & 14.4    & 13.5    & 5.7     & -3.4    & -18.7   & -22.1   & -8.5    & -29.5   & -14.2   & 12.9    & -5.5   \\\\\n",
       "\t 1963    & -28.8   & -26.0   & -26.5   & -8.5    & -2.3    & 9.1     & 14.1    & 12.3    & 3.7     & -2.1    & -17.3   & -20.3   & -7.7    & -25.6   & -12.4   & 11.8    & -5.2   \\\\\n",
       "\\end{tabular}\n"
      ],
      "text/markdown": [
       "\n",
       "| Year | Jan | Feb | Mar | Apr | May | Jun | Jul | Aug | Sep | Oct | Nov | Dec | Annual | Winter | Spring | Summer | Autumn |\n",
       "|---|---|---|---|---|---|---|---|---|---|---|---|---|---|---|---|---|---|\n",
       "| 1959    | -28.5   | -24.1   | -22.3   | -13.3   | -6.1    | 2.7     | 11.1    | 7.5     | 4.4     | -8.5    | -17.8   | -17.3   | -9.4    | -9999.9 | -13.9   | 7.1     | -7.3    |\n",
       "| 1960    | -27.1   | -26.2   | -25.5   | -11.5   | -1.2    | 13.1    | 13.5    | 12.0    | 3.3     | -6.6    | -21.3   | -22.2   | -8.3    | -23.5   | -12.7   | 12.9    | -8.2    |\n",
       "| 1961    | -29.6   | -26.4   | -27.3   | -16.5   | -3.6    | 12.1    | 17.6    | 11.6    | 1.3     | -8.4    | -15.9   | -29.2   | -9.5    | -26.1   | -15.8   | 13.8    | -7.7    |\n",
       "| 1962    | -26.5   | -32.8   | -23.8   | -13.8   | -5.0    | 10.9    | 14.4    | 13.5    | 5.7     | -3.4    | -18.7   | -22.1   | -8.5    | -29.5   | -14.2   | 12.9    | -5.5    |\n",
       "| 1963    | -28.8   | -26.0   | -26.5   | -8.5    | -2.3    | 9.1     | 14.1    | 12.3    | 3.7     | -2.1    | -17.3   | -20.3   | -7.7    | -25.6   | -12.4   | 11.8    | -5.2    |\n",
       "\n"
      ],
      "text/plain": [
       "  Year Jan   Feb   Mar   Apr   May  Jun  Jul  Aug  Sep Oct  Nov   Dec   Annual\n",
       "1 1959 -28.5 -24.1 -22.3 -13.3 -6.1 2.7  11.1 7.5  4.4 -8.5 -17.8 -17.3 -9.4  \n",
       "2 1960 -27.1 -26.2 -25.5 -11.5 -1.2 13.1 13.5 12.0 3.3 -6.6 -21.3 -22.2 -8.3  \n",
       "3 1961 -29.6 -26.4 -27.3 -16.5 -3.6 12.1 17.6 11.6 1.3 -8.4 -15.9 -29.2 -9.5  \n",
       "4 1962 -26.5 -32.8 -23.8 -13.8 -5.0 10.9 14.4 13.5 5.7 -3.4 -18.7 -22.1 -8.5  \n",
       "5 1963 -28.8 -26.0 -26.5 -8.5  -2.3 9.1  14.1 12.3 3.7 -2.1 -17.3 -20.3 -7.7  \n",
       "  Winter  Spring Summer Autumn\n",
       "1 -9999.9 -13.9  7.1    -7.3  \n",
       "2 -23.5   -12.7  12.9   -8.2  \n",
       "3 -26.1   -15.8  13.8   -7.7  \n",
       "4 -29.5   -14.2  12.9   -5.5  \n",
       "5 -25.6   -12.4  11.8   -5.2  "
      ]
     },
     "metadata": {},
     "output_type": "display_data"
    }
   ],
   "source": [
    "df = read.delim('R/Data/Homog_monthly_max_temp/mx230N002.txt', skip = 0, header = FALSE, as.is=TRUE, dec=\".\", sep = \",\", na.strings=c(\" \", \"\",'NA'), strip.white = TRUE)\n",
    "\n",
    "seq(from = 3, to = 35, by = 2)\n",
    "\n",
    "df <- select(df, -seq(from = 3, to = 35, by = 2))\n",
    "\n",
    "data <- slice(df, 5:n()) \n",
    "# reset df to show this step... \n",
    "(hdr <- slice(df, 3)) \n",
    "# check for whitespaces in the column names\n",
    "\n",
    "# unlist((hdr))\n",
    "# (c  = select(hdr, contains(\" \")))\n",
    "# (st  = select(hdr, starts_with(\" \")))\n",
    "# (ew = select(hdr, ends_with(\" \")))\n",
    "\n",
    "is.na(hdr)\n",
    "\n",
    "head ((df <- rename(data, hdr)), n=5)"
   ]
  },
  {
   "cell_type": "markdown",
   "metadata": {},
   "source": [
    "### Standard default Values...\n",
    "#### In this case we have **-9999.9** \n",
    "\n",
    "In some situations, it has been suggested to replace the NAs or default values with the mean of the column. Chosen to go against this, since regression regression smoothly 'fill' in these blanks. "
   ]
  },
  {
   "cell_type": "code",
   "execution_count": 29,
   "metadata": {
    "scrolled": true
   },
   "outputs": [
    {
     "data": {
      "text/html": [
       "<table>\n",
       "<thead><tr><th scope=col>Year</th><th scope=col>Jan</th><th scope=col>Feb</th><th scope=col>Mar</th><th scope=col>Apr</th><th scope=col>May</th><th scope=col>Jun</th><th scope=col>Jul</th><th scope=col>Aug</th><th scope=col>Sep</th><th scope=col>Oct</th><th scope=col>Nov</th><th scope=col>Dec</th><th scope=col>Annual</th><th scope=col>Winter</th><th scope=col>Spring</th><th scope=col>Summer</th><th scope=col>Autumn</th></tr></thead>\n",
       "<tbody>\n",
       "\t<tr><td>1959 </td><td>-28.5</td><td>-24.1</td><td>-22.3</td><td>-13.3</td><td>-6.1 </td><td>2.7  </td><td>11.1 </td><td>7.5  </td><td>4.4  </td><td>-8.5 </td><td>-17.8</td><td>-17.3</td><td>-9.4 </td><td>NA   </td><td>-13.9</td><td>7.1  </td><td>-7.3 </td></tr>\n",
       "\t<tr><td>1960 </td><td>-27.1</td><td>-26.2</td><td>-25.5</td><td>-11.5</td><td>-1.2 </td><td>13.1 </td><td>13.5 </td><td>12.0 </td><td>3.3  </td><td>-6.6 </td><td>-21.3</td><td>-22.2</td><td>-8.3 </td><td>-23.5</td><td>-12.7</td><td>12.9 </td><td>-8.2 </td></tr>\n",
       "\t<tr><td>1961 </td><td>-29.6</td><td>-26.4</td><td>-27.3</td><td>-16.5</td><td>-3.6 </td><td>12.1 </td><td>17.6 </td><td>11.6 </td><td>1.3  </td><td>-8.4 </td><td>-15.9</td><td>-29.2</td><td>-9.5 </td><td>-26.1</td><td>-15.8</td><td>13.8 </td><td>-7.7 </td></tr>\n",
       "\t<tr><td>1962 </td><td>-26.5</td><td>-32.8</td><td>-23.8</td><td>-13.8</td><td>-5.0 </td><td>10.9 </td><td>14.4 </td><td>13.5 </td><td>5.7  </td><td>-3.4 </td><td>-18.7</td><td>-22.1</td><td>-8.5 </td><td>-29.5</td><td>-14.2</td><td>12.9 </td><td>-5.5 </td></tr>\n",
       "\t<tr><td>1963 </td><td>-28.8</td><td>-26.0</td><td>-26.5</td><td>-8.5 </td><td>-2.3 </td><td>9.1  </td><td>14.1 </td><td>12.3 </td><td>3.7  </td><td>-2.1 </td><td>-17.3</td><td>-20.3</td><td>-7.7 </td><td>-25.6</td><td>-12.4</td><td>11.8 </td><td>-5.2 </td></tr>\n",
       "\t<tr><td>1964 </td><td>-31.1</td><td>-26.9</td><td>-28.3</td><td>-15.8</td><td>-0.9 </td><td>6.5  </td><td>16.4 </td><td>14.3 </td><td>4.8  </td><td>-4.0 </td><td>-14.5</td><td>-25.7</td><td>-8.8 </td><td>-26.1</td><td>-15.0</td><td>12.4 </td><td>-4.6 </td></tr>\n",
       "\t<tr><td>1965 </td><td>-27.6</td><td>-35.7</td><td>-19.1</td><td>-10.2</td><td>-0.7 </td><td>6.5  </td><td>15.5 </td><td>13.2 </td><td>1.5  </td><td>-5.0 </td><td>-16.0</td><td>-24.0</td><td>-8.5 </td><td>-29.7</td><td>-10.0</td><td>11.7 </td><td>-6.5 </td></tr>\n",
       "\t<tr><td>1966 </td><td>-35.9</td><td>-27.1</td><td>-21.0</td><td>-14.7</td><td>-0.2 </td><td>13.5 </td><td>16.4 </td><td>14.8 </td><td>7.1  </td><td>-8.9 </td><td>-22.2</td><td>-21.6</td><td>-8.3 </td><td>-29.0</td><td>-12.0</td><td>14.9 </td><td>-8.0 </td></tr>\n",
       "\t<tr><td>1967 </td><td>-28.0</td><td>-31.0</td><td>-23.9</td><td>-12.8</td><td>-2.8 </td><td>5.8  </td><td>13.7 </td><td>12.6 </td><td>5.9  </td><td>-2.9 </td><td>-13.7</td><td>-20.8</td><td>-8.2 </td><td>-26.9</td><td>-13.2</td><td>10.7 </td><td>-3.6 </td></tr>\n",
       "\t<tr><td>1968 </td><td>-30.1</td><td>-23.4</td><td>-17.0</td><td>-14.0</td><td>-2.1 </td><td>8.9  </td><td>11.7 </td><td>11.2 </td><td>5.3  </td><td>-2.7 </td><td>-13.8</td><td>-24.2</td><td>-7.5 </td><td>-24.8</td><td>-11.0</td><td>10.6 </td><td>-3.7 </td></tr>\n",
       "\t<tr><td>1969 </td><td>-30.5</td><td>-20.8</td><td>-20.8</td><td>-9.0 </td><td>-3.6 </td><td>4.1  </td><td>15.3 </td><td>13.0 </td><td>4.6  </td><td>-1.8 </td><td>-17.1</td><td>-16.4</td><td>-6.9 </td><td>-25.2</td><td>-11.1</td><td>10.8 </td><td>-4.8 </td></tr>\n",
       "\t<tr><td>1970 </td><td>-27.1</td><td>-28.0</td><td>-21.0</td><td>-10.3</td><td>-2.8 </td><td>10.9 </td><td>16.4 </td><td>12.7 </td><td>4.3  </td><td>-3.8 </td><td>-18.0</td><td>-30.2</td><td>-8.1 </td><td>-23.8</td><td>-11.4</td><td>13.3 </td><td>-5.8 </td></tr>\n",
       "\t<tr><td>1971 </td><td>-28.6</td><td>-25.4</td><td>-20.8</td><td>-11.0</td><td>1.3  </td><td>11.6 </td><td>14.8 </td><td>13.1 </td><td>5.8  </td><td>-2.9 </td><td>-18.9</td><td>-25.9</td><td>-7.2 </td><td>-28.1</td><td>-10.2</td><td>13.2 </td><td>-5.3 </td></tr>\n",
       "\t<tr><td>1972 </td><td>-31.5</td><td>-31.7</td><td>-19.7</td><td>-15.5</td><td>-1.6 </td><td>8.7  </td><td>14.1 </td><td>13.0 </td><td>0.3  </td><td>-7.8 </td><td>-17.2</td><td>-25.8</td><td>-9.6 </td><td>-29.7</td><td>-12.3</td><td>11.9 </td><td>-8.2 </td></tr>\n",
       "\t<tr><td>1973 </td><td>-24.3</td><td>-26.6</td><td>-21.7</td><td>-11.4</td><td>5.2  </td><td>15.6 </td><td>18.2 </td><td>14.1 </td><td>9.2  </td><td>-0.7 </td><td>-16.9</td><td>-23.7</td><td>-5.3 </td><td>-25.6</td><td>-9.3 </td><td>16.0 </td><td>-2.8 </td></tr>\n",
       "\t<tr><td>1974 </td><td>-28.6</td><td>-27.7</td><td>-25.5</td><td>-13.3</td><td>0.0  </td><td>12.2 </td><td>15.9 </td><td>11.5 </td><td>2.1  </td><td>-10.8</td><td>-14.2</td><td>-22.5</td><td>-8.4 </td><td>-26.7</td><td>-12.9</td><td>13.2 </td><td>-7.6 </td></tr>\n",
       "\t<tr><td>1975 </td><td>-33.2</td><td>-25.8</td><td>-23.4</td><td>-7.2 </td><td>1.1  </td><td>12.9 </td><td>15.6 </td><td>15.6 </td><td>7.4  </td><td>-4.9 </td><td>-17.2</td><td>-25.5</td><td>-7.1 </td><td>-27.2</td><td>-9.8 </td><td>14.7 </td><td>-4.9 </td></tr>\n",
       "\t<tr><td>1976 </td><td>-27.4</td><td>-27.4</td><td>-24.2</td><td>-4.7 </td><td>2.1  </td><td>9.7  </td><td>17.3 </td><td>12.7 </td><td>6.4  </td><td>-4.0 </td><td>-14.6</td><td>-26.8</td><td>-6.7 </td><td>-26.8</td><td>-8.9 </td><td>13.2 </td><td>-4.1 </td></tr>\n",
       "\t<tr><td>1977 </td><td>-23.9</td><td>-21.1</td><td>-21.6</td><td>-9.9 </td><td>0.3  </td><td>11.2 </td><td>14.1 </td><td>10.0 </td><td>7.4  </td><td>-3.3 </td><td>-16.4</td><td>-26.9</td><td>-6.7 </td><td>-23.9</td><td>-10.4</td><td>11.8 </td><td>-4.1 </td></tr>\n",
       "\t<tr><td>1978 </td><td>-26.2</td><td>-20.7</td><td>-22.9</td><td>-13.3</td><td>-4.2 </td><td>4.9  </td><td>9.3  </td><td>10.2 </td><td>4.2  </td><td>-10.8</td><td>-18.3</td><td>-25.1</td><td>-9.4 </td><td>-24.6</td><td>-13.5</td><td>8.1  </td><td>-8.3 </td></tr>\n",
       "\t<tr><td>1979 </td><td>-23.5</td><td>-36.3</td><td>-26.7</td><td>-14.0</td><td>-2.6 </td><td>5.6  </td><td>15.4 </td><td>9.9  </td><td>4.1  </td><td>-5.8 </td><td>-11.7</td><td>-21.0</td><td>-8.9 </td><td>-28.3</td><td>-14.4</td><td>10.3 </td><td>-4.5 </td></tr>\n",
       "\t<tr><td>1980 </td><td>-27.9</td><td>-20.2</td><td>-22.0</td><td>-9.5 </td><td>2.4  </td><td>9.3  </td><td>13.6 </td><td>14.3 </td><td>3.0  </td><td>-4.0 </td><td>-18.3</td><td>-28.4</td><td>-7.3 </td><td>-23.0</td><td>-9.7 </td><td>12.4 </td><td>-6.4 </td></tr>\n",
       "\t<tr><td>1981 </td><td>-16.4</td><td>-23.4</td><td>-16.4</td><td>-14.4</td><td>0.6  </td><td>9.4  </td><td>14.0 </td><td>15.0 </td><td>3.7  </td><td>-3.9 </td><td>-14.5</td><td>-20.7</td><td>-5.6 </td><td>-22.7</td><td>-10.1</td><td>12.8 </td><td>-4.9 </td></tr>\n",
       "\t<tr><td>1982 </td><td>-32.9</td><td>-24.7</td><td>-23.7</td><td>-14.7</td><td>-1.8 </td><td>9.3  </td><td>16.3 </td><td>11.3 </td><td>3.7  </td><td>-4.3 </td><td>-22.3</td><td>-26.5</td><td>-9.2 </td><td>-26.1</td><td>-13.4</td><td>12.3 </td><td>-7.6 </td></tr>\n",
       "\t<tr><td>1983 </td><td>-27.5</td><td>-29.8</td><td>-24.7</td><td>-12.3</td><td>-9.0 </td><td>9.9  </td><td>15.0 </td><td>13.5 </td><td>5.1  </td><td>-6.3 </td><td>-10.7</td><td>-23.5</td><td>-8.4 </td><td>-27.9</td><td>-15.3</td><td>12.8 </td><td>-4.0 </td></tr>\n",
       "\t<tr><td>1984 </td><td>-28.6</td><td>-22.0</td><td>-21.6</td><td>-8.3 </td><td>0.5  </td><td>12.5 </td><td>17.2 </td><td>12.8 </td><td>2.4  </td><td>-7.0 </td><td>-18.3</td><td>-29.1</td><td>-7.5 </td><td>-24.7</td><td>-9.8 </td><td>14.2 </td><td>-7.6 </td></tr>\n",
       "\t<tr><td>1985 </td><td>-24.0</td><td>-31.6</td><td>-22.5</td><td>-15.6</td><td>1.5  </td><td>11.1 </td><td>11.7 </td><td>10.1 </td><td>3.7  </td><td>-7.2 </td><td>-19.5</td><td>-20.5</td><td>-8.6 </td><td>-28.2</td><td>-12.2</td><td>11.0 </td><td>-7.7 </td></tr>\n",
       "\t<tr><td>1986 </td><td>-27.7</td><td>-22.9</td><td>-23.5</td><td>-14.3</td><td>-2.0 </td><td>7.1  </td><td>15.4 </td><td>10.3 </td><td>4.5  </td><td>-6.9 </td><td>-20.6</td><td>-20.3</td><td>-8.4 </td><td>-23.7</td><td>-13.3</td><td>10.9 </td><td>-7.7 </td></tr>\n",
       "\t<tr><td>1987 </td><td>-20.1</td><td>-21.1</td><td>-22.0</td><td>-10.1</td><td>-2.7 </td><td>9.9  </td><td>14.8 </td><td>8.5  </td><td>7.1  </td><td>-5.3 </td><td>-17.0</td><td>-16.0</td><td>-6.2 </td><td>-20.5</td><td>-11.6</td><td>11.1 </td><td>-5.1 </td></tr>\n",
       "\t<tr><td>1988 </td><td>-28.2</td><td>-28.2</td><td>-18.8</td><td>-11.3</td><td>-6.2 </td><td>11.4 </td><td>16.3 </td><td>14.5 </td><td>6.2  </td><td>-5.8 </td><td>-21.4</td><td>-23.9</td><td>-8.0 </td><td>-24.1</td><td>-12.1</td><td>14.1 </td><td>-7.0 </td></tr>\n",
       "\t<tr><td>1989 </td><td>-29.9</td><td>-18.3</td><td>-25.7</td><td>-10.9</td><td>-4.1 </td><td>13.1 </td><td>17.9 </td><td>17.6 </td><td>4.4  </td><td>-4.8 </td><td>-22.8</td><td>-24.8</td><td>-7.4 </td><td>-24.0</td><td>-13.6</td><td>16.2 </td><td>-7.7 </td></tr>\n",
       "\t<tr><td>1990 </td><td>-28.9</td><td>-31.0</td><td>-17.1</td><td>-10.4</td><td>-3.5 </td><td>8.3  </td><td>15.5 </td><td>9.4  </td><td>3.8  </td><td>-7.2 </td><td>-21.8</td><td>-27.5</td><td>-9.2 </td><td>-28.2</td><td>-10.3</td><td>11.1 </td><td>-8.4 </td></tr>\n",
       "\t<tr><td>1991 </td><td>-28.3</td><td>-26.5</td><td>-24.1</td><td>-9.7 </td><td>2.0  </td><td>12.3 </td><td>16.5 </td><td>14.1 </td><td>2.0  </td><td>-8.3 </td><td>-19.7</td><td>-24.0</td><td>-7.8 </td><td>-27.4</td><td>-10.6</td><td>14.3 </td><td>-8.7 </td></tr>\n",
       "\t<tr><td>1992 </td><td>-25.3</td><td>-25.5</td><td>-19.1</td><td>-13.1</td><td>-2.3 </td><td>8.5  </td><td>16.4 </td><td>12.2 </td><td>1.1  </td><td>-5.8 </td><td>-14.9</td><td>-23.0</td><td>-7.6 </td><td>-24.9</td><td>-11.5</td><td>12.4 </td><td>-6.5 </td></tr>\n",
       "\t<tr><td>1993 </td><td>-21.7</td><td>-24.8</td><td>-17.4</td><td>-12.9</td><td>-2.6 </td><td>8.4  </td><td>14.0 </td><td>13.0 </td><td>3.4  </td><td>-6.2 </td><td>-17.8</td><td>-25.7</td><td>-7.5 </td><td>-23.2</td><td>-11.0</td><td>11.8 </td><td>-6.9 </td></tr>\n",
       "\t<tr><td>1994 </td><td>-30.8</td><td>-30.5</td><td>-17.8</td><td>-13.2</td><td>1.9  </td><td>13.1 </td><td>19.6 </td><td>15.0 </td><td>5.2  </td><td>-3.2 </td><td>-15.3</td><td>-20.0</td><td>-6.3 </td><td>-29.0</td><td>-9.7 </td><td>15.9 </td><td>-4.4 </td></tr>\n",
       "\t<tr><td>1995 </td><td>-21.6</td><td>-24.9</td><td>-21.3</td><td>-11.0</td><td>-3.8 </td><td>12.3 </td><td>13.2 </td><td>12.4 </td><td>3.4  </td><td>-6.6 </td><td>-17.4</td><td>-26.4</td><td>-7.6 </td><td>-22.2</td><td>-12.0</td><td>12.6 </td><td>-6.9 </td></tr>\n",
       "\t<tr><td>1996 </td><td>-28.4</td><td>-23.2</td><td>-22.0</td><td>-12.0</td><td>-2.5 </td><td>15.1 </td><td>19.2 </td><td>10.5 </td><td>7.5  </td><td>-7.1 </td><td>-16.9</td><td>-23.7</td><td>-7.0 </td><td>-26.0</td><td>-12.2</td><td>14.9 </td><td>-5.5 </td></tr>\n",
       "\t<tr><td>1997 </td><td>-26.5</td><td>-23.6</td><td>-23.9</td><td>-11.5</td><td>-3.1 </td><td>9.9  </td><td>18.5 </td><td>13.8 </td><td>7.2  </td><td>-8.7 </td><td>-11.9</td><td>-19.5</td><td>-6.6 </td><td>-24.6</td><td>-12.8</td><td>14.1 </td><td>-4.5 </td></tr>\n",
       "\t<tr><td>1998 </td><td>-30.5</td><td>-21.7</td><td>-18.2</td><td>-6.2 </td><td>3.5  </td><td>12.7 </td><td>18.2 </td><td>14.9 </td><td>6.0  </td><td>-1.8 </td><td>-10.1</td><td>-19.1</td><td>-4.4 </td><td>-23.9</td><td>-7.0 </td><td>15.3 </td><td>-2.0 </td></tr>\n",
       "\t<tr><td>1999 </td><td>-26.0</td><td>-20.0</td><td>-15.7</td><td>-9.5 </td><td>-1.4 </td><td>11.3 </td><td>12.7 </td><td>12.3 </td><td>4.6  </td><td>-6.6 </td><td>-13.6</td><td>-21.5</td><td>-6.1 </td><td>-21.7</td><td>-8.9 </td><td>12.1 </td><td>-5.2 </td></tr>\n",
       "\t<tr><td>2000 </td><td>-23.0</td><td>-21.2</td><td>-18.3</td><td>-12.2</td><td>-0.5 </td><td>12.3 </td><td>20.6 </td><td>12.5 </td><td>3.6  </td><td>-5.8 </td><td>-14.7</td><td>-26.1</td><td>-6.1 </td><td>-21.9</td><td>-10.3</td><td>15.1 </td><td>-5.6 </td></tr>\n",
       "\t<tr><td>2001 </td><td>-21.5</td><td>-23.9</td><td>-19.9</td><td>-11.1</td><td>-1.7 </td><td>7.2  </td><td>16.6 </td><td>12.3 </td><td>9.7  </td><td>-7.6 </td><td>-17.2</td><td>-19.2</td><td>-6.4 </td><td>-23.8</td><td>-10.9</td><td>12.0 </td><td>-5.0 </td></tr>\n",
       "\t<tr><td>2002 </td><td>-24.9</td><td>-26.9</td><td>-22.0</td><td>-15.7</td><td>-4.2 </td><td>12.5 </td><td>16.7 </td><td>11.3 </td><td>5.1  </td><td>-6.3 </td><td>-13.8</td><td>-16.3</td><td>-7.0 </td><td>-23.7</td><td>-14.0</td><td>13.5 </td><td>-5.0 </td></tr>\n",
       "\t<tr><td>2003 </td><td>-23.6</td><td>-28.5</td><td>-22.4</td><td>-9.1 </td><td>-1.1 </td><td>9.9  </td><td>18.5 </td><td>14.7 </td><td>6.3  </td><td>-1.5 </td><td>-14.9</td><td>-21.3</td><td>-6.1 </td><td>-22.8</td><td>-10.9</td><td>14.4 </td><td>-3.4 </td></tr>\n",
       "\t<tr><td>2004 </td><td>-29.7</td><td>-24.9</td><td>-25.1</td><td>-14.9</td><td>-7.4 </td><td>9.1  </td><td>17.0 </td><td>9.7  </td><td>3.0  </td><td>-7.8 </td><td>-18.3</td><td>-26.3</td><td>-9.6 </td><td>-25.3</td><td>-15.8</td><td>11.9 </td><td>-7.7 </td></tr>\n",
       "\t<tr><td>2005 </td><td>-25.7</td><td>-26.2</td><td>-19.8</td><td>-8.0 </td><td>-4.2 </td><td>8.5  </td><td>14.0 </td><td>12.5 </td><td>2.8  </td><td>-4.2 </td><td>-14.4</td><td>-17.4</td><td>-6.8 </td><td>-26.1</td><td>-10.7</td><td>11.7 </td><td>-5.3 </td></tr>\n",
       "\t<tr><td>2006 </td><td>-22.7</td><td>-19.4</td><td>-15.0</td><td>-8.5 </td><td>3.2  </td><td>15.3 </td><td>15.5 </td><td>15.6 </td><td>8.1  </td><td>-3.8 </td><td>-18.4</td><td>-17.3</td><td>-4.0 </td><td>-19.8</td><td>-6.8 </td><td>15.5 </td><td>-4.7 </td></tr>\n",
       "\t<tr><td>2007 </td><td>NA   </td><td>-25.3</td><td>-24.3</td><td>-9.7 </td><td>-2.2 </td><td>9.9  </td><td>18.6 </td><td>11.1 </td><td>1.8  </td><td>-5.1 </td><td>-18.9</td><td>-24.0</td><td>NA   </td><td>NA   </td><td>-12.1</td><td>13.2 </td><td>-7.4 </td></tr>\n",
       "\t<tr><td>2008 </td><td>-24.5</td><td>NA   </td><td>NA   </td><td>-10.9</td><td>-0.2 </td><td>10.8 </td><td>17.5 </td><td>11.9 </td><td>2.4  </td><td>-3.3 </td><td>-14.6</td><td>NA   </td><td>NA   </td><td>NA   </td><td>NA   </td><td>13.4 </td><td>-5.2 </td></tr>\n",
       "\t<tr><td>2009 </td><td>NA   </td><td>NA   </td><td>NA   </td><td>NA   </td><td>NA   </td><td>NA   </td><td>NA   </td><td>NA   </td><td>7.9  </td><td>-6.7 </td><td>-13.9</td><td>-21.9</td><td>NA   </td><td>NA   </td><td>NA   </td><td>NA   </td><td>-4.2 </td></tr>\n",
       "\t<tr><td>2010 </td><td>-24.2</td><td>NA   </td><td>NA   </td><td>-4.6 </td><td>-3.5 </td><td>11.4 </td><td>17.3 </td><td>14.4 </td><td>5.1  </td><td>-3.3 </td><td>-12.7</td><td>-21.2</td><td>NA   </td><td>NA   </td><td>NA   </td><td>14.4 </td><td>-3.6 </td></tr>\n",
       "\t<tr><td>2011 </td><td>NA   </td><td>NA   </td><td>NA   </td><td>-15.1</td><td>1.2  </td><td>10.6 </td><td>19.1 </td><td>14.8 </td><td>6.7  </td><td>-2.8 </td><td>-16.6</td><td>-20.9</td><td>NA   </td><td>NA   </td><td>NA   </td><td>14.8 </td><td>-4.2 </td></tr>\n",
       "\t<tr><td>2012 </td><td>-23.8</td><td>-17.1</td><td>NA   </td><td>-10.4</td><td>2.5  </td><td>15.1 </td><td>19.2 </td><td>15.3 </td><td>10.3 </td><td>-4.2 </td><td>-17.9</td><td>-26.4</td><td>NA   </td><td>-20.6</td><td>NA   </td><td>16.5 </td><td>-3.9 </td></tr>\n",
       "\t<tr><td>2013 </td><td>-27.6</td><td>NA   </td><td>NA   </td><td>-12.9</td><td>-1.3 </td><td>16.9 </td><td>14.4 </td><td>16.1 </td><td>6.5  </td><td>-1.6 </td><td>-15.8</td><td>-26.1</td><td>NA   </td><td>NA   </td><td>NA   </td><td>15.8 </td><td>-3.6 </td></tr>\n",
       "\t<tr><td>2014 </td><td>NA   </td><td>NA   </td><td>NA   </td><td>-11.4</td><td>1.5  </td><td>15.0 </td><td>19.6 </td><td>12.4 </td><td>3.4  </td><td>-4.6 </td><td>-16.9</td><td>-22.2</td><td>NA   </td><td>NA   </td><td>NA   </td><td>15.7 </td><td>-6.0 </td></tr>\n",
       "\t<tr><td>2015 </td><td>-23.8</td><td>NA   </td><td>-18.8</td><td>-12.6</td><td>2.6  </td><td>13.0 </td><td>15.4 </td><td>15.2 </td><td>6.7  </td><td>-7.2 </td><td>-14.0</td><td>-21.0</td><td>NA   </td><td>NA   </td><td>-9.6 </td><td>14.5 </td><td>-4.8 </td></tr>\n",
       "\t<tr><td>2016 </td><td>NA   </td><td>NA   </td><td>NA   </td><td>-13.5</td><td>3.6  </td><td>13.4 </td><td>17.5 </td><td>15.6 </td><td>6.3  </td><td>-5.5 </td><td>-11.5</td><td>NA   </td><td>NA   </td><td>NA   </td><td>NA   </td><td>15.5 </td><td>-3.6 </td></tr>\n",
       "\t<tr><td>2017 </td><td>NA   </td><td>NA   </td><td>NA   </td><td>NA   </td><td>2.6  </td><td>12.6 </td><td>17.8 </td><td>18.6 </td><td>9.4  </td><td>NA   </td><td>-18.1</td><td>-19.9</td><td>NA   </td><td>NA   </td><td>NA   </td><td>16.3 </td><td>NA   </td></tr>\n",
       "</tbody>\n",
       "</table>\n"
      ],
      "text/latex": [
       "\\begin{tabular}{r|llllllllllllllllll}\n",
       " Year & Jan & Feb & Mar & Apr & May & Jun & Jul & Aug & Sep & Oct & Nov & Dec & Annual & Winter & Spring & Summer & Autumn\\\\\n",
       "\\hline\n",
       "\t 1959  & -28.5 & -24.1 & -22.3 & -13.3 & -6.1  & 2.7   & 11.1  & 7.5   & 4.4   & -8.5  & -17.8 & -17.3 & -9.4  & NA    & -13.9 & 7.1   & -7.3 \\\\\n",
       "\t 1960  & -27.1 & -26.2 & -25.5 & -11.5 & -1.2  & 13.1  & 13.5  & 12.0  & 3.3   & -6.6  & -21.3 & -22.2 & -8.3  & -23.5 & -12.7 & 12.9  & -8.2 \\\\\n",
       "\t 1961  & -29.6 & -26.4 & -27.3 & -16.5 & -3.6  & 12.1  & 17.6  & 11.6  & 1.3   & -8.4  & -15.9 & -29.2 & -9.5  & -26.1 & -15.8 & 13.8  & -7.7 \\\\\n",
       "\t 1962  & -26.5 & -32.8 & -23.8 & -13.8 & -5.0  & 10.9  & 14.4  & 13.5  & 5.7   & -3.4  & -18.7 & -22.1 & -8.5  & -29.5 & -14.2 & 12.9  & -5.5 \\\\\n",
       "\t 1963  & -28.8 & -26.0 & -26.5 & -8.5  & -2.3  & 9.1   & 14.1  & 12.3  & 3.7   & -2.1  & -17.3 & -20.3 & -7.7  & -25.6 & -12.4 & 11.8  & -5.2 \\\\\n",
       "\t 1964  & -31.1 & -26.9 & -28.3 & -15.8 & -0.9  & 6.5   & 16.4  & 14.3  & 4.8   & -4.0  & -14.5 & -25.7 & -8.8  & -26.1 & -15.0 & 12.4  & -4.6 \\\\\n",
       "\t 1965  & -27.6 & -35.7 & -19.1 & -10.2 & -0.7  & 6.5   & 15.5  & 13.2  & 1.5   & -5.0  & -16.0 & -24.0 & -8.5  & -29.7 & -10.0 & 11.7  & -6.5 \\\\\n",
       "\t 1966  & -35.9 & -27.1 & -21.0 & -14.7 & -0.2  & 13.5  & 16.4  & 14.8  & 7.1   & -8.9  & -22.2 & -21.6 & -8.3  & -29.0 & -12.0 & 14.9  & -8.0 \\\\\n",
       "\t 1967  & -28.0 & -31.0 & -23.9 & -12.8 & -2.8  & 5.8   & 13.7  & 12.6  & 5.9   & -2.9  & -13.7 & -20.8 & -8.2  & -26.9 & -13.2 & 10.7  & -3.6 \\\\\n",
       "\t 1968  & -30.1 & -23.4 & -17.0 & -14.0 & -2.1  & 8.9   & 11.7  & 11.2  & 5.3   & -2.7  & -13.8 & -24.2 & -7.5  & -24.8 & -11.0 & 10.6  & -3.7 \\\\\n",
       "\t 1969  & -30.5 & -20.8 & -20.8 & -9.0  & -3.6  & 4.1   & 15.3  & 13.0  & 4.6   & -1.8  & -17.1 & -16.4 & -6.9  & -25.2 & -11.1 & 10.8  & -4.8 \\\\\n",
       "\t 1970  & -27.1 & -28.0 & -21.0 & -10.3 & -2.8  & 10.9  & 16.4  & 12.7  & 4.3   & -3.8  & -18.0 & -30.2 & -8.1  & -23.8 & -11.4 & 13.3  & -5.8 \\\\\n",
       "\t 1971  & -28.6 & -25.4 & -20.8 & -11.0 & 1.3   & 11.6  & 14.8  & 13.1  & 5.8   & -2.9  & -18.9 & -25.9 & -7.2  & -28.1 & -10.2 & 13.2  & -5.3 \\\\\n",
       "\t 1972  & -31.5 & -31.7 & -19.7 & -15.5 & -1.6  & 8.7   & 14.1  & 13.0  & 0.3   & -7.8  & -17.2 & -25.8 & -9.6  & -29.7 & -12.3 & 11.9  & -8.2 \\\\\n",
       "\t 1973  & -24.3 & -26.6 & -21.7 & -11.4 & 5.2   & 15.6  & 18.2  & 14.1  & 9.2   & -0.7  & -16.9 & -23.7 & -5.3  & -25.6 & -9.3  & 16.0  & -2.8 \\\\\n",
       "\t 1974  & -28.6 & -27.7 & -25.5 & -13.3 & 0.0   & 12.2  & 15.9  & 11.5  & 2.1   & -10.8 & -14.2 & -22.5 & -8.4  & -26.7 & -12.9 & 13.2  & -7.6 \\\\\n",
       "\t 1975  & -33.2 & -25.8 & -23.4 & -7.2  & 1.1   & 12.9  & 15.6  & 15.6  & 7.4   & -4.9  & -17.2 & -25.5 & -7.1  & -27.2 & -9.8  & 14.7  & -4.9 \\\\\n",
       "\t 1976  & -27.4 & -27.4 & -24.2 & -4.7  & 2.1   & 9.7   & 17.3  & 12.7  & 6.4   & -4.0  & -14.6 & -26.8 & -6.7  & -26.8 & -8.9  & 13.2  & -4.1 \\\\\n",
       "\t 1977  & -23.9 & -21.1 & -21.6 & -9.9  & 0.3   & 11.2  & 14.1  & 10.0  & 7.4   & -3.3  & -16.4 & -26.9 & -6.7  & -23.9 & -10.4 & 11.8  & -4.1 \\\\\n",
       "\t 1978  & -26.2 & -20.7 & -22.9 & -13.3 & -4.2  & 4.9   & 9.3   & 10.2  & 4.2   & -10.8 & -18.3 & -25.1 & -9.4  & -24.6 & -13.5 & 8.1   & -8.3 \\\\\n",
       "\t 1979  & -23.5 & -36.3 & -26.7 & -14.0 & -2.6  & 5.6   & 15.4  & 9.9   & 4.1   & -5.8  & -11.7 & -21.0 & -8.9  & -28.3 & -14.4 & 10.3  & -4.5 \\\\\n",
       "\t 1980  & -27.9 & -20.2 & -22.0 & -9.5  & 2.4   & 9.3   & 13.6  & 14.3  & 3.0   & -4.0  & -18.3 & -28.4 & -7.3  & -23.0 & -9.7  & 12.4  & -6.4 \\\\\n",
       "\t 1981  & -16.4 & -23.4 & -16.4 & -14.4 & 0.6   & 9.4   & 14.0  & 15.0  & 3.7   & -3.9  & -14.5 & -20.7 & -5.6  & -22.7 & -10.1 & 12.8  & -4.9 \\\\\n",
       "\t 1982  & -32.9 & -24.7 & -23.7 & -14.7 & -1.8  & 9.3   & 16.3  & 11.3  & 3.7   & -4.3  & -22.3 & -26.5 & -9.2  & -26.1 & -13.4 & 12.3  & -7.6 \\\\\n",
       "\t 1983  & -27.5 & -29.8 & -24.7 & -12.3 & -9.0  & 9.9   & 15.0  & 13.5  & 5.1   & -6.3  & -10.7 & -23.5 & -8.4  & -27.9 & -15.3 & 12.8  & -4.0 \\\\\n",
       "\t 1984  & -28.6 & -22.0 & -21.6 & -8.3  & 0.5   & 12.5  & 17.2  & 12.8  & 2.4   & -7.0  & -18.3 & -29.1 & -7.5  & -24.7 & -9.8  & 14.2  & -7.6 \\\\\n",
       "\t 1985  & -24.0 & -31.6 & -22.5 & -15.6 & 1.5   & 11.1  & 11.7  & 10.1  & 3.7   & -7.2  & -19.5 & -20.5 & -8.6  & -28.2 & -12.2 & 11.0  & -7.7 \\\\\n",
       "\t 1986  & -27.7 & -22.9 & -23.5 & -14.3 & -2.0  & 7.1   & 15.4  & 10.3  & 4.5   & -6.9  & -20.6 & -20.3 & -8.4  & -23.7 & -13.3 & 10.9  & -7.7 \\\\\n",
       "\t 1987  & -20.1 & -21.1 & -22.0 & -10.1 & -2.7  & 9.9   & 14.8  & 8.5   & 7.1   & -5.3  & -17.0 & -16.0 & -6.2  & -20.5 & -11.6 & 11.1  & -5.1 \\\\\n",
       "\t 1988  & -28.2 & -28.2 & -18.8 & -11.3 & -6.2  & 11.4  & 16.3  & 14.5  & 6.2   & -5.8  & -21.4 & -23.9 & -8.0  & -24.1 & -12.1 & 14.1  & -7.0 \\\\\n",
       "\t 1989  & -29.9 & -18.3 & -25.7 & -10.9 & -4.1  & 13.1  & 17.9  & 17.6  & 4.4   & -4.8  & -22.8 & -24.8 & -7.4  & -24.0 & -13.6 & 16.2  & -7.7 \\\\\n",
       "\t 1990  & -28.9 & -31.0 & -17.1 & -10.4 & -3.5  & 8.3   & 15.5  & 9.4   & 3.8   & -7.2  & -21.8 & -27.5 & -9.2  & -28.2 & -10.3 & 11.1  & -8.4 \\\\\n",
       "\t 1991  & -28.3 & -26.5 & -24.1 & -9.7  & 2.0   & 12.3  & 16.5  & 14.1  & 2.0   & -8.3  & -19.7 & -24.0 & -7.8  & -27.4 & -10.6 & 14.3  & -8.7 \\\\\n",
       "\t 1992  & -25.3 & -25.5 & -19.1 & -13.1 & -2.3  & 8.5   & 16.4  & 12.2  & 1.1   & -5.8  & -14.9 & -23.0 & -7.6  & -24.9 & -11.5 & 12.4  & -6.5 \\\\\n",
       "\t 1993  & -21.7 & -24.8 & -17.4 & -12.9 & -2.6  & 8.4   & 14.0  & 13.0  & 3.4   & -6.2  & -17.8 & -25.7 & -7.5  & -23.2 & -11.0 & 11.8  & -6.9 \\\\\n",
       "\t 1994  & -30.8 & -30.5 & -17.8 & -13.2 & 1.9   & 13.1  & 19.6  & 15.0  & 5.2   & -3.2  & -15.3 & -20.0 & -6.3  & -29.0 & -9.7  & 15.9  & -4.4 \\\\\n",
       "\t 1995  & -21.6 & -24.9 & -21.3 & -11.0 & -3.8  & 12.3  & 13.2  & 12.4  & 3.4   & -6.6  & -17.4 & -26.4 & -7.6  & -22.2 & -12.0 & 12.6  & -6.9 \\\\\n",
       "\t 1996  & -28.4 & -23.2 & -22.0 & -12.0 & -2.5  & 15.1  & 19.2  & 10.5  & 7.5   & -7.1  & -16.9 & -23.7 & -7.0  & -26.0 & -12.2 & 14.9  & -5.5 \\\\\n",
       "\t 1997  & -26.5 & -23.6 & -23.9 & -11.5 & -3.1  & 9.9   & 18.5  & 13.8  & 7.2   & -8.7  & -11.9 & -19.5 & -6.6  & -24.6 & -12.8 & 14.1  & -4.5 \\\\\n",
       "\t 1998  & -30.5 & -21.7 & -18.2 & -6.2  & 3.5   & 12.7  & 18.2  & 14.9  & 6.0   & -1.8  & -10.1 & -19.1 & -4.4  & -23.9 & -7.0  & 15.3  & -2.0 \\\\\n",
       "\t 1999  & -26.0 & -20.0 & -15.7 & -9.5  & -1.4  & 11.3  & 12.7  & 12.3  & 4.6   & -6.6  & -13.6 & -21.5 & -6.1  & -21.7 & -8.9  & 12.1  & -5.2 \\\\\n",
       "\t 2000  & -23.0 & -21.2 & -18.3 & -12.2 & -0.5  & 12.3  & 20.6  & 12.5  & 3.6   & -5.8  & -14.7 & -26.1 & -6.1  & -21.9 & -10.3 & 15.1  & -5.6 \\\\\n",
       "\t 2001  & -21.5 & -23.9 & -19.9 & -11.1 & -1.7  & 7.2   & 16.6  & 12.3  & 9.7   & -7.6  & -17.2 & -19.2 & -6.4  & -23.8 & -10.9 & 12.0  & -5.0 \\\\\n",
       "\t 2002  & -24.9 & -26.9 & -22.0 & -15.7 & -4.2  & 12.5  & 16.7  & 11.3  & 5.1   & -6.3  & -13.8 & -16.3 & -7.0  & -23.7 & -14.0 & 13.5  & -5.0 \\\\\n",
       "\t 2003  & -23.6 & -28.5 & -22.4 & -9.1  & -1.1  & 9.9   & 18.5  & 14.7  & 6.3   & -1.5  & -14.9 & -21.3 & -6.1  & -22.8 & -10.9 & 14.4  & -3.4 \\\\\n",
       "\t 2004  & -29.7 & -24.9 & -25.1 & -14.9 & -7.4  & 9.1   & 17.0  & 9.7   & 3.0   & -7.8  & -18.3 & -26.3 & -9.6  & -25.3 & -15.8 & 11.9  & -7.7 \\\\\n",
       "\t 2005  & -25.7 & -26.2 & -19.8 & -8.0  & -4.2  & 8.5   & 14.0  & 12.5  & 2.8   & -4.2  & -14.4 & -17.4 & -6.8  & -26.1 & -10.7 & 11.7  & -5.3 \\\\\n",
       "\t 2006  & -22.7 & -19.4 & -15.0 & -8.5  & 3.2   & 15.3  & 15.5  & 15.6  & 8.1   & -3.8  & -18.4 & -17.3 & -4.0  & -19.8 & -6.8  & 15.5  & -4.7 \\\\\n",
       "\t 2007  & NA    & -25.3 & -24.3 & -9.7  & -2.2  & 9.9   & 18.6  & 11.1  & 1.8   & -5.1  & -18.9 & -24.0 & NA    & NA    & -12.1 & 13.2  & -7.4 \\\\\n",
       "\t 2008  & -24.5 & NA    & NA    & -10.9 & -0.2  & 10.8  & 17.5  & 11.9  & 2.4   & -3.3  & -14.6 & NA    & NA    & NA    & NA    & 13.4  & -5.2 \\\\\n",
       "\t 2009  & NA    & NA    & NA    & NA    & NA    & NA    & NA    & NA    & 7.9   & -6.7  & -13.9 & -21.9 & NA    & NA    & NA    & NA    & -4.2 \\\\\n",
       "\t 2010  & -24.2 & NA    & NA    & -4.6  & -3.5  & 11.4  & 17.3  & 14.4  & 5.1   & -3.3  & -12.7 & -21.2 & NA    & NA    & NA    & 14.4  & -3.6 \\\\\n",
       "\t 2011  & NA    & NA    & NA    & -15.1 & 1.2   & 10.6  & 19.1  & 14.8  & 6.7   & -2.8  & -16.6 & -20.9 & NA    & NA    & NA    & 14.8  & -4.2 \\\\\n",
       "\t 2012  & -23.8 & -17.1 & NA    & -10.4 & 2.5   & 15.1  & 19.2  & 15.3  & 10.3  & -4.2  & -17.9 & -26.4 & NA    & -20.6 & NA    & 16.5  & -3.9 \\\\\n",
       "\t 2013  & -27.6 & NA    & NA    & -12.9 & -1.3  & 16.9  & 14.4  & 16.1  & 6.5   & -1.6  & -15.8 & -26.1 & NA    & NA    & NA    & 15.8  & -3.6 \\\\\n",
       "\t 2014  & NA    & NA    & NA    & -11.4 & 1.5   & 15.0  & 19.6  & 12.4  & 3.4   & -4.6  & -16.9 & -22.2 & NA    & NA    & NA    & 15.7  & -6.0 \\\\\n",
       "\t 2015  & -23.8 & NA    & -18.8 & -12.6 & 2.6   & 13.0  & 15.4  & 15.2  & 6.7   & -7.2  & -14.0 & -21.0 & NA    & NA    & -9.6  & 14.5  & -4.8 \\\\\n",
       "\t 2016  & NA    & NA    & NA    & -13.5 & 3.6   & 13.4  & 17.5  & 15.6  & 6.3   & -5.5  & -11.5 & NA    & NA    & NA    & NA    & 15.5  & -3.6 \\\\\n",
       "\t 2017  & NA    & NA    & NA    & NA    & 2.6   & 12.6  & 17.8  & 18.6  & 9.4   & NA    & -18.1 & -19.9 & NA    & NA    & NA    & 16.3  & NA   \\\\\n",
       "\\end{tabular}\n"
      ],
      "text/markdown": [
       "\n",
       "| Year | Jan | Feb | Mar | Apr | May | Jun | Jul | Aug | Sep | Oct | Nov | Dec | Annual | Winter | Spring | Summer | Autumn |\n",
       "|---|---|---|---|---|---|---|---|---|---|---|---|---|---|---|---|---|---|\n",
       "| 1959  | -28.5 | -24.1 | -22.3 | -13.3 | -6.1  | 2.7   | 11.1  | 7.5   | 4.4   | -8.5  | -17.8 | -17.3 | -9.4  | NA    | -13.9 | 7.1   | -7.3  |\n",
       "| 1960  | -27.1 | -26.2 | -25.5 | -11.5 | -1.2  | 13.1  | 13.5  | 12.0  | 3.3   | -6.6  | -21.3 | -22.2 | -8.3  | -23.5 | -12.7 | 12.9  | -8.2  |\n",
       "| 1961  | -29.6 | -26.4 | -27.3 | -16.5 | -3.6  | 12.1  | 17.6  | 11.6  | 1.3   | -8.4  | -15.9 | -29.2 | -9.5  | -26.1 | -15.8 | 13.8  | -7.7  |\n",
       "| 1962  | -26.5 | -32.8 | -23.8 | -13.8 | -5.0  | 10.9  | 14.4  | 13.5  | 5.7   | -3.4  | -18.7 | -22.1 | -8.5  | -29.5 | -14.2 | 12.9  | -5.5  |\n",
       "| 1963  | -28.8 | -26.0 | -26.5 | -8.5  | -2.3  | 9.1   | 14.1  | 12.3  | 3.7   | -2.1  | -17.3 | -20.3 | -7.7  | -25.6 | -12.4 | 11.8  | -5.2  |\n",
       "| 1964  | -31.1 | -26.9 | -28.3 | -15.8 | -0.9  | 6.5   | 16.4  | 14.3  | 4.8   | -4.0  | -14.5 | -25.7 | -8.8  | -26.1 | -15.0 | 12.4  | -4.6  |\n",
       "| 1965  | -27.6 | -35.7 | -19.1 | -10.2 | -0.7  | 6.5   | 15.5  | 13.2  | 1.5   | -5.0  | -16.0 | -24.0 | -8.5  | -29.7 | -10.0 | 11.7  | -6.5  |\n",
       "| 1966  | -35.9 | -27.1 | -21.0 | -14.7 | -0.2  | 13.5  | 16.4  | 14.8  | 7.1   | -8.9  | -22.2 | -21.6 | -8.3  | -29.0 | -12.0 | 14.9  | -8.0  |\n",
       "| 1967  | -28.0 | -31.0 | -23.9 | -12.8 | -2.8  | 5.8   | 13.7  | 12.6  | 5.9   | -2.9  | -13.7 | -20.8 | -8.2  | -26.9 | -13.2 | 10.7  | -3.6  |\n",
       "| 1968  | -30.1 | -23.4 | -17.0 | -14.0 | -2.1  | 8.9   | 11.7  | 11.2  | 5.3   | -2.7  | -13.8 | -24.2 | -7.5  | -24.8 | -11.0 | 10.6  | -3.7  |\n",
       "| 1969  | -30.5 | -20.8 | -20.8 | -9.0  | -3.6  | 4.1   | 15.3  | 13.0  | 4.6   | -1.8  | -17.1 | -16.4 | -6.9  | -25.2 | -11.1 | 10.8  | -4.8  |\n",
       "| 1970  | -27.1 | -28.0 | -21.0 | -10.3 | -2.8  | 10.9  | 16.4  | 12.7  | 4.3   | -3.8  | -18.0 | -30.2 | -8.1  | -23.8 | -11.4 | 13.3  | -5.8  |\n",
       "| 1971  | -28.6 | -25.4 | -20.8 | -11.0 | 1.3   | 11.6  | 14.8  | 13.1  | 5.8   | -2.9  | -18.9 | -25.9 | -7.2  | -28.1 | -10.2 | 13.2  | -5.3  |\n",
       "| 1972  | -31.5 | -31.7 | -19.7 | -15.5 | -1.6  | 8.7   | 14.1  | 13.0  | 0.3   | -7.8  | -17.2 | -25.8 | -9.6  | -29.7 | -12.3 | 11.9  | -8.2  |\n",
       "| 1973  | -24.3 | -26.6 | -21.7 | -11.4 | 5.2   | 15.6  | 18.2  | 14.1  | 9.2   | -0.7  | -16.9 | -23.7 | -5.3  | -25.6 | -9.3  | 16.0  | -2.8  |\n",
       "| 1974  | -28.6 | -27.7 | -25.5 | -13.3 | 0.0   | 12.2  | 15.9  | 11.5  | 2.1   | -10.8 | -14.2 | -22.5 | -8.4  | -26.7 | -12.9 | 13.2  | -7.6  |\n",
       "| 1975  | -33.2 | -25.8 | -23.4 | -7.2  | 1.1   | 12.9  | 15.6  | 15.6  | 7.4   | -4.9  | -17.2 | -25.5 | -7.1  | -27.2 | -9.8  | 14.7  | -4.9  |\n",
       "| 1976  | -27.4 | -27.4 | -24.2 | -4.7  | 2.1   | 9.7   | 17.3  | 12.7  | 6.4   | -4.0  | -14.6 | -26.8 | -6.7  | -26.8 | -8.9  | 13.2  | -4.1  |\n",
       "| 1977  | -23.9 | -21.1 | -21.6 | -9.9  | 0.3   | 11.2  | 14.1  | 10.0  | 7.4   | -3.3  | -16.4 | -26.9 | -6.7  | -23.9 | -10.4 | 11.8  | -4.1  |\n",
       "| 1978  | -26.2 | -20.7 | -22.9 | -13.3 | -4.2  | 4.9   | 9.3   | 10.2  | 4.2   | -10.8 | -18.3 | -25.1 | -9.4  | -24.6 | -13.5 | 8.1   | -8.3  |\n",
       "| 1979  | -23.5 | -36.3 | -26.7 | -14.0 | -2.6  | 5.6   | 15.4  | 9.9   | 4.1   | -5.8  | -11.7 | -21.0 | -8.9  | -28.3 | -14.4 | 10.3  | -4.5  |\n",
       "| 1980  | -27.9 | -20.2 | -22.0 | -9.5  | 2.4   | 9.3   | 13.6  | 14.3  | 3.0   | -4.0  | -18.3 | -28.4 | -7.3  | -23.0 | -9.7  | 12.4  | -6.4  |\n",
       "| 1981  | -16.4 | -23.4 | -16.4 | -14.4 | 0.6   | 9.4   | 14.0  | 15.0  | 3.7   | -3.9  | -14.5 | -20.7 | -5.6  | -22.7 | -10.1 | 12.8  | -4.9  |\n",
       "| 1982  | -32.9 | -24.7 | -23.7 | -14.7 | -1.8  | 9.3   | 16.3  | 11.3  | 3.7   | -4.3  | -22.3 | -26.5 | -9.2  | -26.1 | -13.4 | 12.3  | -7.6  |\n",
       "| 1983  | -27.5 | -29.8 | -24.7 | -12.3 | -9.0  | 9.9   | 15.0  | 13.5  | 5.1   | -6.3  | -10.7 | -23.5 | -8.4  | -27.9 | -15.3 | 12.8  | -4.0  |\n",
       "| 1984  | -28.6 | -22.0 | -21.6 | -8.3  | 0.5   | 12.5  | 17.2  | 12.8  | 2.4   | -7.0  | -18.3 | -29.1 | -7.5  | -24.7 | -9.8  | 14.2  | -7.6  |\n",
       "| 1985  | -24.0 | -31.6 | -22.5 | -15.6 | 1.5   | 11.1  | 11.7  | 10.1  | 3.7   | -7.2  | -19.5 | -20.5 | -8.6  | -28.2 | -12.2 | 11.0  | -7.7  |\n",
       "| 1986  | -27.7 | -22.9 | -23.5 | -14.3 | -2.0  | 7.1   | 15.4  | 10.3  | 4.5   | -6.9  | -20.6 | -20.3 | -8.4  | -23.7 | -13.3 | 10.9  | -7.7  |\n",
       "| 1987  | -20.1 | -21.1 | -22.0 | -10.1 | -2.7  | 9.9   | 14.8  | 8.5   | 7.1   | -5.3  | -17.0 | -16.0 | -6.2  | -20.5 | -11.6 | 11.1  | -5.1  |\n",
       "| 1988  | -28.2 | -28.2 | -18.8 | -11.3 | -6.2  | 11.4  | 16.3  | 14.5  | 6.2   | -5.8  | -21.4 | -23.9 | -8.0  | -24.1 | -12.1 | 14.1  | -7.0  |\n",
       "| 1989  | -29.9 | -18.3 | -25.7 | -10.9 | -4.1  | 13.1  | 17.9  | 17.6  | 4.4   | -4.8  | -22.8 | -24.8 | -7.4  | -24.0 | -13.6 | 16.2  | -7.7  |\n",
       "| 1990  | -28.9 | -31.0 | -17.1 | -10.4 | -3.5  | 8.3   | 15.5  | 9.4   | 3.8   | -7.2  | -21.8 | -27.5 | -9.2  | -28.2 | -10.3 | 11.1  | -8.4  |\n",
       "| 1991  | -28.3 | -26.5 | -24.1 | -9.7  | 2.0   | 12.3  | 16.5  | 14.1  | 2.0   | -8.3  | -19.7 | -24.0 | -7.8  | -27.4 | -10.6 | 14.3  | -8.7  |\n",
       "| 1992  | -25.3 | -25.5 | -19.1 | -13.1 | -2.3  | 8.5   | 16.4  | 12.2  | 1.1   | -5.8  | -14.9 | -23.0 | -7.6  | -24.9 | -11.5 | 12.4  | -6.5  |\n",
       "| 1993  | -21.7 | -24.8 | -17.4 | -12.9 | -2.6  | 8.4   | 14.0  | 13.0  | 3.4   | -6.2  | -17.8 | -25.7 | -7.5  | -23.2 | -11.0 | 11.8  | -6.9  |\n",
       "| 1994  | -30.8 | -30.5 | -17.8 | -13.2 | 1.9   | 13.1  | 19.6  | 15.0  | 5.2   | -3.2  | -15.3 | -20.0 | -6.3  | -29.0 | -9.7  | 15.9  | -4.4  |\n",
       "| 1995  | -21.6 | -24.9 | -21.3 | -11.0 | -3.8  | 12.3  | 13.2  | 12.4  | 3.4   | -6.6  | -17.4 | -26.4 | -7.6  | -22.2 | -12.0 | 12.6  | -6.9  |\n",
       "| 1996  | -28.4 | -23.2 | -22.0 | -12.0 | -2.5  | 15.1  | 19.2  | 10.5  | 7.5   | -7.1  | -16.9 | -23.7 | -7.0  | -26.0 | -12.2 | 14.9  | -5.5  |\n",
       "| 1997  | -26.5 | -23.6 | -23.9 | -11.5 | -3.1  | 9.9   | 18.5  | 13.8  | 7.2   | -8.7  | -11.9 | -19.5 | -6.6  | -24.6 | -12.8 | 14.1  | -4.5  |\n",
       "| 1998  | -30.5 | -21.7 | -18.2 | -6.2  | 3.5   | 12.7  | 18.2  | 14.9  | 6.0   | -1.8  | -10.1 | -19.1 | -4.4  | -23.9 | -7.0  | 15.3  | -2.0  |\n",
       "| 1999  | -26.0 | -20.0 | -15.7 | -9.5  | -1.4  | 11.3  | 12.7  | 12.3  | 4.6   | -6.6  | -13.6 | -21.5 | -6.1  | -21.7 | -8.9  | 12.1  | -5.2  |\n",
       "| 2000  | -23.0 | -21.2 | -18.3 | -12.2 | -0.5  | 12.3  | 20.6  | 12.5  | 3.6   | -5.8  | -14.7 | -26.1 | -6.1  | -21.9 | -10.3 | 15.1  | -5.6  |\n",
       "| 2001  | -21.5 | -23.9 | -19.9 | -11.1 | -1.7  | 7.2   | 16.6  | 12.3  | 9.7   | -7.6  | -17.2 | -19.2 | -6.4  | -23.8 | -10.9 | 12.0  | -5.0  |\n",
       "| 2002  | -24.9 | -26.9 | -22.0 | -15.7 | -4.2  | 12.5  | 16.7  | 11.3  | 5.1   | -6.3  | -13.8 | -16.3 | -7.0  | -23.7 | -14.0 | 13.5  | -5.0  |\n",
       "| 2003  | -23.6 | -28.5 | -22.4 | -9.1  | -1.1  | 9.9   | 18.5  | 14.7  | 6.3   | -1.5  | -14.9 | -21.3 | -6.1  | -22.8 | -10.9 | 14.4  | -3.4  |\n",
       "| 2004  | -29.7 | -24.9 | -25.1 | -14.9 | -7.4  | 9.1   | 17.0  | 9.7   | 3.0   | -7.8  | -18.3 | -26.3 | -9.6  | -25.3 | -15.8 | 11.9  | -7.7  |\n",
       "| 2005  | -25.7 | -26.2 | -19.8 | -8.0  | -4.2  | 8.5   | 14.0  | 12.5  | 2.8   | -4.2  | -14.4 | -17.4 | -6.8  | -26.1 | -10.7 | 11.7  | -5.3  |\n",
       "| 2006  | -22.7 | -19.4 | -15.0 | -8.5  | 3.2   | 15.3  | 15.5  | 15.6  | 8.1   | -3.8  | -18.4 | -17.3 | -4.0  | -19.8 | -6.8  | 15.5  | -4.7  |\n",
       "| 2007  | NA    | -25.3 | -24.3 | -9.7  | -2.2  | 9.9   | 18.6  | 11.1  | 1.8   | -5.1  | -18.9 | -24.0 | NA    | NA    | -12.1 | 13.2  | -7.4  |\n",
       "| 2008  | -24.5 | NA    | NA    | -10.9 | -0.2  | 10.8  | 17.5  | 11.9  | 2.4   | -3.3  | -14.6 | NA    | NA    | NA    | NA    | 13.4  | -5.2  |\n",
       "| 2009  | NA    | NA    | NA    | NA    | NA    | NA    | NA    | NA    | 7.9   | -6.7  | -13.9 | -21.9 | NA    | NA    | NA    | NA    | -4.2  |\n",
       "| 2010  | -24.2 | NA    | NA    | -4.6  | -3.5  | 11.4  | 17.3  | 14.4  | 5.1   | -3.3  | -12.7 | -21.2 | NA    | NA    | NA    | 14.4  | -3.6  |\n",
       "| 2011  | NA    | NA    | NA    | -15.1 | 1.2   | 10.6  | 19.1  | 14.8  | 6.7   | -2.8  | -16.6 | -20.9 | NA    | NA    | NA    | 14.8  | -4.2  |\n",
       "| 2012  | -23.8 | -17.1 | NA    | -10.4 | 2.5   | 15.1  | 19.2  | 15.3  | 10.3  | -4.2  | -17.9 | -26.4 | NA    | -20.6 | NA    | 16.5  | -3.9  |\n",
       "| 2013  | -27.6 | NA    | NA    | -12.9 | -1.3  | 16.9  | 14.4  | 16.1  | 6.5   | -1.6  | -15.8 | -26.1 | NA    | NA    | NA    | 15.8  | -3.6  |\n",
       "| 2014  | NA    | NA    | NA    | -11.4 | 1.5   | 15.0  | 19.6  | 12.4  | 3.4   | -4.6  | -16.9 | -22.2 | NA    | NA    | NA    | 15.7  | -6.0  |\n",
       "| 2015  | -23.8 | NA    | -18.8 | -12.6 | 2.6   | 13.0  | 15.4  | 15.2  | 6.7   | -7.2  | -14.0 | -21.0 | NA    | NA    | -9.6  | 14.5  | -4.8  |\n",
       "| 2016  | NA    | NA    | NA    | -13.5 | 3.6   | 13.4  | 17.5  | 15.6  | 6.3   | -5.5  | -11.5 | NA    | NA    | NA    | NA    | 15.5  | -3.6  |\n",
       "| 2017  | NA    | NA    | NA    | NA    | 2.6   | 12.6  | 17.8  | 18.6  | 9.4   | NA    | -18.1 | -19.9 | NA    | NA    | NA    | 16.3  | NA    |\n",
       "\n"
      ],
      "text/plain": [
       "   Year Jan   Feb   Mar   Apr   May  Jun  Jul  Aug  Sep  Oct   Nov   Dec  \n",
       "1  1959 -28.5 -24.1 -22.3 -13.3 -6.1 2.7  11.1 7.5  4.4  -8.5  -17.8 -17.3\n",
       "2  1960 -27.1 -26.2 -25.5 -11.5 -1.2 13.1 13.5 12.0 3.3  -6.6  -21.3 -22.2\n",
       "3  1961 -29.6 -26.4 -27.3 -16.5 -3.6 12.1 17.6 11.6 1.3  -8.4  -15.9 -29.2\n",
       "4  1962 -26.5 -32.8 -23.8 -13.8 -5.0 10.9 14.4 13.5 5.7  -3.4  -18.7 -22.1\n",
       "5  1963 -28.8 -26.0 -26.5 -8.5  -2.3 9.1  14.1 12.3 3.7  -2.1  -17.3 -20.3\n",
       "6  1964 -31.1 -26.9 -28.3 -15.8 -0.9 6.5  16.4 14.3 4.8  -4.0  -14.5 -25.7\n",
       "7  1965 -27.6 -35.7 -19.1 -10.2 -0.7 6.5  15.5 13.2 1.5  -5.0  -16.0 -24.0\n",
       "8  1966 -35.9 -27.1 -21.0 -14.7 -0.2 13.5 16.4 14.8 7.1  -8.9  -22.2 -21.6\n",
       "9  1967 -28.0 -31.0 -23.9 -12.8 -2.8 5.8  13.7 12.6 5.9  -2.9  -13.7 -20.8\n",
       "10 1968 -30.1 -23.4 -17.0 -14.0 -2.1 8.9  11.7 11.2 5.3  -2.7  -13.8 -24.2\n",
       "11 1969 -30.5 -20.8 -20.8 -9.0  -3.6 4.1  15.3 13.0 4.6  -1.8  -17.1 -16.4\n",
       "12 1970 -27.1 -28.0 -21.0 -10.3 -2.8 10.9 16.4 12.7 4.3  -3.8  -18.0 -30.2\n",
       "13 1971 -28.6 -25.4 -20.8 -11.0 1.3  11.6 14.8 13.1 5.8  -2.9  -18.9 -25.9\n",
       "14 1972 -31.5 -31.7 -19.7 -15.5 -1.6 8.7  14.1 13.0 0.3  -7.8  -17.2 -25.8\n",
       "15 1973 -24.3 -26.6 -21.7 -11.4 5.2  15.6 18.2 14.1 9.2  -0.7  -16.9 -23.7\n",
       "16 1974 -28.6 -27.7 -25.5 -13.3 0.0  12.2 15.9 11.5 2.1  -10.8 -14.2 -22.5\n",
       "17 1975 -33.2 -25.8 -23.4 -7.2  1.1  12.9 15.6 15.6 7.4  -4.9  -17.2 -25.5\n",
       "18 1976 -27.4 -27.4 -24.2 -4.7  2.1  9.7  17.3 12.7 6.4  -4.0  -14.6 -26.8\n",
       "19 1977 -23.9 -21.1 -21.6 -9.9  0.3  11.2 14.1 10.0 7.4  -3.3  -16.4 -26.9\n",
       "20 1978 -26.2 -20.7 -22.9 -13.3 -4.2 4.9  9.3  10.2 4.2  -10.8 -18.3 -25.1\n",
       "21 1979 -23.5 -36.3 -26.7 -14.0 -2.6 5.6  15.4 9.9  4.1  -5.8  -11.7 -21.0\n",
       "22 1980 -27.9 -20.2 -22.0 -9.5  2.4  9.3  13.6 14.3 3.0  -4.0  -18.3 -28.4\n",
       "23 1981 -16.4 -23.4 -16.4 -14.4 0.6  9.4  14.0 15.0 3.7  -3.9  -14.5 -20.7\n",
       "24 1982 -32.9 -24.7 -23.7 -14.7 -1.8 9.3  16.3 11.3 3.7  -4.3  -22.3 -26.5\n",
       "25 1983 -27.5 -29.8 -24.7 -12.3 -9.0 9.9  15.0 13.5 5.1  -6.3  -10.7 -23.5\n",
       "26 1984 -28.6 -22.0 -21.6 -8.3  0.5  12.5 17.2 12.8 2.4  -7.0  -18.3 -29.1\n",
       "27 1985 -24.0 -31.6 -22.5 -15.6 1.5  11.1 11.7 10.1 3.7  -7.2  -19.5 -20.5\n",
       "28 1986 -27.7 -22.9 -23.5 -14.3 -2.0 7.1  15.4 10.3 4.5  -6.9  -20.6 -20.3\n",
       "29 1987 -20.1 -21.1 -22.0 -10.1 -2.7 9.9  14.8 8.5  7.1  -5.3  -17.0 -16.0\n",
       "30 1988 -28.2 -28.2 -18.8 -11.3 -6.2 11.4 16.3 14.5 6.2  -5.8  -21.4 -23.9\n",
       "31 1989 -29.9 -18.3 -25.7 -10.9 -4.1 13.1 17.9 17.6 4.4  -4.8  -22.8 -24.8\n",
       "32 1990 -28.9 -31.0 -17.1 -10.4 -3.5 8.3  15.5 9.4  3.8  -7.2  -21.8 -27.5\n",
       "33 1991 -28.3 -26.5 -24.1 -9.7  2.0  12.3 16.5 14.1 2.0  -8.3  -19.7 -24.0\n",
       "34 1992 -25.3 -25.5 -19.1 -13.1 -2.3 8.5  16.4 12.2 1.1  -5.8  -14.9 -23.0\n",
       "35 1993 -21.7 -24.8 -17.4 -12.9 -2.6 8.4  14.0 13.0 3.4  -6.2  -17.8 -25.7\n",
       "36 1994 -30.8 -30.5 -17.8 -13.2 1.9  13.1 19.6 15.0 5.2  -3.2  -15.3 -20.0\n",
       "37 1995 -21.6 -24.9 -21.3 -11.0 -3.8 12.3 13.2 12.4 3.4  -6.6  -17.4 -26.4\n",
       "38 1996 -28.4 -23.2 -22.0 -12.0 -2.5 15.1 19.2 10.5 7.5  -7.1  -16.9 -23.7\n",
       "39 1997 -26.5 -23.6 -23.9 -11.5 -3.1 9.9  18.5 13.8 7.2  -8.7  -11.9 -19.5\n",
       "40 1998 -30.5 -21.7 -18.2 -6.2  3.5  12.7 18.2 14.9 6.0  -1.8  -10.1 -19.1\n",
       "41 1999 -26.0 -20.0 -15.7 -9.5  -1.4 11.3 12.7 12.3 4.6  -6.6  -13.6 -21.5\n",
       "42 2000 -23.0 -21.2 -18.3 -12.2 -0.5 12.3 20.6 12.5 3.6  -5.8  -14.7 -26.1\n",
       "43 2001 -21.5 -23.9 -19.9 -11.1 -1.7 7.2  16.6 12.3 9.7  -7.6  -17.2 -19.2\n",
       "44 2002 -24.9 -26.9 -22.0 -15.7 -4.2 12.5 16.7 11.3 5.1  -6.3  -13.8 -16.3\n",
       "45 2003 -23.6 -28.5 -22.4 -9.1  -1.1 9.9  18.5 14.7 6.3  -1.5  -14.9 -21.3\n",
       "46 2004 -29.7 -24.9 -25.1 -14.9 -7.4 9.1  17.0 9.7  3.0  -7.8  -18.3 -26.3\n",
       "47 2005 -25.7 -26.2 -19.8 -8.0  -4.2 8.5  14.0 12.5 2.8  -4.2  -14.4 -17.4\n",
       "48 2006 -22.7 -19.4 -15.0 -8.5  3.2  15.3 15.5 15.6 8.1  -3.8  -18.4 -17.3\n",
       "49 2007 NA    -25.3 -24.3 -9.7  -2.2 9.9  18.6 11.1 1.8  -5.1  -18.9 -24.0\n",
       "50 2008 -24.5 NA    NA    -10.9 -0.2 10.8 17.5 11.9 2.4  -3.3  -14.6 NA   \n",
       "51 2009 NA    NA    NA    NA    NA   NA   NA   NA   7.9  -6.7  -13.9 -21.9\n",
       "52 2010 -24.2 NA    NA    -4.6  -3.5 11.4 17.3 14.4 5.1  -3.3  -12.7 -21.2\n",
       "53 2011 NA    NA    NA    -15.1 1.2  10.6 19.1 14.8 6.7  -2.8  -16.6 -20.9\n",
       "54 2012 -23.8 -17.1 NA    -10.4 2.5  15.1 19.2 15.3 10.3 -4.2  -17.9 -26.4\n",
       "55 2013 -27.6 NA    NA    -12.9 -1.3 16.9 14.4 16.1 6.5  -1.6  -15.8 -26.1\n",
       "56 2014 NA    NA    NA    -11.4 1.5  15.0 19.6 12.4 3.4  -4.6  -16.9 -22.2\n",
       "57 2015 -23.8 NA    -18.8 -12.6 2.6  13.0 15.4 15.2 6.7  -7.2  -14.0 -21.0\n",
       "58 2016 NA    NA    NA    -13.5 3.6  13.4 17.5 15.6 6.3  -5.5  -11.5 NA   \n",
       "59 2017 NA    NA    NA    NA    2.6  12.6 17.8 18.6 9.4  NA    -18.1 -19.9\n",
       "   Annual Winter Spring Summer Autumn\n",
       "1  -9.4   NA     -13.9  7.1    -7.3  \n",
       "2  -8.3   -23.5  -12.7  12.9   -8.2  \n",
       "3  -9.5   -26.1  -15.8  13.8   -7.7  \n",
       "4  -8.5   -29.5  -14.2  12.9   -5.5  \n",
       "5  -7.7   -25.6  -12.4  11.8   -5.2  \n",
       "6  -8.8   -26.1  -15.0  12.4   -4.6  \n",
       "7  -8.5   -29.7  -10.0  11.7   -6.5  \n",
       "8  -8.3   -29.0  -12.0  14.9   -8.0  \n",
       "9  -8.2   -26.9  -13.2  10.7   -3.6  \n",
       "10 -7.5   -24.8  -11.0  10.6   -3.7  \n",
       "11 -6.9   -25.2  -11.1  10.8   -4.8  \n",
       "12 -8.1   -23.8  -11.4  13.3   -5.8  \n",
       "13 -7.2   -28.1  -10.2  13.2   -5.3  \n",
       "14 -9.6   -29.7  -12.3  11.9   -8.2  \n",
       "15 -5.3   -25.6  -9.3   16.0   -2.8  \n",
       "16 -8.4   -26.7  -12.9  13.2   -7.6  \n",
       "17 -7.1   -27.2  -9.8   14.7   -4.9  \n",
       "18 -6.7   -26.8  -8.9   13.2   -4.1  \n",
       "19 -6.7   -23.9  -10.4  11.8   -4.1  \n",
       "20 -9.4   -24.6  -13.5  8.1    -8.3  \n",
       "21 -8.9   -28.3  -14.4  10.3   -4.5  \n",
       "22 -7.3   -23.0  -9.7   12.4   -6.4  \n",
       "23 -5.6   -22.7  -10.1  12.8   -4.9  \n",
       "24 -9.2   -26.1  -13.4  12.3   -7.6  \n",
       "25 -8.4   -27.9  -15.3  12.8   -4.0  \n",
       "26 -7.5   -24.7  -9.8   14.2   -7.6  \n",
       "27 -8.6   -28.2  -12.2  11.0   -7.7  \n",
       "28 -8.4   -23.7  -13.3  10.9   -7.7  \n",
       "29 -6.2   -20.5  -11.6  11.1   -5.1  \n",
       "30 -8.0   -24.1  -12.1  14.1   -7.0  \n",
       "31 -7.4   -24.0  -13.6  16.2   -7.7  \n",
       "32 -9.2   -28.2  -10.3  11.1   -8.4  \n",
       "33 -7.8   -27.4  -10.6  14.3   -8.7  \n",
       "34 -7.6   -24.9  -11.5  12.4   -6.5  \n",
       "35 -7.5   -23.2  -11.0  11.8   -6.9  \n",
       "36 -6.3   -29.0  -9.7   15.9   -4.4  \n",
       "37 -7.6   -22.2  -12.0  12.6   -6.9  \n",
       "38 -7.0   -26.0  -12.2  14.9   -5.5  \n",
       "39 -6.6   -24.6  -12.8  14.1   -4.5  \n",
       "40 -4.4   -23.9  -7.0   15.3   -2.0  \n",
       "41 -6.1   -21.7  -8.9   12.1   -5.2  \n",
       "42 -6.1   -21.9  -10.3  15.1   -5.6  \n",
       "43 -6.4   -23.8  -10.9  12.0   -5.0  \n",
       "44 -7.0   -23.7  -14.0  13.5   -5.0  \n",
       "45 -6.1   -22.8  -10.9  14.4   -3.4  \n",
       "46 -9.6   -25.3  -15.8  11.9   -7.7  \n",
       "47 -6.8   -26.1  -10.7  11.7   -5.3  \n",
       "48 -4.0   -19.8  -6.8   15.5   -4.7  \n",
       "49 NA     NA     -12.1  13.2   -7.4  \n",
       "50 NA     NA     NA     13.4   -5.2  \n",
       "51 NA     NA     NA     NA     -4.2  \n",
       "52 NA     NA     NA     14.4   -3.6  \n",
       "53 NA     NA     NA     14.8   -4.2  \n",
       "54 NA     -20.6  NA     16.5   -3.9  \n",
       "55 NA     NA     NA     15.8   -3.6  \n",
       "56 NA     NA     NA     15.7   -6.0  \n",
       "57 NA     NA     -9.6   14.5   -4.8  \n",
       "58 NA     NA     NA     15.5   -3.6  \n",
       "59 NA     NA     NA     16.3   NA    "
      ]
     },
     "metadata": {},
     "output_type": "display_data"
    }
   ],
   "source": [
    "# head(df, n=10)\n",
    "df <- data.frame(lapply(df, function(x){\n",
    "      gsub(\"-9999.9\", \"NA\", x)\n",
    "    }))\n",
    "df\n"
   ]
  },
  {
   "cell_type": "markdown",
   "metadata": {},
   "source": [
    "## Saving files under new names and new and directories\n",
    "Extracting the station number, city and province for file name use. "
   ]
  },
  {
   "cell_type": "code",
   "execution_count": 31,
   "metadata": {},
   "outputs": [
    {
     "data": {
      "text/html": [
       "'230N002'"
      ],
      "text/latex": [
       "'230N002'"
      ],
      "text/markdown": [
       "'230N002'"
      ],
      "text/plain": [
       "[1] \"230N002\""
      ]
     },
     "metadata": {},
     "output_type": "display_data"
    },
    {
     "data": {
      "text/html": [
       "'LUPIN'"
      ],
      "text/latex": [
       "'LUPIN'"
      ],
      "text/markdown": [
       "'LUPIN'"
      ],
      "text/plain": [
       "[1] \"LUPIN\""
      ]
     },
     "metadata": {},
     "output_type": "display_data"
    },
    {
     "data": {
      "text/html": [
       "'NU'"
      ],
      "text/latex": [
       "'NU'"
      ],
      "text/markdown": [
       "'NU'"
      ],
      "text/plain": [
       "[1] \"NU\""
      ]
     },
     "metadata": {},
     "output_type": "display_data"
    }
   ],
   "source": [
    "df = read.delim('R/Data/Homog_monthly_max_temp/mx230N002.txt', skip = 0, header = FALSE, as.is=TRUE, dec=\".\", sep = \",\", na.strings=c(\" \", \"\",'NA'), strip.white = TRUE)\n",
    "\n",
    "(station_number <- select(df, V1)[1,1])\n",
    "(city <- select(df, V2)[1,1])\n",
    "(province <- select(df, V3)[1,1])\n"
   ]
  },
  {
   "cell_type": "code",
   "execution_count": 32,
   "metadata": {},
   "outputs": [
    {
     "data": {
      "text/html": [
       "'230N002_LUPIN_NU'"
      ],
      "text/latex": [
       "'230N002\\_LUPIN\\_NU'"
      ],
      "text/markdown": [
       "'230N002_LUPIN_NU'"
      ],
      "text/plain": [
       "[1] \"230N002_LUPIN_NU\""
      ]
     },
     "metadata": {},
     "output_type": "display_data"
    }
   ],
   "source": [
    "stationNum_city_prov <- paste(select(df, V1)[1,1], trimws(select(df, V2)[1,1]), province <- select(df, V3)[1,1], sep='_')\n",
    "stationNum_city_prov"
   ]
  },
  {
   "cell_type": "markdown",
   "metadata": {},
   "source": [
    "## Result \n",
    "\n",
    "338 text files were cleaned, per directory\n",
    "* Directories: Homog_monthly_min_temp, Homog_monthly_max_temp, Homog_monthly_mean_temp\n",
    "\n",
    "As shown above, new text files and directories are created\n",
    "* New Directories: Homog_monthly_min_temp_cleaned, Homog_monthly_max_temp_cleaned, Homog_monthly_mean_temp_cleaned\n",
    "\n",
    " "
   ]
  },
  {
   "attachments": {},
   "cell_type": "markdown",
   "metadata": {},
   "source": [
    "## Intended use \n",
    "All data is cleaned prior to the shinyApp being used. The cleaned data is reloaded and processed into a single data frame on app load. \n",
    "\n",
    "\n",
    "### Input data frame. \n",
    "Depending on the month and year the user selects, the data is trimmed before any statistical method.\n",
    "\n",
    "\n",
    "![input df](input_df.PNG)\n",
    "\n",
    "### Output data frame. \n",
    "After the desired statistical analysis, we shift our focus to different variables and a new data frame.\n",
    "\n",
    "\n",
    "![output df](output_df.PNG)"
   ]
  },
  {
   "cell_type": "markdown",
   "metadata": {},
   "source": [
    "## In conclusion, the data does not appear to have many challenges. The ease and use of the tidy verse package, is one that can be consistently used. Helping many, understand the data they are dealing with."
   ]
  }
 ],
 "metadata": {
  "kernelspec": {
   "display_name": "R",
   "language": "R",
   "name": "ir"
  },
  "language_info": {
   "codemirror_mode": "r",
   "file_extension": ".r",
   "mimetype": "text/x-r-source",
   "name": "R",
   "pygments_lexer": "r",
   "version": "3.6.1"
  }
 },
 "nbformat": 4,
 "nbformat_minor": 4
}
