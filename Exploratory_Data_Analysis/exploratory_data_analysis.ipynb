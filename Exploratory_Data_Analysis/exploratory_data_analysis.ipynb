{
 "cells": [
  {
   "cell_type": "markdown",
   "metadata": {},
   "source": [
    "# Exploratory Data Analysis with R "
   ]
  },
  {
   "cell_type": "markdown",
   "metadata": {},
   "source": [
    "Import relevant libraries"
   ]
  },
  {
   "cell_type": "code",
   "execution_count": 423,
   "metadata": {
    "scrolled": true
   },
   "outputs": [],
   "source": [
    "library(tidyverse)\n",
    "library(data.table)\n",
    "library(stringr)\n",
    "library(readr)\n",
    "library(plyr)\n",
    "library(tidyr)\n",
    "library(dplyr)"
   ]
  },
  {
   "cell_type": "code",
   "execution_count": 424,
   "metadata": {
    "scrolled": true
   },
   "outputs": [],
   "source": [
    "# reading in the data \n",
    "maxTemp_df = readRDS('../R/Data/Homog_monthly_max_temp_cleaned/5050920_FLIN FLON_MB.rds')\n",
    "totalPrec_df = readRDS('../R/Data/Adj_monthly_total_prec_cleaned/5050920_FLIN FLON_MB.rds')\n",
    "co2_alt_df = readRDS('../R/Data/Surface CO2 from NOAA_cleaned/co2_alt_surface-flask_1_ccgg_month.rds')\n"
   ]
  },
  {
   "cell_type": "code",
   "execution_count": 425,
   "metadata": {
    "scrolled": false
   },
   "outputs": [
    {
     "name": "stdout",
     "output_type": "stream",
     "text": [
      "[1] 91 18\n"
     ]
    },
    {
     "data": {
      "text/html": [
       "<table>\n",
       "<thead><tr><th scope=col>Year</th><th scope=col>Jan</th><th scope=col>Feb</th><th scope=col>Mar</th><th scope=col>Apr</th><th scope=col>May</th><th scope=col>Jun</th><th scope=col>Jul</th><th scope=col>Aug</th><th scope=col>Sep</th><th scope=col>Oct</th><th scope=col>Nov</th><th scope=col>Dec</th><th scope=col>Annual</th><th scope=col>Winter</th><th scope=col>Spring</th><th scope=col>Summer</th><th scope=col>Autumn</th></tr></thead>\n",
       "<tbody>\n",
       "\t<tr><td>1927 </td><td>NA   </td><td>-13.5</td><td>NA   </td><td>NA   </td><td>NA   </td><td>NA   </td><td>NA   </td><td>NA   </td><td>NA   </td><td>NA   </td><td>NA   </td><td>NA   </td><td>NA   </td><td>NA   </td><td>NA   </td><td>NA   </td><td>NA   </td></tr>\n",
       "\t<tr><td>1928 </td><td>-8.9 </td><td>NA   </td><td>NA   </td><td>NA   </td><td>NA   </td><td>21.4 </td><td>27.8 </td><td>NA   </td><td>18.0 </td><td>7.0  </td><td>0.3  </td><td>-7.9 </td><td>NA   </td><td>NA   </td><td>NA   </td><td>NA   </td><td>8.4  </td></tr>\n",
       "\t<tr><td>1929 </td><td>-21.9</td><td>-12.7</td><td>NA   </td><td>7.1  </td><td>13.1 </td><td>20.9 </td><td>24.6 </td><td>24.6 </td><td>14.5 </td><td>11.0 </td><td>-5.1 </td><td>-15.2</td><td>NA   </td><td>-14.2</td><td>NA   </td><td>23.4 </td><td>6.8  </td></tr>\n",
       "\t<tr><td>1930 </td><td>-21.4</td><td>-12.1</td><td>-2.6 </td><td>8.2  </td><td>13.8 </td><td>21.3 </td><td>25.9 </td><td>25.5 </td><td>12.8 </td><td>2.9  </td><td>-4.3 </td><td>-5.8 </td><td>5.4  </td><td>-16.2</td><td>6.5  </td><td>24.2 </td><td>3.8  </td></tr>\n",
       "\t<tr><td>1931 </td><td>-12.5</td><td>-5.6 </td><td>NA   </td><td>7.6  </td><td>14.3 </td><td>20.0 </td><td>23.7 </td><td>21.9 </td><td>14.2 </td><td>9.6  </td><td>-3.6 </td><td>-9.0 </td><td>NA   </td><td>-8.0 </td><td>NA   </td><td>21.9 </td><td>6.7  </td></tr>\n",
       "\t<tr><td>1932 </td><td>-15.2</td><td>-15.0</td><td>-11.3</td><td>5.4  </td><td>17.2 </td><td>21.5 </td><td>23.8 </td><td>23.4 </td><td>15.6 </td><td>1.5  </td><td>-10.5</td><td>-17.1</td><td>3.3  </td><td>-13.1</td><td>3.8  </td><td>22.9 </td><td>2.2  </td></tr>\n",
       "\t<tr><td>1933 </td><td>-18.6</td><td>-17.2</td><td>-6.6 </td><td>3.2  </td><td>15.4 </td><td>21.1 </td><td>22.2 </td><td>22.5 </td><td>14.0 </td><td>2.4  </td><td>-10.3</td><td>-25.5</td><td>1.9  </td><td>-17.6</td><td>4.0  </td><td>21.9 </td><td>2.0  </td></tr>\n",
       "\t<tr><td>1934 </td><td>-16.1</td><td>-11.5</td><td>NA   </td><td>6.1  </td><td>15.1 </td><td>18.7 </td><td>21.3 </td><td>19.1 </td><td>11.0 </td><td>7.2  </td><td>-4.6 </td><td>-15.1</td><td>NA   </td><td>-17.7</td><td>NA   </td><td>19.7 </td><td>4.5  </td></tr>\n",
       "\t<tr><td>1935 </td><td>-22.7</td><td>-5.7 </td><td>-8.1 </td><td>4.7  </td><td>16.2 </td><td>18.2 </td><td>25.1 </td><td>20.1 </td><td>13.4 </td><td>3.8  </td><td>-11.2</td><td>-13.0</td><td>3.4  </td><td>-14.5</td><td>4.3  </td><td>21.1 </td><td>2.0  </td></tr>\n",
       "\t<tr><td>1936 </td><td>-23.9</td><td>-22.0</td><td>-5.3 </td><td>1.9  </td><td>14.3 </td><td>18.8 </td><td>25.4 </td><td>21.7 </td><td>11.9 </td><td>2.9  </td><td>-4.0 </td><td>-16.5</td><td>2.1  </td><td>-19.6</td><td>3.6  </td><td>22.0 </td><td>3.6  </td></tr>\n",
       "</tbody>\n",
       "</table>\n"
      ],
      "text/latex": [
       "\\begin{tabular}{r|llllllllllllllllll}\n",
       " Year & Jan & Feb & Mar & Apr & May & Jun & Jul & Aug & Sep & Oct & Nov & Dec & Annual & Winter & Spring & Summer & Autumn\\\\\n",
       "\\hline\n",
       "\t 1927  & NA    & -13.5 & NA    & NA    & NA    & NA    & NA    & NA    & NA    & NA    & NA    & NA    & NA    & NA    & NA    & NA    & NA   \\\\\n",
       "\t 1928  & -8.9  & NA    & NA    & NA    & NA    & 21.4  & 27.8  & NA    & 18.0  & 7.0   & 0.3   & -7.9  & NA    & NA    & NA    & NA    & 8.4  \\\\\n",
       "\t 1929  & -21.9 & -12.7 & NA    & 7.1   & 13.1  & 20.9  & 24.6  & 24.6  & 14.5  & 11.0  & -5.1  & -15.2 & NA    & -14.2 & NA    & 23.4  & 6.8  \\\\\n",
       "\t 1930  & -21.4 & -12.1 & -2.6  & 8.2   & 13.8  & 21.3  & 25.9  & 25.5  & 12.8  & 2.9   & -4.3  & -5.8  & 5.4   & -16.2 & 6.5   & 24.2  & 3.8  \\\\\n",
       "\t 1931  & -12.5 & -5.6  & NA    & 7.6   & 14.3  & 20.0  & 23.7  & 21.9  & 14.2  & 9.6   & -3.6  & -9.0  & NA    & -8.0  & NA    & 21.9  & 6.7  \\\\\n",
       "\t 1932  & -15.2 & -15.0 & -11.3 & 5.4   & 17.2  & 21.5  & 23.8  & 23.4  & 15.6  & 1.5   & -10.5 & -17.1 & 3.3   & -13.1 & 3.8   & 22.9  & 2.2  \\\\\n",
       "\t 1933  & -18.6 & -17.2 & -6.6  & 3.2   & 15.4  & 21.1  & 22.2  & 22.5  & 14.0  & 2.4   & -10.3 & -25.5 & 1.9   & -17.6 & 4.0   & 21.9  & 2.0  \\\\\n",
       "\t 1934  & -16.1 & -11.5 & NA    & 6.1   & 15.1  & 18.7  & 21.3  & 19.1  & 11.0  & 7.2   & -4.6  & -15.1 & NA    & -17.7 & NA    & 19.7  & 4.5  \\\\\n",
       "\t 1935  & -22.7 & -5.7  & -8.1  & 4.7   & 16.2  & 18.2  & 25.1  & 20.1  & 13.4  & 3.8   & -11.2 & -13.0 & 3.4   & -14.5 & 4.3   & 21.1  & 2.0  \\\\\n",
       "\t 1936  & -23.9 & -22.0 & -5.3  & 1.9   & 14.3  & 18.8  & 25.4  & 21.7  & 11.9  & 2.9   & -4.0  & -16.5 & 2.1   & -19.6 & 3.6   & 22.0  & 3.6  \\\\\n",
       "\\end{tabular}\n"
      ],
      "text/markdown": [
       "\n",
       "| Year | Jan | Feb | Mar | Apr | May | Jun | Jul | Aug | Sep | Oct | Nov | Dec | Annual | Winter | Spring | Summer | Autumn |\n",
       "|---|---|---|---|---|---|---|---|---|---|---|---|---|---|---|---|---|---|\n",
       "| 1927  | NA    | -13.5 | NA    | NA    | NA    | NA    | NA    | NA    | NA    | NA    | NA    | NA    | NA    | NA    | NA    | NA    | NA    |\n",
       "| 1928  | -8.9  | NA    | NA    | NA    | NA    | 21.4  | 27.8  | NA    | 18.0  | 7.0   | 0.3   | -7.9  | NA    | NA    | NA    | NA    | 8.4   |\n",
       "| 1929  | -21.9 | -12.7 | NA    | 7.1   | 13.1  | 20.9  | 24.6  | 24.6  | 14.5  | 11.0  | -5.1  | -15.2 | NA    | -14.2 | NA    | 23.4  | 6.8   |\n",
       "| 1930  | -21.4 | -12.1 | -2.6  | 8.2   | 13.8  | 21.3  | 25.9  | 25.5  | 12.8  | 2.9   | -4.3  | -5.8  | 5.4   | -16.2 | 6.5   | 24.2  | 3.8   |\n",
       "| 1931  | -12.5 | -5.6  | NA    | 7.6   | 14.3  | 20.0  | 23.7  | 21.9  | 14.2  | 9.6   | -3.6  | -9.0  | NA    | -8.0  | NA    | 21.9  | 6.7   |\n",
       "| 1932  | -15.2 | -15.0 | -11.3 | 5.4   | 17.2  | 21.5  | 23.8  | 23.4  | 15.6  | 1.5   | -10.5 | -17.1 | 3.3   | -13.1 | 3.8   | 22.9  | 2.2   |\n",
       "| 1933  | -18.6 | -17.2 | -6.6  | 3.2   | 15.4  | 21.1  | 22.2  | 22.5  | 14.0  | 2.4   | -10.3 | -25.5 | 1.9   | -17.6 | 4.0   | 21.9  | 2.0   |\n",
       "| 1934  | -16.1 | -11.5 | NA    | 6.1   | 15.1  | 18.7  | 21.3  | 19.1  | 11.0  | 7.2   | -4.6  | -15.1 | NA    | -17.7 | NA    | 19.7  | 4.5   |\n",
       "| 1935  | -22.7 | -5.7  | -8.1  | 4.7   | 16.2  | 18.2  | 25.1  | 20.1  | 13.4  | 3.8   | -11.2 | -13.0 | 3.4   | -14.5 | 4.3   | 21.1  | 2.0   |\n",
       "| 1936  | -23.9 | -22.0 | -5.3  | 1.9   | 14.3  | 18.8  | 25.4  | 21.7  | 11.9  | 2.9   | -4.0  | -16.5 | 2.1   | -19.6 | 3.6   | 22.0  | 3.6   |\n",
       "\n"
      ],
      "text/plain": [
       "   Year Jan   Feb   Mar   Apr May  Jun  Jul  Aug  Sep  Oct  Nov   Dec   Annual\n",
       "1  1927 NA    -13.5 NA    NA  NA   NA   NA   NA   NA   NA   NA    NA    NA    \n",
       "2  1928 -8.9  NA    NA    NA  NA   21.4 27.8 NA   18.0 7.0  0.3   -7.9  NA    \n",
       "3  1929 -21.9 -12.7 NA    7.1 13.1 20.9 24.6 24.6 14.5 11.0 -5.1  -15.2 NA    \n",
       "4  1930 -21.4 -12.1 -2.6  8.2 13.8 21.3 25.9 25.5 12.8 2.9  -4.3  -5.8  5.4   \n",
       "5  1931 -12.5 -5.6  NA    7.6 14.3 20.0 23.7 21.9 14.2 9.6  -3.6  -9.0  NA    \n",
       "6  1932 -15.2 -15.0 -11.3 5.4 17.2 21.5 23.8 23.4 15.6 1.5  -10.5 -17.1 3.3   \n",
       "7  1933 -18.6 -17.2 -6.6  3.2 15.4 21.1 22.2 22.5 14.0 2.4  -10.3 -25.5 1.9   \n",
       "8  1934 -16.1 -11.5 NA    6.1 15.1 18.7 21.3 19.1 11.0 7.2  -4.6  -15.1 NA    \n",
       "9  1935 -22.7 -5.7  -8.1  4.7 16.2 18.2 25.1 20.1 13.4 3.8  -11.2 -13.0 3.4   \n",
       "10 1936 -23.9 -22.0 -5.3  1.9 14.3 18.8 25.4 21.7 11.9 2.9  -4.0  -16.5 2.1   \n",
       "   Winter Spring Summer Autumn\n",
       "1  NA     NA     NA     NA    \n",
       "2  NA     NA     NA     8.4   \n",
       "3  -14.2  NA     23.4   6.8   \n",
       "4  -16.2  6.5    24.2   3.8   \n",
       "5  -8.0   NA     21.9   6.7   \n",
       "6  -13.1  3.8    22.9   2.2   \n",
       "7  -17.6  4.0    21.9   2.0   \n",
       "8  -17.7  NA     19.7   4.5   \n",
       "9  -14.5  4.3    21.1   2.0   \n",
       "10 -19.6  3.6    22.0   3.6   "
      ]
     },
     "metadata": {},
     "output_type": "display_data"
    }
   ],
   "source": [
    "print(dim(maxTemp_df))\n",
    "head(maxTemp_df, n=10)"
   ]
  },
  {
   "cell_type": "code",
   "execution_count": 429,
   "metadata": {},
   "outputs": [
    {
     "name": "stdout",
     "output_type": "stream",
     "text": [
      "[1] 386   4\n"
     ]
    },
    {
     "data": {
      "text/html": [
       "<table>\n",
       "<thead><tr><th scope=col>site</th><th scope=col>year</th><th scope=col>month</th><th scope=col>value</th></tr></thead>\n",
       "<tbody>\n",
       "\t<tr><td>ALT   </td><td>1985  </td><td>6     </td><td>349.94</td></tr>\n",
       "\t<tr><td>ALT   </td><td>1985  </td><td>7     </td><td>343.98</td></tr>\n",
       "\t<tr><td>ALT   </td><td>1985  </td><td>8     </td><td>337.96</td></tr>\n",
       "\t<tr><td>ALT   </td><td>1985  </td><td>9     </td><td>339.09</td></tr>\n",
       "\t<tr><td>ALT   </td><td>1985  </td><td>10    </td><td>342.85</td></tr>\n",
       "\t<tr><td>ALT   </td><td>1985  </td><td>11    </td><td>345.66</td></tr>\n",
       "\t<tr><td>ALT   </td><td>1985  </td><td>12    </td><td>348.97</td></tr>\n",
       "\t<tr><td>ALT   </td><td>1986  </td><td>1     </td><td>351.34</td></tr>\n",
       "\t<tr><td>ALT   </td><td>1986  </td><td>2     </td><td>352.13</td></tr>\n",
       "\t<tr><td>ALT   </td><td>1986  </td><td>3     </td><td>352.74</td></tr>\n",
       "\t<tr><td>ALT   </td><td>1986  </td><td>4     </td><td>353.12</td></tr>\n",
       "\t<tr><td>ALT   </td><td>1986  </td><td>5     </td><td>353.32</td></tr>\n",
       "\t<tr><td>ALT   </td><td>1986  </td><td>6     </td><td>351.45</td></tr>\n",
       "\t<tr><td>ALT   </td><td>1986  </td><td>7     </td><td>345.76</td></tr>\n",
       "\t<tr><td>ALT   </td><td>1986  </td><td>8     </td><td>340.40</td></tr>\n",
       "</tbody>\n",
       "</table>\n"
      ],
      "text/latex": [
       "\\begin{tabular}{r|llll}\n",
       " site & year & month & value\\\\\n",
       "\\hline\n",
       "\t ALT    & 1985   & 6      & 349.94\\\\\n",
       "\t ALT    & 1985   & 7      & 343.98\\\\\n",
       "\t ALT    & 1985   & 8      & 337.96\\\\\n",
       "\t ALT    & 1985   & 9      & 339.09\\\\\n",
       "\t ALT    & 1985   & 10     & 342.85\\\\\n",
       "\t ALT    & 1985   & 11     & 345.66\\\\\n",
       "\t ALT    & 1985   & 12     & 348.97\\\\\n",
       "\t ALT    & 1986   & 1      & 351.34\\\\\n",
       "\t ALT    & 1986   & 2      & 352.13\\\\\n",
       "\t ALT    & 1986   & 3      & 352.74\\\\\n",
       "\t ALT    & 1986   & 4      & 353.12\\\\\n",
       "\t ALT    & 1986   & 5      & 353.32\\\\\n",
       "\t ALT    & 1986   & 6      & 351.45\\\\\n",
       "\t ALT    & 1986   & 7      & 345.76\\\\\n",
       "\t ALT    & 1986   & 8      & 340.40\\\\\n",
       "\\end{tabular}\n"
      ],
      "text/markdown": [
       "\n",
       "| site | year | month | value |\n",
       "|---|---|---|---|\n",
       "| ALT    | 1985   | 6      | 349.94 |\n",
       "| ALT    | 1985   | 7      | 343.98 |\n",
       "| ALT    | 1985   | 8      | 337.96 |\n",
       "| ALT    | 1985   | 9      | 339.09 |\n",
       "| ALT    | 1985   | 10     | 342.85 |\n",
       "| ALT    | 1985   | 11     | 345.66 |\n",
       "| ALT    | 1985   | 12     | 348.97 |\n",
       "| ALT    | 1986   | 1      | 351.34 |\n",
       "| ALT    | 1986   | 2      | 352.13 |\n",
       "| ALT    | 1986   | 3      | 352.74 |\n",
       "| ALT    | 1986   | 4      | 353.12 |\n",
       "| ALT    | 1986   | 5      | 353.32 |\n",
       "| ALT    | 1986   | 6      | 351.45 |\n",
       "| ALT    | 1986   | 7      | 345.76 |\n",
       "| ALT    | 1986   | 8      | 340.40 |\n",
       "\n"
      ],
      "text/plain": [
       "   site year month value \n",
       "1  ALT  1985 6     349.94\n",
       "2  ALT  1985 7     343.98\n",
       "3  ALT  1985 8     337.96\n",
       "4  ALT  1985 9     339.09\n",
       "5  ALT  1985 10    342.85\n",
       "6  ALT  1985 11    345.66\n",
       "7  ALT  1985 12    348.97\n",
       "8  ALT  1986 1     351.34\n",
       "9  ALT  1986 2     352.13\n",
       "10 ALT  1986 3     352.74\n",
       "11 ALT  1986 4     353.12\n",
       "12 ALT  1986 5     353.32\n",
       "13 ALT  1986 6     351.45\n",
       "14 ALT  1986 7     345.76\n",
       "15 ALT  1986 8     340.40"
      ]
     },
     "metadata": {},
     "output_type": "display_data"
    }
   ],
   "source": [
    "print(dim(co2_alt_df))\n",
    "head(co2_alt_df, n=15)"
   ]
  },
  {
   "cell_type": "code",
   "execution_count": 426,
   "metadata": {
    "scrolled": true
   },
   "outputs": [
    {
     "name": "stdout",
     "output_type": "stream",
     "text": [
      "[1] 91 18\n"
     ]
    },
    {
     "data": {
      "text/html": [
       "<table>\n",
       "<thead><tr><th scope=col>Year</th><th scope=col>Jan</th><th scope=col>Feb</th><th scope=col>Mar</th><th scope=col>Apr</th><th scope=col>May</th><th scope=col>Jun</th><th scope=col>Jul</th><th scope=col>Aug</th><th scope=col>Sep</th><th scope=col>Oct</th><th scope=col>Nov</th><th scope=col>Dec</th><th scope=col>Annual</th><th scope=col>Winter</th><th scope=col>Spring</th><th scope=col>Summer</th><th scope=col>Autumn</th></tr></thead>\n",
       "<tbody>\n",
       "\t<tr><td>1927 </td><td>NA   </td><td>NA   </td><td>NA   </td><td>36.5 </td><td>15.7 </td><td>13.7 </td><td>103.0</td><td>65.5 </td><td>86.3 </td><td>16.1 </td><td>NA   </td><td>NA   </td><td>NA   </td><td>NA   </td><td>NA   </td><td>182.2</td><td>NA   </td></tr>\n",
       "\t<tr><td>1928 </td><td>NA   </td><td>NA   </td><td>NA   </td><td>13.3 </td><td>33.3 </td><td>28.3 </td><td>55.8 </td><td>35.0 </td><td>13.9 </td><td>14.2 </td><td>2.6  </td><td>NA   </td><td>NA   </td><td>NA   </td><td>NA   </td><td>119.2</td><td>30.8 </td></tr>\n",
       "\t<tr><td>1929 </td><td>NA   </td><td>NA   </td><td>NA   </td><td>13.7 </td><td>12.2 </td><td>23.6 </td><td>81.8 </td><td>28.4 </td><td>62.1 </td><td>1.5  </td><td>22.1 </td><td>NA   </td><td>NA   </td><td>NA   </td><td>NA   </td><td>133.7</td><td>85.8 </td></tr>\n",
       "\t<tr><td>1930 </td><td>NA   </td><td>NA   </td><td>NA   </td><td>19.4 </td><td>61.2 </td><td>100.7</td><td>57.3 </td><td>42.8 </td><td>88.8 </td><td>NA   </td><td>NA   </td><td>NA   </td><td>NA   </td><td>NA   </td><td>NA   </td><td>200.8</td><td>NA   </td></tr>\n",
       "\t<tr><td>1931 </td><td>NA   </td><td>NA   </td><td>NA   </td><td>NA   </td><td>40.8 </td><td>101.1</td><td>57.1 </td><td>69.6 </td><td>92.7 </td><td>46.2 </td><td>NA   </td><td>NA   </td><td>NA   </td><td>NA   </td><td>NA   </td><td>227.7</td><td>NA   </td></tr>\n",
       "\t<tr><td>1932 </td><td>NA   </td><td>NA   </td><td>NA   </td><td>NA   </td><td>45.9 </td><td>71.3 </td><td>66.7 </td><td>146.6</td><td>4.4  </td><td>NA   </td><td>NA   </td><td>NA   </td><td>NA   </td><td>NA   </td><td>NA   </td><td>284.6</td><td>NA   </td></tr>\n",
       "\t<tr><td>1933 </td><td>NA   </td><td>NA   </td><td>NA   </td><td>NA   </td><td>27.1 </td><td>80.3 </td><td>96.6 </td><td>27.0 </td><td>52.3 </td><td>NA   </td><td>NA   </td><td>NA   </td><td>NA   </td><td>NA   </td><td>NA   </td><td>204.0</td><td>NA   </td></tr>\n",
       "\t<tr><td>1934 </td><td>NA   </td><td>NA   </td><td>NA   </td><td>25.6 </td><td>38.0 </td><td>123.4</td><td>69.1 </td><td>19.0 </td><td>20.5 </td><td>25.2 </td><td>NA   </td><td>NA   </td><td>NA   </td><td>NA   </td><td>NA   </td><td>211.5</td><td>NA   </td></tr>\n",
       "\t<tr><td>1935 </td><td>NA   </td><td>NA   </td><td>NA   </td><td>13.1 </td><td>51.9 </td><td>55.0 </td><td>52.3 </td><td>37.0 </td><td>47.9 </td><td>17.8 </td><td>NA   </td><td>NA   </td><td>NA   </td><td>NA   </td><td>NA   </td><td>144.4</td><td>NA   </td></tr>\n",
       "\t<tr><td>1936 </td><td>NA   </td><td>NA   </td><td>NA   </td><td>2.4  </td><td>38.2 </td><td>54.4 </td><td>91.7 </td><td>97.5 </td><td>112.3</td><td>7.6  </td><td>NA   </td><td>NA   </td><td>NA   </td><td>NA   </td><td>NA   </td><td>243.6</td><td>NA   </td></tr>\n",
       "</tbody>\n",
       "</table>\n"
      ],
      "text/latex": [
       "\\begin{tabular}{r|llllllllllllllllll}\n",
       " Year & Jan & Feb & Mar & Apr & May & Jun & Jul & Aug & Sep & Oct & Nov & Dec & Annual & Winter & Spring & Summer & Autumn\\\\\n",
       "\\hline\n",
       "\t 1927  & NA    & NA    & NA    & 36.5  & 15.7  & 13.7  & 103.0 & 65.5  & 86.3  & 16.1  & NA    & NA    & NA    & NA    & NA    & 182.2 & NA   \\\\\n",
       "\t 1928  & NA    & NA    & NA    & 13.3  & 33.3  & 28.3  & 55.8  & 35.0  & 13.9  & 14.2  & 2.6   & NA    & NA    & NA    & NA    & 119.2 & 30.8 \\\\\n",
       "\t 1929  & NA    & NA    & NA    & 13.7  & 12.2  & 23.6  & 81.8  & 28.4  & 62.1  & 1.5   & 22.1  & NA    & NA    & NA    & NA    & 133.7 & 85.8 \\\\\n",
       "\t 1930  & NA    & NA    & NA    & 19.4  & 61.2  & 100.7 & 57.3  & 42.8  & 88.8  & NA    & NA    & NA    & NA    & NA    & NA    & 200.8 & NA   \\\\\n",
       "\t 1931  & NA    & NA    & NA    & NA    & 40.8  & 101.1 & 57.1  & 69.6  & 92.7  & 46.2  & NA    & NA    & NA    & NA    & NA    & 227.7 & NA   \\\\\n",
       "\t 1932  & NA    & NA    & NA    & NA    & 45.9  & 71.3  & 66.7  & 146.6 & 4.4   & NA    & NA    & NA    & NA    & NA    & NA    & 284.6 & NA   \\\\\n",
       "\t 1933  & NA    & NA    & NA    & NA    & 27.1  & 80.3  & 96.6  & 27.0  & 52.3  & NA    & NA    & NA    & NA    & NA    & NA    & 204.0 & NA   \\\\\n",
       "\t 1934  & NA    & NA    & NA    & 25.6  & 38.0  & 123.4 & 69.1  & 19.0  & 20.5  & 25.2  & NA    & NA    & NA    & NA    & NA    & 211.5 & NA   \\\\\n",
       "\t 1935  & NA    & NA    & NA    & 13.1  & 51.9  & 55.0  & 52.3  & 37.0  & 47.9  & 17.8  & NA    & NA    & NA    & NA    & NA    & 144.4 & NA   \\\\\n",
       "\t 1936  & NA    & NA    & NA    & 2.4   & 38.2  & 54.4  & 91.7  & 97.5  & 112.3 & 7.6   & NA    & NA    & NA    & NA    & NA    & 243.6 & NA   \\\\\n",
       "\\end{tabular}\n"
      ],
      "text/markdown": [
       "\n",
       "| Year | Jan | Feb | Mar | Apr | May | Jun | Jul | Aug | Sep | Oct | Nov | Dec | Annual | Winter | Spring | Summer | Autumn |\n",
       "|---|---|---|---|---|---|---|---|---|---|---|---|---|---|---|---|---|---|\n",
       "| 1927  | NA    | NA    | NA    | 36.5  | 15.7  | 13.7  | 103.0 | 65.5  | 86.3  | 16.1  | NA    | NA    | NA    | NA    | NA    | 182.2 | NA    |\n",
       "| 1928  | NA    | NA    | NA    | 13.3  | 33.3  | 28.3  | 55.8  | 35.0  | 13.9  | 14.2  | 2.6   | NA    | NA    | NA    | NA    | 119.2 | 30.8  |\n",
       "| 1929  | NA    | NA    | NA    | 13.7  | 12.2  | 23.6  | 81.8  | 28.4  | 62.1  | 1.5   | 22.1  | NA    | NA    | NA    | NA    | 133.7 | 85.8  |\n",
       "| 1930  | NA    | NA    | NA    | 19.4  | 61.2  | 100.7 | 57.3  | 42.8  | 88.8  | NA    | NA    | NA    | NA    | NA    | NA    | 200.8 | NA    |\n",
       "| 1931  | NA    | NA    | NA    | NA    | 40.8  | 101.1 | 57.1  | 69.6  | 92.7  | 46.2  | NA    | NA    | NA    | NA    | NA    | 227.7 | NA    |\n",
       "| 1932  | NA    | NA    | NA    | NA    | 45.9  | 71.3  | 66.7  | 146.6 | 4.4   | NA    | NA    | NA    | NA    | NA    | NA    | 284.6 | NA    |\n",
       "| 1933  | NA    | NA    | NA    | NA    | 27.1  | 80.3  | 96.6  | 27.0  | 52.3  | NA    | NA    | NA    | NA    | NA    | NA    | 204.0 | NA    |\n",
       "| 1934  | NA    | NA    | NA    | 25.6  | 38.0  | 123.4 | 69.1  | 19.0  | 20.5  | 25.2  | NA    | NA    | NA    | NA    | NA    | 211.5 | NA    |\n",
       "| 1935  | NA    | NA    | NA    | 13.1  | 51.9  | 55.0  | 52.3  | 37.0  | 47.9  | 17.8  | NA    | NA    | NA    | NA    | NA    | 144.4 | NA    |\n",
       "| 1936  | NA    | NA    | NA    | 2.4   | 38.2  | 54.4  | 91.7  | 97.5  | 112.3 | 7.6   | NA    | NA    | NA    | NA    | NA    | 243.6 | NA    |\n",
       "\n"
      ],
      "text/plain": [
       "   Year Jan Feb Mar Apr  May  Jun   Jul   Aug   Sep   Oct  Nov  Dec Annual\n",
       "1  1927 NA  NA  NA  36.5 15.7 13.7  103.0 65.5  86.3  16.1 NA   NA  NA    \n",
       "2  1928 NA  NA  NA  13.3 33.3 28.3  55.8  35.0  13.9  14.2 2.6  NA  NA    \n",
       "3  1929 NA  NA  NA  13.7 12.2 23.6  81.8  28.4  62.1  1.5  22.1 NA  NA    \n",
       "4  1930 NA  NA  NA  19.4 61.2 100.7 57.3  42.8  88.8  NA   NA   NA  NA    \n",
       "5  1931 NA  NA  NA  NA   40.8 101.1 57.1  69.6  92.7  46.2 NA   NA  NA    \n",
       "6  1932 NA  NA  NA  NA   45.9 71.3  66.7  146.6 4.4   NA   NA   NA  NA    \n",
       "7  1933 NA  NA  NA  NA   27.1 80.3  96.6  27.0  52.3  NA   NA   NA  NA    \n",
       "8  1934 NA  NA  NA  25.6 38.0 123.4 69.1  19.0  20.5  25.2 NA   NA  NA    \n",
       "9  1935 NA  NA  NA  13.1 51.9 55.0  52.3  37.0  47.9  17.8 NA   NA  NA    \n",
       "10 1936 NA  NA  NA  2.4  38.2 54.4  91.7  97.5  112.3 7.6  NA   NA  NA    \n",
       "   Winter Spring Summer Autumn\n",
       "1  NA     NA     182.2  NA    \n",
       "2  NA     NA     119.2  30.8  \n",
       "3  NA     NA     133.7  85.8  \n",
       "4  NA     NA     200.8  NA    \n",
       "5  NA     NA     227.7  NA    \n",
       "6  NA     NA     284.6  NA    \n",
       "7  NA     NA     204.0  NA    \n",
       "8  NA     NA     211.5  NA    \n",
       "9  NA     NA     144.4  NA    \n",
       "10 NA     NA     243.6  NA    "
      ]
     },
     "metadata": {},
     "output_type": "display_data"
    }
   ],
   "source": [
    "print(dim(totalPrec_df))\n",
    "head(totalPrec_df, n=10)"
   ]
  },
  {
   "cell_type": "markdown",
   "metadata": {},
   "source": [
    "## Constructing desired Dataframe \n"
   ]
  },
  {
   "cell_type": "markdown",
   "metadata": {},
   "source": [
    "To-DO - remove NAs for machine learning. mlr already does it...but ml wont "
   ]
  },
  {
   "cell_type": "code",
   "execution_count": 419,
   "metadata": {},
   "outputs": [],
   "source": [
    "# Purpose: Load data from cleaning step\n",
    "load_cleaned_data <- function(year_to_start = 1960, month = 'Jan', var_name, file_name, data){\n",
    "  \n",
    "    nom_city <- ns[2]\n",
    "    nom_prov <- unlist(strsplit(ns[3],'.rds'))\n",
    "    ns = matrix(unlist(strsplit(file_name,'_',)),ncol = 3,byrow = TRUE) #name_split \n",
    "    var_names = paste(var_name, collapse = '_')\n",
    "    \n",
    "    # build input data frame. \n",
    "    input_df <- data.frame()\n",
    "    \n",
    "    df_1 <- data[[1]] # 1st dataframe includes target ... \n",
    "\n",
    "    years_greater<-df_1[as.numeric(as.character(df_1$Year))>=year_to_start,]\n",
    "    y_temp <- years_greater %>% select(month) %>% unlist() %>% as.character() %>% as.numeric()\n",
    "#   y_temp <- years_greater %>% select(month) %>% mutate_all(function(x) as.numeric(as.character(x)))\n",
    "    x_1 <- years_greater %>% select('Year') %>% unlist()%>% as.character() %>% as.numeric()  #year always needed to join..could be independent from analysis\n",
    "    \n",
    "    temp_df <- data.frame('y_temp' = y_temp, 'x_year' = x_1)\n",
    "\n",
    "    print(length(data))\n",
    "    if(length(data) > 1){\n",
    "        for (i in 2:length(data)){\n",
    "            feature <- data[[i]] %>% select('Year', month) %>% mutate_all(function(x) as.numeric(as.character(x)))\n",
    "            temp_df <- left_join(temp_df, feature, by = c('x_year' = 'Year'))\n",
    "            names(temp_df)[i+1] <- paste0('x_',var_name[i+1])\n",
    "            print(var_name[i+1])                                                              \n",
    "        }\n",
    "        \n",
    "    }\n",
    "    \n",
    "    temp_df <- data.frame(temp_df, \"city\" = nom_city, \"prov\" = nom_prov, 'var_name' = var_names)\n",
    "                                                            \n",
    "#     input_df <- rbind(input_df, temp_df)\n",
    "    \n",
    "    return(temp_df)\n",
    "}\n",
    "                                                                      "
   ]
  },
  {
   "cell_type": "code",
   "execution_count": 420,
   "metadata": {},
   "outputs": [
    {
     "name": "stdout",
     "output_type": "stream",
     "text": [
      "[1] 2\n"
     ]
    },
    {
     "name": "stderr",
     "output_type": "stream",
     "text": [
      "Warning message in (function (x) :\n",
      "\"NAs introduced by coercion\""
     ]
    },
    {
     "name": "stdout",
     "output_type": "stream",
     "text": [
      "[1] \"totalPrec\"\n"
     ]
    },
    {
     "data": {
      "text/html": [
       "<table>\n",
       "<thead><tr><th scope=col>y_temp</th><th scope=col>x_year</th><th scope=col>x_totalPrec</th><th scope=col>city</th><th scope=col>prov</th><th scope=col>var_name</th></tr></thead>\n",
       "<tbody>\n",
       "\t<tr><td>-17.1                 </td><td>1960                  </td><td> 7.9                  </td><td>FLIN FLON             </td><td>MB                    </td><td>minTemp_year_totalPrec</td></tr>\n",
       "\t<tr><td>-15.5                 </td><td>1961                  </td><td> 4.4                  </td><td>FLIN FLON             </td><td>MB                    </td><td>minTemp_year_totalPrec</td></tr>\n",
       "\t<tr><td>-19.1                 </td><td>1962                  </td><td>22.1                  </td><td>FLIN FLON             </td><td>MB                    </td><td>minTemp_year_totalPrec</td></tr>\n",
       "\t<tr><td>-21.5                 </td><td>1963                  </td><td>25.7                  </td><td>FLIN FLON             </td><td>MB                    </td><td>minTemp_year_totalPrec</td></tr>\n",
       "\t<tr><td>-14.2                 </td><td>1964                  </td><td>43.2                  </td><td>FLIN FLON             </td><td>MB                    </td><td>minTemp_year_totalPrec</td></tr>\n",
       "\t<tr><td>-19.7                 </td><td>1965                  </td><td>17.6                  </td><td>FLIN FLON             </td><td>MB                    </td><td>minTemp_year_totalPrec</td></tr>\n",
       "</tbody>\n",
       "</table>\n"
      ],
      "text/latex": [
       "\\begin{tabular}{r|llllll}\n",
       " y\\_temp & x\\_year & x\\_totalPrec & city & prov & var\\_name\\\\\n",
       "\\hline\n",
       "\t -17.1                      & 1960                       &  7.9                       & FLIN FLON                  & MB                         & minTemp\\_year\\_totalPrec\\\\\n",
       "\t -15.5                      & 1961                       &  4.4                       & FLIN FLON                  & MB                         & minTemp\\_year\\_totalPrec\\\\\n",
       "\t -19.1                      & 1962                       & 22.1                       & FLIN FLON                  & MB                         & minTemp\\_year\\_totalPrec\\\\\n",
       "\t -21.5                      & 1963                       & 25.7                       & FLIN FLON                  & MB                         & minTemp\\_year\\_totalPrec\\\\\n",
       "\t -14.2                      & 1964                       & 43.2                       & FLIN FLON                  & MB                         & minTemp\\_year\\_totalPrec\\\\\n",
       "\t -19.7                      & 1965                       & 17.6                       & FLIN FLON                  & MB                         & minTemp\\_year\\_totalPrec\\\\\n",
       "\\end{tabular}\n"
      ],
      "text/markdown": [
       "\n",
       "| y_temp | x_year | x_totalPrec | city | prov | var_name |\n",
       "|---|---|---|---|---|---|\n",
       "| -17.1                  | 1960                   |  7.9                   | FLIN FLON              | MB                     | minTemp_year_totalPrec |\n",
       "| -15.5                  | 1961                   |  4.4                   | FLIN FLON              | MB                     | minTemp_year_totalPrec |\n",
       "| -19.1                  | 1962                   | 22.1                   | FLIN FLON              | MB                     | minTemp_year_totalPrec |\n",
       "| -21.5                  | 1963                   | 25.7                   | FLIN FLON              | MB                     | minTemp_year_totalPrec |\n",
       "| -14.2                  | 1964                   | 43.2                   | FLIN FLON              | MB                     | minTemp_year_totalPrec |\n",
       "| -19.7                  | 1965                   | 17.6                   | FLIN FLON              | MB                     | minTemp_year_totalPrec |\n",
       "\n"
      ],
      "text/plain": [
       "  y_temp x_year x_totalPrec city      prov var_name              \n",
       "1 -17.1  1960    7.9        FLIN FLON MB   minTemp_year_totalPrec\n",
       "2 -15.5  1961    4.4        FLIN FLON MB   minTemp_year_totalPrec\n",
       "3 -19.1  1962   22.1        FLIN FLON MB   minTemp_year_totalPrec\n",
       "4 -21.5  1963   25.7        FLIN FLON MB   minTemp_year_totalPrec\n",
       "5 -14.2  1964   43.2        FLIN FLON MB   minTemp_year_totalPrec\n",
       "6 -19.7  1965   17.6        FLIN FLON MB   minTemp_year_totalPrec"
      ]
     },
     "metadata": {},
     "output_type": "display_data"
    }
   ],
   "source": [
    "file_name <- \"5050920_FLIN FLON_MB\"\n",
    "meas <- c(\"minTemp\", 'year','totalPrec')\n",
    "# meas <- c(\"minTemp\", 'year')\n",
    "year_to_start <- 1960\n",
    "month <- 'Jan'\n",
    "data <- list(maxTemp_df,totalPrec_df)\n",
    "# data <- list(maxTemp_df)\n",
    "# data[[2]]\n",
    "input_df <- load_cleaned_data(year_to_start,month, meas,file_name, data)\n",
    "head(input_df)"
   ]
  },
  {
   "cell_type": "code",
   "execution_count": 421,
   "metadata": {},
   "outputs": [],
   "source": [
    "regression <- function(input_df){\n",
    "  city_prov_vector <- unique(input_df[,c(\"city\", 'prov')])\n",
    "  city_vector <- city_prov_vector[, 'city']\n",
    "  prov_vector <- city_prov_vector[, 'prov']\n",
    "  var_name <- unique(input_df$var_name)\n",
    "    \n",
    "  print(feature <- input_df%>% select(starts_with('x')) %>% names() )\n",
    "    print(length(feature))\n",
    "  output_df <- data.frame()\n",
    "\n",
    "  \n",
    "\n",
    "  for (i in 1:nrow(city_prov_vector)){\n",
    "    index <- which(input_df$prov==prov_vector[i]\n",
    "                   & input_df$city == city_vector[i])\n",
    "      \n",
    "      if(length(feature) == 1)\n",
    "        fit <- lm(y_temp[index]~x_year[index], data = input_df)\n",
    "        \n",
    "      else if(length(feature) == 2)\n",
    "        fit <- lm(y_temp[index]~input_df[,feature[1]][index]+input_df[,feature[2]][index], data = input_df)\n",
    "\n",
    "    b <- data.frame(\"intercept\" = fit$coefficients[1], \"slope\" = fit$coefficients[2])\n",
    "    R_2 <- data.frame(\"r.squared\" = as.numeric(unlist(summary(fit)$r.squared)))\n",
    "    # CIs <- ci(fit, 0.95, alpha=1-0.95, na.rm = TRUE)\n",
    "    critical_value <- qt((1-0.95)/2, (nrow(fit$model)-1))\n",
    "    standard_error <- summary(fit)$coef[,2][2]\n",
    "    margin_error <- critical_value*standard_error\n",
    "    estimate <- summary(fit)$coef[,1][2]\n",
    "    CI_lower <-  estimate + margin_error\n",
    "    CI_upper <- estimate - margin_error\n",
    "    variance <- (standard_error)^2\n",
    "    curr_results_df <- data.frame(\"city\"=city_vector[i],'prov' = prov_vector[i],  \n",
    "                                  b,\"r.squared\"=R_2,CI_lower, CI_upper,variance,\n",
    "                                  \"n\"=nrow(fit$model), 'var_name' = var_name,  row.names = NULL)\n",
    "    output_df <- rbind(output_df,curr_results_df)\n",
    "  }\n",
    "  return(output_df)\n",
    "}"
   ]
  },
  {
   "cell_type": "code",
   "execution_count": 422,
   "metadata": {},
   "outputs": [
    {
     "name": "stdout",
     "output_type": "stream",
     "text": [
      "[1] \"x_year\"      \"x_totalPrec\"\n",
      "[1] 2\n",
      "[1] \"im here 2\"\n"
     ]
    },
    {
     "data": {
      "text/html": [
       "<table>\n",
       "<thead><tr><th scope=col>city</th><th scope=col>prov</th><th scope=col>intercept</th><th scope=col>slope</th><th scope=col>r.squared</th><th scope=col>CI_lower</th><th scope=col>CI_upper</th><th scope=col>variance</th><th scope=col>n</th><th scope=col>var_name</th></tr></thead>\n",
       "<tbody>\n",
       "\t<tr><td>FLIN FLON             </td><td>MB                    </td><td>-230.6669             </td><td>0.1082407             </td><td>0.2048238             </td><td>0.04992736            </td><td>0.1665539             </td><td>0.0008473617          </td><td>57                    </td><td>minTemp_year_totalPrec</td></tr>\n",
       "</tbody>\n",
       "</table>\n"
      ],
      "text/latex": [
       "\\begin{tabular}{r|llllllllll}\n",
       " city & prov & intercept & slope & r.squared & CI\\_lower & CI\\_upper & variance & n & var\\_name\\\\\n",
       "\\hline\n",
       "\t FLIN FLON                  & MB                         & -230.6669                  & 0.1082407                  & 0.2048238                  & 0.04992736                 & 0.1665539                  & 0.0008473617               & 57                         & minTemp\\_year\\_totalPrec\\\\\n",
       "\\end{tabular}\n"
      ],
      "text/markdown": [
       "\n",
       "| city | prov | intercept | slope | r.squared | CI_lower | CI_upper | variance | n | var_name |\n",
       "|---|---|---|---|---|---|---|---|---|---|\n",
       "| FLIN FLON              | MB                     | -230.6669              | 0.1082407              | 0.2048238              | 0.04992736             | 0.1665539              | 0.0008473617           | 57                     | minTemp_year_totalPrec |\n",
       "\n"
      ],
      "text/plain": [
       "  city      prov intercept slope     r.squared CI_lower   CI_upper \n",
       "1 FLIN FLON MB   -230.6669 0.1082407 0.2048238 0.04992736 0.1665539\n",
       "  variance     n  var_name              \n",
       "1 0.0008473617 57 minTemp_year_totalPrec"
      ]
     },
     "metadata": {},
     "output_type": "display_data"
    }
   ],
   "source": [
    "output_df <- regression(input_df)\n",
    "output_df"
   ]
  },
  {
   "cell_type": "markdown",
   "metadata": {},
   "source": [
    "    city\tprov\tintercept\tslope\tr.squared\tCI_lower\tCI_upper\tvariance\t    n\tvar_name\n",
    "FLIN FLON\tMB\t-225.9276\t0.1056723\t0.2013154\t0.04934987\t0.1619947\t0.0007911016\t58\tminTemp_year\n",
    "\n",
    "\n",
    "    city\tprov\tintercept\tslope\tr.squared\tCI_lower\tCI_upper\tvariance\t     n\tvar_name\n",
    "FLIN FLON\tMB\t-230.6669\t0.1082407\t0.2048238\t0.04992736\t0.1665539\t0.0008473617\t57\tminTemp_year_totalPrec\n",
    "\n"
   ]
  },
  {
   "cell_type": "markdown",
   "metadata": {},
   "source": [
    "## Saving files under new names and new and directories\n",
    "Extracting the station number, city and province for file name use. "
   ]
  },
  {
   "cell_type": "code",
   "execution_count": 31,
   "metadata": {},
   "outputs": [
    {
     "data": {
      "text/html": [
       "'230N002'"
      ],
      "text/latex": [
       "'230N002'"
      ],
      "text/markdown": [
       "'230N002'"
      ],
      "text/plain": [
       "[1] \"230N002\""
      ]
     },
     "metadata": {},
     "output_type": "display_data"
    },
    {
     "data": {
      "text/html": [
       "'LUPIN'"
      ],
      "text/latex": [
       "'LUPIN'"
      ],
      "text/markdown": [
       "'LUPIN'"
      ],
      "text/plain": [
       "[1] \"LUPIN\""
      ]
     },
     "metadata": {},
     "output_type": "display_data"
    },
    {
     "data": {
      "text/html": [
       "'NU'"
      ],
      "text/latex": [
       "'NU'"
      ],
      "text/markdown": [
       "'NU'"
      ],
      "text/plain": [
       "[1] \"NU\""
      ]
     },
     "metadata": {},
     "output_type": "display_data"
    }
   ],
   "source": [
    "df = read.delim('R/Data/Homog_monthly_max_temp/mx230N002.txt', skip = 0, header = FALSE, as.is=TRUE, dec=\".\", sep = \",\", na.strings=c(\" \", \"\",'NA'), strip.white = TRUE)\n",
    "\n",
    "(station_number <- select(df, V1)[1,1])\n",
    "(city <- select(df, V2)[1,1])\n",
    "(province <- select(df, V3)[1,1])\n"
   ]
  },
  {
   "cell_type": "code",
   "execution_count": 32,
   "metadata": {},
   "outputs": [
    {
     "data": {
      "text/html": [
       "'230N002_LUPIN_NU'"
      ],
      "text/latex": [
       "'230N002\\_LUPIN\\_NU'"
      ],
      "text/markdown": [
       "'230N002_LUPIN_NU'"
      ],
      "text/plain": [
       "[1] \"230N002_LUPIN_NU\""
      ]
     },
     "metadata": {},
     "output_type": "display_data"
    }
   ],
   "source": [
    "stationNum_city_prov <- paste(select(df, V1)[1,1], trimws(select(df, V2)[1,1]), province <- select(df, V3)[1,1], sep='_')\n",
    "stationNum_city_prov"
   ]
  },
  {
   "cell_type": "markdown",
   "metadata": {},
   "source": [
    "## Result \n",
    "\n",
    "338 text files were cleaned, per directory\n",
    "* Directories: Homog_monthly_min_temp, Homog_monthly_max_temp, Homog_monthly_mean_temp\n",
    "\n",
    "As shown above, new text files and directories are created\n",
    "* New Directories: Homog_monthly_min_temp_cleaned, Homog_monthly_max_temp_cleaned, Homog_monthly_mean_temp_cleaned\n",
    "\n",
    " "
   ]
  },
  {
   "cell_type": "markdown",
   "metadata": {},
   "source": [
    "## Intended use \n",
    "All data is cleaned prior to the shinyApp being used. The cleaned data is reloaded and processed into a single data frame on app load. \n",
    "\n",
    "\n",
    "### Input data frame. \n",
    "Depending on the month and year the user selects, the data is trimmed before any statistical method.\n",
    "\n",
    "\n",
    "![input df](input_df.PNG)\n",
    "\n",
    "### Output data frame. \n",
    "After the desired statistical analysis, we shift our focus to different variables and a new data frame.\n",
    "\n",
    "\n",
    "![output df](output_df.PNG)"
   ]
  },
  {
   "cell_type": "markdown",
   "metadata": {},
   "source": [
    "## In conclusion, the data does not appear to have many challenges. The ease and use of the tidy verse package, is one that can be consistently used. Helping many, understand the data they are dealing with."
   ]
  }
 ],
 "metadata": {
  "kernelspec": {
   "display_name": "R",
   "language": "R",
   "name": "ir"
  },
  "language_info": {
   "codemirror_mode": "r",
   "file_extension": ".r",
   "mimetype": "text/x-r-source",
   "name": "R",
   "pygments_lexer": "r",
   "version": "3.6.1"
  }
 },
 "nbformat": 4,
 "nbformat_minor": 4
}
